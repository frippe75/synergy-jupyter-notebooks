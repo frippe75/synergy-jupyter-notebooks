{
 "cells": [
  {
   "cell_type": "markdown",
   "metadata": {},
   "source": [
    "# Welcome to the Synergy Single Frame with Image Streamer POC\n",
    "Created by Fredrik Tärnell - 2019-02-29<br>\n",
    "\n",
    "Jupyter Notebooks can be found: https://github.com/frippe75/synergy-jupyter-notebooks<br>\n",
    "Together with a Docker image with all dependencies inluded and a quickstart guide.\n",
    "\n",
    "\n",
    "### API information\n",
    "\n",
    "http://h17007.www1.hpe.com/docs/enterprise/servers/oneview4.1/cic-api/en/index.html <br>\n",
    "\n",
    "\n",
    "### Python specific\n",
    "https://hewlettpackard.github.io/python-hpOneView/index.html<br>\n",
    "https://github.com/HewlettPackard/python-hpOneView<br>\n",
    "\n",
    "## Table of content\n",
    "\n",
    "- **[Dependencies and logging in](#Dependencies)**<br>\n",
    "   + [Import the Python OneView library](#Import)<br>\n",
    "   + [YAML file or embedded document](#YAML)<br>\n",
    "   + [Login against Oneview](#Login)<br>\n",
    "   \n",
    "- **[Settings](#Setting)**<br>\n",
    "   + [Addresses and Indentifiers](#Address-identifiers)<br>\n",
    "   + [Networks](#Networks)<br>\n",
    "\n",
    "- **[Storage](#Storage)**<br>\n",
    "   + [SAN Managers](#SANMgr)<br> \n",
    "   + [Storage Systems](#StorageSystems)<br> \n",
    "   \n",
    "\n",
    "\n",
    "  <br> \n",
    "- **[Server Profiles](#SP)**<br>\n",
    "   + [Power On/Off all Profiles](#SP-power)<br>\n",
    "   + [Delete all Profiles](#SP-delete)<br>\n",
    "- **[Server Profiles Templates](#SPT)**<br>\n",
    "   + [Delete all Profiles Templates](#SPT-delete)<br>\n",
    "- **[Appliances](#Appliances)**<br>\n",
    "   + [eFuse Composer / Image Streamer](#Appliance-efuse)<br>\n",
    "\n",
    "<br><br><br>\n",
    "# Dependencies and logging in <a name=\"Dependencies\"></a>\n"
   ]
  },
  {
   "cell_type": "markdown",
   "metadata": {},
   "source": [
    "\n",
    "### Import the Python OneView library with some additional dependencies for this playbook <a name=\"Import\"></a>"
   ]
  },
  {
   "cell_type": "code",
   "execution_count": 8,
   "metadata": {
    "code_folding": [
     10
    ]
   },
   "outputs": [],
   "source": [
    "# Mandatory ones\n",
    "from hpOneView.oneview_client import OneViewClient\n",
    "from hpOneView.exceptions import HPOneViewException\n",
    "\n",
    "# Nice to haves for the demo\n",
    "import pandas, yaml\n",
    "from IPython.display import display, Markdown\n",
    "from pprint import pprint\n",
    "\n",
    "poc_file = None\n",
    "\n",
    "# Simple helper function to make nicer tables using markdown and the pandas lib\n",
    "# TODO: get it into helper module that gets imported above \n",
    "def my_table(source=dict(), resource=\"Resource\", columns='name'):\n",
    "    data = pandas.DataFrame.from_dict(source)\n",
    "    table = data.to_html(index=False,header=True,columns=columns)\n",
    "    \n",
    "    display(Markdown('### ' + resource + ' in Synergy Composer at https://' + config['ip']))\n",
    "    display(Markdown(table))"
   ]
  },
  {
   "cell_type": "markdown",
   "metadata": {},
   "source": [
    "### Configure your environment\n",
    "**Please note:** that if you use the option below to get the YAML doc from a file the config dict will be overwritten by the config from the file. During the login, check that you are logged in against the correct Oneview instance"
   ]
  },
  {
   "cell_type": "code",
   "execution_count": 2,
   "metadata": {},
   "outputs": [],
   "source": [
    "composer_ip = \"synergy.hpedemo.local\"\n",
    "config = {\n",
    "    \"api_version\": \"800\",\n",
    "    \"ip\": composer_ip,\n",
    "    \"credentials\": {\n",
    "        \"userName\": \"Administrator\",\n",
    "        \"authLoginDomain\": \"local\",\n",
    "        \"password\": \"HPEc0nverged!\"\n",
    "    }\n",
    "}"
   ]
  },
  {
   "cell_type": "markdown",
   "metadata": {},
   "source": [
    "### YAML file or embedded document <a name=\"YAML\"></a>\n",
    "Determine wheter to load the YAML doc from a variable or file<br>\n",
    "Setting the filename takes precedence over variable"
   ]
  },
  {
   "cell_type": "code",
   "execution_count": 9,
   "metadata": {},
   "outputs": [
    {
     "name": "stdout",
     "output_type": "stream",
     "text": [
      "\n",
      "Oneview endpoint config was found and is used. Removing it to avoid displaying passwords\n",
      "\n",
      "SANManagers:\n",
      "- authProtocol: MD5\n",
      "  ip: 172.18.20.1\n",
      "  password: dcsdcsdcs\n",
      "  securityLevel: Authentication\n",
      "  type: Cisco\n",
      "  userName: dcs-MD5\n",
      "addresses:\n",
      "- dnsServers:\n",
      "  - 10.10.20.1\n",
      "  domain: synergy.local\n",
      "  gateway: 10.10.20.1\n",
      "  networkId: 10.10.20.0\n",
      "  range:\n",
      "    endAddress: 10.10.21.199\n",
      "    name: LE-G2\n",
      "    startAddress: 10.10.21.133\n",
      "  subnetmask: 255.255.252.0\n",
      "- networkId: 192.168.10.0\n",
      "  range:\n",
      "    endAddress: 192.168.10.100\n",
      "    name: iSCSI-boot\n",
      "    startAddress: 192.168.10.10\n",
      "  subnetmask: 255.255.255.0\n",
      "enclosureGroups:\n",
      "- ligs:\n",
      "  - name: My-VC-01\n",
      "  - name: My-SAS-01\n",
      "  name: My-EG-01\n",
      "logicalInterconnectGroups:\n",
      "- baySet: 3\n",
      "  name: My-VC-01\n",
      "- baySet: 1\n",
      "  name: My-SAS-01\n",
      "networks:\n",
      "- association: 10.10.20.0\n",
      "  name: Mgmt_100\n",
      "  purpose: Management\n",
      "  vlanId: 100\n",
      "- association: 192.168.10.0\n",
      "  name: ImageStreamer-Boot\n",
      "  purpose: ISCSI\n",
      "  vlanId: 3001\n",
      "osDeploymentServers:\n",
      "- description: My First deploy\n",
      "  mgmtNetwork: Mgmt_100\n",
      "  name: OS-Deploy01\n",
      "storageSystems:\n",
      "- family: StoreServ\n",
      "  hostname: 10.10.20.20\n",
      "  password: 3pardata\n",
      "  username: 3paradm\n",
      "\n"
     ]
    },
    {
     "name": "stderr",
     "output_type": "stream",
     "text": [
      "/opt/conda/lib/python3.7/site-packages/ipykernel_launcher.py:52: YAMLLoadWarning: calling yaml.load() without Loader=... is deprecated, as the default Loader is unsafe. Please read https://msg.pyyaml.org/load for full details.\n"
     ]
    }
   ],
   "source": [
    "# Comment out to use the poc_file to allow the embedded poc_doc to be used\n",
    "poc_file = \"synergy-masters.yaml\"\n",
    "\n",
    "# Example YAML stucture for allowing Addresses and Indentifiers part work without a file\n",
    "poc_doc = \"\"\"\n",
    "---\n",
    "  addresses:\n",
    "    # Synergy Management \n",
    "    - networkId: 10.48.0.0\n",
    "      subnetmask: 255.255.255.0\n",
    "      gateway: 10.48.0.1\n",
    "      domain: hpedemo.local\n",
    "      dnsServers: \n",
    "        - 10.48.10.4\n",
    "        - 10.48.10.6\n",
    "      range:\n",
    "        name: LE-POC-01\n",
    "        startAddress: 10.48.0.104\n",
    "        endAddress: 10.48.0.124\n",
    "    # Image Streamer iSCSI \n",
    "    - networkId: 192.168.10.0\n",
    "      subnetmask: 255.255.255.0\n",
    "      range:\n",
    "        name: iSCSI-boot\n",
    "        startAddress: 192.168.10.10\n",
    "        endAddress: 192.168.10.100\n",
    "    # VMware Mgmt \n",
    "    - networkId: 10.48.10.0\n",
    "      subnetmask: 255.255.255.0\n",
    "      gateway: 10.48.10.1\n",
    "      domain: hpedemo.local\n",
    "      dnsServers: \n",
    "        - 10.48.10.4\n",
    "        - 10.48.10.6\n",
    "      range:\n",
    "        name: LE-POC-01\n",
    "        startAddress: 10.48.10.70\n",
    "        endAddress: 10.48.10.79\n",
    "    # vMotion \n",
    "    - networkId: 192.168.20.0\n",
    "      subnetmask: 255.255.255.0\n",
    "      range:\n",
    "        name: vMotion\n",
    "        startAddress: 192.168.20.10\n",
    "        endAddress: 192.168.20.100\n",
    "\"\"\"\n",
    "# load/parse the YAML doc into a variable\n",
    "if poc_file is not None:\n",
    "    with open(poc_file) as f:\n",
    "        poc_doc = f.read()\n",
    "    # print(poc_doc)\n",
    "    poc = yaml.load(poc_doc)\n",
    "    # Check if Oneview config key is part of the YAML file and use that for logging in.\n",
    "    if 'config' in poc:\n",
    "        print(\"\\nOneview endpoint config was found and is used. Removing it to avoid displaying passwords\\n\")\n",
    "        config = poc.pop('config', None)\n",
    "else:\n",
    "    poc = yaml.load(poc_doc)\n",
    "    \n",
    "# Print it out for sanitycheck\n",
    "print (yaml.dump(poc))"
   ]
  },
  {
   "cell_type": "markdown",
   "metadata": {},
   "source": [
    "<br><br>\n",
    "## Login against the Appliance / Composer instance: <a name=\"Login\"></a>\n",
    "Create new object \"ov\" with the config (see above) using the JSON config dict above"
   ]
  },
  {
   "cell_type": "code",
   "execution_count": 10,
   "metadata": {
    "scrolled": true
   },
   "outputs": [
    {
     "name": "stdout",
     "output_type": "stream",
     "text": [
      "\n",
      "Logged in against 10.10.21.110 successfully\n",
      "\n"
     ]
    }
   ],
   "source": [
    "try:\n",
    "    ov = OneViewClient(config)\n",
    "    print(\"\\nLogged in against \" + config['ip'] + \" successfully\\n\")\n",
    "except HPOneViewException as e:\n",
    "    print(\"\\nLogged in failed:\")\n",
    "    print(e.msg)"
   ]
  },
  {
   "cell_type": "markdown",
   "metadata": {},
   "source": [
    "<br><br>\n",
    "# Settings  <a name=\"Settings\"></a>\n",
    "## Addresses and Indentifiers  <a name=\"Address-identifiers\"></a>\n",
    "Here we define required networks for both Synergy Management network as well as Image Streamer iSCSi boot network and VMware vMotion."
   ]
  },
  {
   "cell_type": "code",
   "execution_count": 5,
   "metadata": {},
   "outputs": [
    {
     "name": "stderr",
     "output_type": "stream",
     "text": [
      "/opt/conda/lib/python3.7/site-packages/ipykernel_launcher.py:2: YAMLLoadWarning: calling yaml.load() without Loader=... is deprecated, as the default Loader is unsafe. Please read https://msg.pyyaml.org/load for full details.\n",
      "  \n"
     ]
    },
    {
     "name": "stdout",
     "output_type": "stream",
     "text": [
      "Create IPv4 subnet 10.10.20.0 for id pools\n",
      "Warning: The subnet for Network ID - 10.10.20.0 and Subnet Mask - 255.255.252.0 is overlapping with the subnet for Network ID - 10.10.20.0 and Subnet Mask - 255.255.252.0.\n",
      "\n",
      "Create IPv4 subnet 192.168.10.0 for id pools\n",
      "Creating an IPv4 Range for id pools\n",
      "\n",
      "\n",
      "Getting all IPv4 subnets...\n"
     ]
    },
    {
     "data": {
      "text/markdown": [
       "### Subnets in Synergy Composer at https://10.10.21.110"
      ],
      "text/plain": [
       "<IPython.core.display.Markdown object>"
      ]
     },
     "metadata": {},
     "output_type": "display_data"
    },
    {
     "data": {
      "text/markdown": [
       "<table border=\"1\" class=\"dataframe\">\n",
       "  <thead>\n",
       "    <tr style=\"text-align: right;\">\n",
       "      <th>name</th>\n",
       "      <th>networkId</th>\n",
       "      <th>subnetmask</th>\n",
       "      <th>domain</th>\n",
       "      <th>gateway</th>\n",
       "    </tr>\n",
       "  </thead>\n",
       "  <tbody>\n",
       "    <tr>\n",
       "      <td>10.10.20.0</td>\n",
       "      <td>10.10.20.0</td>\n",
       "      <td>255.255.252.0</td>\n",
       "      <td>synergy.local</td>\n",
       "      <td>10.10.20.1</td>\n",
       "    </tr>\n",
       "    <tr>\n",
       "      <td>192.168.10.0</td>\n",
       "      <td>192.168.10.0</td>\n",
       "      <td>255.255.255.0</td>\n",
       "      <td>None</td>\n",
       "      <td>None</td>\n",
       "    </tr>\n",
       "  </tbody>\n",
       "</table>"
      ],
      "text/plain": [
       "<IPython.core.display.Markdown object>"
      ]
     },
     "metadata": {},
     "output_type": "display_data"
    }
   ],
   "source": [
    "# Need to reload/parse the YAML doc again since the options.pop mutates the existing dictionary so the contents of the dictionary changes \n",
    "poc = yaml.load(poc_doc)\n",
    "\n",
    "# Loop over the addresses array and create subnets and ranges\n",
    "if 'addresses' in poc:\n",
    "    for options in poc['addresses']:\n",
    "\n",
    "        options.update({\n",
    "            \"type\": \"Subnet\",\n",
    "            \"name\": options['networkId']\n",
    "        })\n",
    "        # Remove/extract  the range key since it does not belong there.\n",
    "        range_option = options.pop('range', None)\n",
    "        #pprint(options)  \n",
    "\n",
    "        try:\n",
    "            print(\"Create IPv4 subnet \" + options['networkId'] +\" for id pools\")\n",
    "            ipv4_subnet = ov.id_pools_ipv4_subnets.create(options)\n",
    "\n",
    "            #pprint(range_option)\n",
    "\n",
    "            range_option.update({\n",
    "                \"type\": \"Range\",\n",
    "                \"rangeCategory\": \"Custom\",\n",
    "                \"subnetUri\": ipv4_subnet['uri']\n",
    "            })\n",
    "            print(\"Creating an IPv4 Range for id pools\\n\")\n",
    "            ipv4_range = ov.id_pools_ipv4_ranges.create(range_option)\n",
    "            # pprint(ipv4_range)\n",
    "        except HPOneViewException as e:\n",
    "            print(\"Warning: \" + e.msg + \"\\n\")\n",
    "else:\n",
    "    print(\"No Addresses in the poc dict. Nothing created!\")    \n",
    "    \n",
    "print(\"\\nGetting all IPv4 subnets...\")\n",
    "all_subnets = ov.id_pools_ipv4_subnets.get_all()\n",
    "\n",
    "#pprint(all_subnets)\n",
    "\n",
    "my_table(all_subnets, resource=\"Subnets\", columns=['name','networkId','subnetmask','domain','gateway'])"
   ]
  },
  {
   "cell_type": "markdown",
   "metadata": {},
   "source": [
    "<br><br>\n",
    "## Networks  <a name=\"Networks\"></a>"
   ]
  },
  {
   "cell_type": "code",
   "execution_count": 6,
   "metadata": {},
   "outputs": [
    {
     "name": "stderr",
     "output_type": "stream",
     "text": [
      "/opt/conda/lib/python3.7/site-packages/ipykernel_launcher.py:2: YAMLLoadWarning: calling yaml.load() without Loader=... is deprecated, as the default Loader is unsafe. Please read https://msg.pyyaml.org/load for full details.\n",
      "  \n"
     ]
    },
    {
     "name": "stdout",
     "output_type": "stream",
     "text": [
      "\n",
      "Creating ethernet network ImageStreamer-Boot\n",
      "Created succesfully.\n",
      "\n",
      "Getting all IPv4 networks...\n"
     ]
    },
    {
     "data": {
      "text/markdown": [
       "### Networks in Synergy Composer at https://10.10.21.110"
      ],
      "text/plain": [
       "<IPython.core.display.Markdown object>"
      ]
     },
     "metadata": {},
     "output_type": "display_data"
    },
    {
     "data": {
      "text/markdown": [
       "<table border=\"1\" class=\"dataframe\">\n",
       "  <thead>\n",
       "    <tr style=\"text-align: right;\">\n",
       "      <th>name</th>\n",
       "      <th>description</th>\n",
       "      <th>vlanId</th>\n",
       "      <th>uri</th>\n",
       "      <th>purpose</th>\n",
       "    </tr>\n",
       "  </thead>\n",
       "  <tbody>\n",
       "    <tr>\n",
       "      <td>Net_13</td>\n",
       "      <td>None</td>\n",
       "      <td>13</td>\n",
       "      <td>/rest/ethernet-networks/04587364-71bc-4123-825...</td>\n",
       "      <td>General</td>\n",
       "    </tr>\n",
       "    <tr>\n",
       "      <td>Net_20</td>\n",
       "      <td>None</td>\n",
       "      <td>20</td>\n",
       "      <td>/rest/ethernet-networks/0af1a292-3e3a-4153-966...</td>\n",
       "      <td>General</td>\n",
       "    </tr>\n",
       "    <tr>\n",
       "      <td>Net_14</td>\n",
       "      <td>None</td>\n",
       "      <td>14</td>\n",
       "      <td>/rest/ethernet-networks/1ba54684-2385-4602-a8a...</td>\n",
       "      <td>General</td>\n",
       "    </tr>\n",
       "    <tr>\n",
       "      <td>Net_19</td>\n",
       "      <td>None</td>\n",
       "      <td>19</td>\n",
       "      <td>/rest/ethernet-networks/374ec04d-822e-4fbb-9cb...</td>\n",
       "      <td>General</td>\n",
       "    </tr>\n",
       "    <tr>\n",
       "      <td>Net_12</td>\n",
       "      <td>None</td>\n",
       "      <td>12</td>\n",
       "      <td>/rest/ethernet-networks/5d06575a-43d6-4a94-888...</td>\n",
       "      <td>General</td>\n",
       "    </tr>\n",
       "    <tr>\n",
       "      <td>Net_1020</td>\n",
       "      <td>None</td>\n",
       "      <td>1020</td>\n",
       "      <td>/rest/ethernet-networks/6cb4b496-a50e-4c74-9ad...</td>\n",
       "      <td>General</td>\n",
       "    </tr>\n",
       "    <tr>\n",
       "      <td>Net_18</td>\n",
       "      <td>None</td>\n",
       "      <td>18</td>\n",
       "      <td>/rest/ethernet-networks/98803094-1ddf-4b39-98e...</td>\n",
       "      <td>General</td>\n",
       "    </tr>\n",
       "    <tr>\n",
       "      <td>Net_16</td>\n",
       "      <td>None</td>\n",
       "      <td>16</td>\n",
       "      <td>/rest/ethernet-networks/9a696465-363a-4c36-b16...</td>\n",
       "      <td>General</td>\n",
       "    </tr>\n",
       "    <tr>\n",
       "      <td>ImageStreamer-Boot</td>\n",
       "      <td>None</td>\n",
       "      <td>3001</td>\n",
       "      <td>/rest/ethernet-networks/9b261663-a359-4291-95e...</td>\n",
       "      <td>ISCSI</td>\n",
       "    </tr>\n",
       "    <tr>\n",
       "      <td>Net_15</td>\n",
       "      <td>None</td>\n",
       "      <td>15</td>\n",
       "      <td>/rest/ethernet-networks/a247beb9-218f-43c9-870...</td>\n",
       "      <td>General</td>\n",
       "    </tr>\n",
       "    <tr>\n",
       "      <td>Net_17</td>\n",
       "      <td>None</td>\n",
       "      <td>17</td>\n",
       "      <td>/rest/ethernet-networks/aa27fcef-1fc3-4d9c-aa1...</td>\n",
       "      <td>General</td>\n",
       "    </tr>\n",
       "    <tr>\n",
       "      <td>Net_11</td>\n",
       "      <td>None</td>\n",
       "      <td>11</td>\n",
       "      <td>/rest/ethernet-networks/c5e06b30-38ce-4610-aba...</td>\n",
       "      <td>General</td>\n",
       "    </tr>\n",
       "    <tr>\n",
       "      <td>Mgmt_100</td>\n",
       "      <td>None</td>\n",
       "      <td>100</td>\n",
       "      <td>/rest/ethernet-networks/d3fd090a-91f2-4a50-af3...</td>\n",
       "      <td>Management</td>\n",
       "    </tr>\n",
       "  </tbody>\n",
       "</table>"
      ],
      "text/plain": [
       "<IPython.core.display.Markdown object>"
      ]
     },
     "metadata": {},
     "output_type": "display_data"
    }
   ],
   "source": [
    "# Need to reload/parse the YAML doc again since the options.pop mutates the existing dictionary so the contents of the dictionary changes \n",
    "poc = yaml.load(poc_doc)\n",
    "\n",
    "# My defaults\n",
    "defaults = {\n",
    "    \"ethernetNetworkType\": \"Tagged\",\n",
    "    \"purpose\": \"General\",\n",
    "    \"smartLink\": True,\n",
    "    \"privateNetwork\": False,\n",
    "    \"type\" : \"ethernet-networkV4\",\n",
    "    \"connectionTemplateUri\": None,\n",
    "    #\"bandwidth\": {\n",
    "    #    \"maximumBandwidth\": 10000,\n",
    "    #    \"typicalBandwidth\": 2000\n",
    "    #}\n",
    "}\n",
    "\n",
    "# Loop over the addresses array and create subnets and ranges\n",
    "if 'networks' in poc:\n",
    "    for options in poc['networks']:\n",
    "\n",
    "        # Remove/extract the association key since it does not belong there.\n",
    "        association_subnet_id = options.pop('association', None)\n",
    "        if association_subnet_id is not None:\n",
    "            # TODO: This uses the get_all which returns an array. Best option is to use get(ID) but that is not implemented \n",
    "            #       for resource subnet properly. Doc indicates it should.\n",
    "            subnet = ov.id_pools_ipv4_subnets.get_all(filter='networkId=\"' + association_subnet_id + '\"')\n",
    "            subnet_uri = subnet[0]['uri']\n",
    "            # print(subnet_uri)\n",
    "            options.update({\"subnetUri\": subnet_uri})\n",
    "\n",
    "        # Merge with defaults new style of dictonary unpacking since Python 3.5 https://treyhunner.com/2016/02/how-to-merge-dictionaries-in-python/\n",
    "        net_options = {**defaults, **options}\n",
    "        # pprint(\"\\n\" + net_options)  \n",
    "\n",
    "        try:\n",
    "            print(\"\\nCreating ethernet network \" + net_options['name'] )\n",
    "            ethernet_network = ov.ethernet_networks.create(net_options)\n",
    "            print(\"Created succesfully.\")\n",
    "        except HPOneViewException as e:\n",
    "            print(\"Error during creation of: \" + net_options['name'])\n",
    "            print(e.msg)      \n",
    "else:\n",
    "    print(\"No Networks in the poc dict. Nothing created!\")\n",
    "        \n",
    "print(\"\\nGetting all IPv4 networks...\")\n",
    "all_nets = ov.ethernet_networks.get_all()\n",
    "\n",
    "#pprint(all_nets)        \n",
    "my_table(all_nets, resource=\"Networks\", columns=['name','description','vlanId','uri','purpose'])    "
   ]
  },
  {
   "cell_type": "markdown",
   "metadata": {},
   "source": [
    "<br><br>\n",
    "## SAN Managers  <a name=\"SANMgr\"></a>\n",
    "This part is pretty much a copy from the pythonOneview examples<br>\n",
    "https://github.com/HewlettPackard/python-hpOneView/blob/master/examples/san_managers.py<br>\n",
    "<br>\n",
    "Difference being it uses the YAML structure to created the listed resources as well as takes care of specifying defaults when needed.\n"
   ]
  },
  {
   "cell_type": "code",
   "execution_count": 29,
   "metadata": {
    "code_folding": []
   },
   "outputs": [
    {
     "name": "stdout",
     "output_type": "stream",
     "text": [
      "Adding SAN Manager 172.18.20.1of type Cisco\n",
      "Error during creation of SAN Manager: 172.18.20.1\n",
      "Duplicate SAN manager '172.18.20.1' at '/rest/fc-sans/device-managers/16eb8a22-c055-49d9-996e-aa05009c8518' is already imported.\n",
      "Adding SAN Manager 172.18.20.2of type Cisco\n",
      "Error during creation of SAN Manager: 172.18.20.2\n",
      "Duplicate SAN manager '172.18.20.2' at '/rest/fc-sans/device-managers/43aed419-37d4-43d3-8b67-aa05009c88b5' is already imported.\n",
      "\n",
      "Getting all SAN Managers...\n"
     ]
    },
    {
     "data": {
      "text/markdown": [
       "### SAN Managers in Synergy Composer at https://syn420-dcs.hpedemo.local"
      ],
      "text/plain": [
       "<IPython.core.display.Markdown object>"
      ]
     },
     "metadata": {},
     "output_type": "display_data"
    },
    {
     "data": {
      "text/markdown": [
       "<table border=\"1\" class=\"dataframe\">\n",
       "  <thead>\n",
       "    <tr style=\"text-align: right;\">\n",
       "      <th>deviceManagerUrl</th>\n",
       "      <th>deviceManagerVersion</th>\n",
       "      <th>description</th>\n",
       "      <th>providerDisplayName</th>\n",
       "      <th>state</th>\n",
       "      <th>status</th>\n",
       "    </tr>\n",
       "  </thead>\n",
       "  <tbody>\n",
       "    <tr>\n",
       "      <td>172.18.20.1</td>\n",
       "      <td>6.2(5)</td>\n",
       "      <td>MDS 9250i 40 FC 2 IPS 8 FCoE (1 Slot) Chassis</td>\n",
       "      <td>Cisco</td>\n",
       "      <td>Managed</td>\n",
       "      <td>OK</td>\n",
       "    </tr>\n",
       "    <tr>\n",
       "      <td>172.18.20.2</td>\n",
       "      <td>6.2(5)</td>\n",
       "      <td>MDS 9250i 40 FC 2 IPS 8 FCoE (1 Slot) Chassis</td>\n",
       "      <td>Cisco</td>\n",
       "      <td>Managed</td>\n",
       "      <td>OK</td>\n",
       "    </tr>\n",
       "  </tbody>\n",
       "</table>"
      ],
      "text/plain": [
       "<IPython.core.display.Markdown object>"
      ]
     },
     "metadata": {},
     "output_type": "display_data"
    }
   ],
   "source": [
    "# Need to reload/parse the YAML doc again since the options.pop mutates the existing dictionary so the contents of the dictionary changes \n",
    "poc = yaml.load(poc_doc)\n",
    "\n",
    "# Loop over the addresses array and create subnets and ranges\n",
    "if 'networks' in poc:\n",
    "    for mgrs in poc['SANManagers']:\n",
    "\n",
    "        # Handle Cisco in one way\n",
    "        if 'type' in mgrs and mgrs['type'] == 'Cisco':\n",
    "            # print(mgrs['type'])\n",
    "\n",
    "            # passed values or defaults not optional parameters\n",
    "            if 'snmpPort' in mgrs:\n",
    "                snmp_port = mgrs['snmpPort']\n",
    "            else:\n",
    "                snmp_port = 161\n",
    "\n",
    "            if 'authProtocol' in mgrs:\n",
    "                auth_proto = mgrs['authProtocol']\n",
    "            else:\n",
    "                auth_proto = \"sha\"\n",
    "\n",
    "            if 'privProtocol' in mgrs:\n",
    "                priv_proto = mgrs['privProtocol']\n",
    "            else:\n",
    "                priv_proto = \"aes-128\"\n",
    "\n",
    "            options = {\n",
    "                'providerDisplayName': 'Cisco',\n",
    "                'connectionInfo': [\n",
    "                    {\n",
    "                        'name': 'Host',\n",
    "                        'displayName': 'Host',\n",
    "                        'required': True,\n",
    "                        'value': mgrs['ip'],\n",
    "                        'valueFormat': 'IPAddressOrHostname',\n",
    "                        'valueType': 'String'\n",
    "                    },{\n",
    "                        'name': 'SnmpPort',\n",
    "                        'displayName': 'SnmpPort',\n",
    "                        'required': True,\n",
    "                        'value': snmp_port,\n",
    "                        'valueFormat': 'None',\n",
    "                        'valueType': 'Integer'\n",
    "                    },{\n",
    "                        'name': 'SnmpUserName',\n",
    "                        'displayName': 'SnmpUserName',\n",
    "                        'required': True,\n",
    "                        'value': mgrs['userName'],\n",
    "                        'valueFormat': 'None',\n",
    "                        'valueType': 'String'\n",
    "                    },{\n",
    "                        'name': 'SnmpAuthLevel',\n",
    "                        'displayName': 'SnmpAuthLevel',\n",
    "                        'required': True,\n",
    "                        'value': 'authnopriv',\n",
    "                        'valueFormat': 'None',\n",
    "                        'valueType': 'String'\n",
    "                    },{\n",
    "                        'name': 'SnmpAuthProtocol',\n",
    "                        'displayName': 'SnmpAuthProtocol',\n",
    "                        'required': False,\n",
    "                        'value': auth_proto,\n",
    "                        'valueFormat': 'None',\n",
    "                        'valueType': 'String'\n",
    "                    },{\n",
    "                        'name': 'SnmpAuthString',\n",
    "                        'displayName': 'SnmpAuthString',\n",
    "                        'required': False,\n",
    "                        'value': mgrs['password'],\n",
    "                        'valueFormat': 'SecuritySensitive',\n",
    "                        'valueType': 'String'\n",
    "                    },{\n",
    "                        'name': 'SnmpPrivProtocol',\n",
    "                        'displayName': 'SnmpPrivProtocol',\n",
    "                        'required': False,\n",
    "                        'value': priv_proto,\n",
    "                        'valueFormat': 'None',\n",
    "                        'valueType': 'String'\n",
    "                    },{\n",
    "                        'name': 'SnmpPrivString',\n",
    "                        'displayName': 'SnmpPrivString',\n",
    "                        'required': False,\n",
    "                        'value': '',\n",
    "                        'valueFormat': 'SecuritySensitive',\n",
    "                        'valueType': 'String'\n",
    "                    }\n",
    "                ]\n",
    "            }\n",
    "\n",
    "        # Handle Brocade in another way\n",
    "        if 'type' in mgrs and mgrs['type'] == 'Brocade':   \n",
    "            # passed values or defaults not optional parameters\n",
    "            if 'port' in mgrs:\n",
    "                bna_port = mgrs['port']\n",
    "            else:\n",
    "                bna_port = 5989\n",
    "\n",
    "            if 'UseSsl' in mgrs:\n",
    "                use_ssl = mgrs['UseSsl']\n",
    "            else:\n",
    "                use_ssl = True\n",
    "\n",
    "            options = {\n",
    "                'providerDisplayName': 'Brocade',\n",
    "                'connectionInfo': [{\n",
    "                    'name': 'Host',\n",
    "                    'value': mgrs['ip']\n",
    "                },{\n",
    "                    'name': 'Port',\n",
    "                    'value': bna_port\n",
    "                },{\n",
    "                    'name': 'Username',\n",
    "                    'value': mgrs['userName']\n",
    "                },{\n",
    "                    'name': 'Password',\n",
    "                    'value': mgrs['password']\n",
    "                },{\n",
    "                    'name': 'UseSsl',\n",
    "                    'value': use_ssl\n",
    "                }]\n",
    "            }\n",
    "\n",
    "        # Handle HPE San Managers not implemented\n",
    "        if 'type' in mgrs and mgrs['type'] == 'HPE':\n",
    "            # TODO: Implement this \n",
    "            print(\"WARNING: HPE San Manager types not implemented.\")\n",
    "\n",
    "        try:\n",
    "            # print(options)\n",
    "            provider_uri = ov.san_managers.get_provider_uri(mgrs['type'])\n",
    "            # print(provider_uri)\n",
    "            print(\"Adding SAN Manager \" + mgrs['ip'] + \"of type \" + mgrs['type'])\n",
    "            san_manager = ov.san_managers.add(options, provider_uri)\n",
    "            print(\"Created succesfully.\")\n",
    "        except HPOneViewException as e:\n",
    "            print(\"Error during creation of SAN Manager: \" + mgrs['ip'])\n",
    "            print(e.msg) \n",
    "else:\n",
    "    print(\"No SAN Managers in the poc dict. Nothing created!\")\n",
    "    \n",
    "print(\"\\nGetting all SAN Managers...\")\n",
    "all_san_mgrs = ov.san_managers.get_all()\n",
    "#pprint(all_san_mgrs)  \n",
    "\n",
    "# This will fail for Brocade SAN Managers, TODO: do get_all(filter=Brocade) and handle each type separately\n",
    "if all_san_mgrs:\n",
    "    my_table(all_san_mgrs, resource=\"SAN Managers\", columns=['deviceManagerUrl','deviceManagerVersion','description','providerDisplayName','state','status']) \n",
    "else:\n",
    "    print(\"No SAN Managers found\")"
   ]
  },
  {
   "cell_type": "markdown",
   "metadata": {},
   "source": [
    "<br><br>\n",
    "## Storage Systems <a name=\"StorageSystems\"></a>\n",
    "This will only add the \"no Domain\" pools and not all of them"
   ]
  },
  {
   "cell_type": "code",
   "execution_count": 12,
   "metadata": {},
   "outputs": [
    {
     "name": "stderr",
     "output_type": "stream",
     "text": [
      "/opt/conda/lib/python3.7/site-packages/ipykernel_launcher.py:2: YAMLLoadWarning: calling yaml.load() without Loader=... is deprecated, as the default Loader is unsafe. Please read https://msg.pyyaml.org/load for full details.\n",
      "  \n"
     ]
    },
    {
     "name": "stdout",
     "output_type": "stream",
     "text": [
      "{'family': 'StoreServ',\n",
      " 'hostname': '10.10.20.20',\n",
      " 'password': '3pardata',\n",
      " 'username': '3paradmn'}\n",
      "\n",
      "Adding 10.10.20.20 to Oneview\n",
      "Storage system 'Synergy3PAR' was already added.\n",
      "   uri = '/rest/storage-systems/CZ3905NGNP'\n",
      "\n",
      "Getting all storage systems...\n"
     ]
    },
    {
     "data": {
      "text/markdown": [
       "### Storage Systems in Synergy Composer at https://10.10.21.110"
      ],
      "text/plain": [
       "<IPython.core.display.Markdown object>"
      ]
     },
     "metadata": {},
     "output_type": "display_data"
    },
    {
     "data": {
      "text/markdown": [
       "<table border=\"1\" class=\"dataframe\">\n",
       "  <thead>\n",
       "    <tr style=\"text-align: right;\">\n",
       "      <th>displayName</th>\n",
       "      <th>family</th>\n",
       "      <th>hostname</th>\n",
       "      <th>supportsFC</th>\n",
       "      <th>supportsIscsi</th>\n",
       "      <th>state</th>\n",
       "    </tr>\n",
       "  </thead>\n",
       "  <tbody>\n",
       "    <tr>\n",
       "      <td>Synergy3PAR</td>\n",
       "      <td>StoreServ</td>\n",
       "      <td>10.10.20.20</td>\n",
       "      <td>True</td>\n",
       "      <td>False</td>\n",
       "      <td>Managed</td>\n",
       "    </tr>\n",
       "  </tbody>\n",
       "</table>"
      ],
      "text/plain": [
       "<IPython.core.display.Markdown object>"
      ]
     },
     "metadata": {},
     "output_type": "display_data"
    }
   ],
   "source": [
    "# Need to reload/parse the YAML doc again since the options.pop mutates the existing dictionary so the contents of the dictionary changes \n",
    "poc = yaml.load(poc_doc)\n",
    "\n",
    "defaults = {\n",
    "    \"family\": 'StoreServ'\n",
    "}\n",
    "\n",
    "# Loop over the storage systems array and add them to oneview\n",
    "if 'storageSystems' in poc:\n",
    "    for array in poc['storageSystems']:\n",
    "        pprint (array)\n",
    "        \n",
    "        # Merge with defaults new style of dictonary unpacking since Python 3.5 https://treyhunner.com/2016/02/how-to-merge-dictionaries-in-python/\n",
    "        array_options = {**defaults, **array}\n",
    "        # pprint(\"\\n\" + array_options) \n",
    "        \n",
    "        # Add and update storage system for management\n",
    "        try:\n",
    "            print(\"\\nAdding \" + array['hostname'] + \" to Oneview\")\n",
    "            storage_system = ov.storage_systems.add(array_options)\n",
    "            print(\"Succesfully added it.\")\n",
    "        except HPOneViewException as e:\n",
    "            storage_system = ov.storage_systems.get_by_hostname(array['hostname'])\n",
    "            if storage_system:\n",
    "                print(\"Storage system '%s' was already added.\\n   uri = '%s'\" %\n",
    "                      (storage_system['name'], storage_system['uri']))\n",
    "            else:\n",
    "                print(e.msg)\n",
    "        \n",
    "        # Adds managed domains and managed pools to StoreServ storage systems\n",
    "        # This is a one-time only action, after this you cannot change the managed values\n",
    "        if not storage_system['deviceSpecificAttributes']['managedDomain']:\n",
    "            storage_system['deviceSpecificAttributes']['managedDomain'] = storage_system[\n",
    "                'deviceSpecificAttributes']['discoveredDomains'][0]\n",
    "            for pool in storage_system['deviceSpecificAttributes']['discoveredPools']:\n",
    "                if pool['domain'] == storage_system['deviceSpecificAttributes']['managedDomain']:\n",
    "                    pool_to_manage = pool\n",
    "                    storage_system['deviceSpecificAttributes']['discoveredPools'].remove(pool)\n",
    "                    pprint(pool_to_manage)\n",
    "                    break\n",
    "            storage_system['deviceSpecificAttributes']['managedPools'] = [pool_to_manage]\n",
    "            ov.storage_systems.update(storage_system)\n",
    "            print(\"\\nUpdated 'managedDomain' to '{}' so storage system can be managed\".format(\n",
    "                  storage_system['deviceSpecificAttributes']['managedDomain']))\n",
    "            print(\"\\nManaged storage pool '{}' at uri: '{}'\".format(storage_system['deviceSpecificAttributes'][\n",
    "                  'managedPools'][0]['name'], storage_system['deviceSpecificAttributes']['managedPools'][0]['uuid']))\n",
    "\n",
    "print(\"\\nGetting all storage systems...\")\n",
    "all_arrays = ov.storage_systems.get_all()\n",
    "#pprint(all_arrays)        \n",
    "\n",
    "my_table(all_arrays, resource=\"Storage Systems\", columns=['displayName','family', 'hostname','supportsFC','supportsIscsi','state'])                    "
   ]
  },
  {
   "cell_type": "markdown",
   "metadata": {},
   "source": [
    "<br><br>\n",
    "# Storage operations\n",
    "## Show configured / existing storage (systems and pools)"
   ]
  },
  {
   "cell_type": "code",
   "execution_count": 38,
   "metadata": {
    "scrolled": true
   },
   "outputs": [
    {
     "name": "stdout",
     "output_type": "stream",
     "text": [
      "Storage Systems:\n",
      "None defined!\n",
      "\n",
      "Storage Pools:\n",
      "None defined!\n"
     ]
    }
   ],
   "source": [
    "storage_systems = ov.storage_systems.get_all()\n",
    "storage_pools = ov.storage_pools.get_all()\n",
    "\n",
    "# storage_pool_name = 'FC_r1'\n",
    "# storage_pools = oneview_client.storage_pools.get_by('name', storage_pool_name)[0]\n",
    "\n",
    "print(\"Storage Systems:\")\n",
    "if storage_systems:\n",
    "    for stor in storage_systems: \n",
    "        print(stor['displayName'] + \"    URI: \" + stor['uri'])\n",
    "else:\n",
    "    print(\"None defined!\")\n",
    "    \n",
    "print(\"\\nStorage Pools:\")\n",
    "if storage_pools:\n",
    "    for storpool in storage_pools:\n",
    "        print(storpool['name'] + \"    URI: \" + stor['uri'])\n",
    "else:\n",
    "    print(\"None defined!\")"
   ]
  },
  {
   "cell_type": "code",
   "execution_count": 57,
   "metadata": {},
   "outputs": [
    {
     "ename": "NameError",
     "evalue": "name 'storpool' is not defined",
     "output_type": "error",
     "traceback": [
      "\u001b[0;31m---------------------------------------------------------------------------\u001b[0m",
      "\u001b[0;31mNameError\u001b[0m                                 Traceback (most recent call last)",
      "\u001b[0;32m<ipython-input-57-164fdba27f1b>\u001b[0m in \u001b[0;36m<module>\u001b[0;34m\u001b[0m\n\u001b[0;32m----> 1\u001b[0;31m \u001b[0;32mif\u001b[0m \u001b[0mstorpool\u001b[0m \u001b[0;32mis\u001b[0m \u001b[0;32mnot\u001b[0m \u001b[0;32mNone\u001b[0m\u001b[0;34m:\u001b[0m\u001b[0;34m\u001b[0m\u001b[0;34m\u001b[0m\u001b[0m\n\u001b[0m\u001b[1;32m      2\u001b[0m     \u001b[0mprint\u001b[0m \u001b[0;34m(\u001b[0m\u001b[0mstorpool\u001b[0m\u001b[0;34m)\u001b[0m\u001b[0;34m\u001b[0m\u001b[0;34m\u001b[0m\u001b[0m\n",
      "\u001b[0;31mNameError\u001b[0m: name 'storpool' is not defined"
     ]
    }
   ],
   "source": [
    "if storpool is not None: \n",
    "    print (storpool)"
   ]
  },
  {
   "cell_type": "markdown",
   "metadata": {},
   "source": [
    "<br><br>\n",
    "# OS Deployment Servers\n",
    "## Add Server"
   ]
  },
  {
   "cell_type": "code",
   "execution_count": 12,
   "metadata": {},
   "outputs": [
    {
     "name": "stdout",
     "output_type": "stream",
     "text": [
      "{'description': 'My First deploy',\n",
      " 'mgmtNetwork': 'Mgmt_100',\n",
      " 'name': 'OS-Deploy01'}\n",
      "\n",
      "Adding deploymentserver OS-Deploy01 to Oneview\n",
      "Unrecognized JSON field.\n"
     ]
    },
    {
     "name": "stderr",
     "output_type": "stream",
     "text": [
      "/opt/conda/lib/python3.7/site-packages/ipykernel_launcher.py:2: YAMLLoadWarning: calling yaml.load() without Loader=... is deprecated, as the default Loader is unsafe. Please read https://msg.pyyaml.org/load for full details.\n",
      "  \n"
     ]
    }
   ],
   "source": [
    "# Need to reload/parse the YAML doc again since the options.pop mutates the existing dictionary so the contents of the dictionary changes \n",
    "poc = yaml.load(poc_doc)\n",
    "\n",
    "defaults = {\n",
    "    \"description\": \"OS Deployment Server\"\n",
    "}\n",
    "\n",
    "# Loop over the storage systems array and add them to oneview\n",
    "if 'osDeploymentServers' in poc:\n",
    "    for osd in poc['osDeploymentServers']:\n",
    "        pprint (osd)\n",
    "        \n",
    "        # Merge with defaults new style of dictonary unpacking since Python 3.5 https://treyhunner.com/2016/02/how-to-merge-dictionaries-in-python/\n",
    "        osd_options = {**defaults, **osd}\n",
    "        # pprint(\"\\n\" + array_options) \n",
    "        \n",
    "        # Add and update \n",
    "        try:\n",
    "            print(\"\\nAdding deploymentserver \" + osd['name'] + \" to Oneview\")\n",
    "            osd_added = ov.os_deployment_servers.add(osd_options)\n",
    "            print(\"Succesfully added it.\")\n",
    "        except HPOneViewException as e:\n",
    "            storage_system = ov.os_deployment_servers.get_by('name',osd['name'])\n",
    "            if storage_system:\n",
    "                print(\"OS deployment server '%s' was already added.\\n   uri = '%s'\" %\n",
    "                      (storage_system['name'], storage_system['uri']))\n",
    "            else:\n",
    "                print(e.msg)\n"
   ]
  },
  {
   "cell_type": "code",
   "execution_count": null,
   "metadata": {},
   "outputs": [],
   "source": []
  }
 ],
 "metadata": {
  "kernelspec": {
   "display_name": "Python 3",
   "language": "python",
   "name": "python3"
  },
  "language_info": {
   "codemirror_mode": {
    "name": "ipython",
    "version": 3
   },
   "file_extension": ".py",
   "mimetype": "text/x-python",
   "name": "python",
   "nbconvert_exporter": "python",
   "pygments_lexer": "ipython3",
   "version": "3.7.1"
  }
 },
 "nbformat": 4,
 "nbformat_minor": 2
}

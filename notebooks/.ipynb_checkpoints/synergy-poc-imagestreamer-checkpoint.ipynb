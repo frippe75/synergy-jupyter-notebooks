{
 "cells": [
  {
   "cell_type": "code",
   "execution_count": 1,
   "metadata": {},
   "outputs": [],
   "source": [
    "composer_ip = \"synergy.hpedemo.local\""
   ]
  },
  {
   "cell_type": "markdown",
   "metadata": {
    "variables": {
     "composer_ip": "synergy.hpedemo.local"
    }
   },
   "source": [
    "# Welcome to the Synergy Image Streamer POC \n",
    "Created by Fredrik Tärnell - 2019-02-20<br>\n",
    "<br>\n",
    "## Part 2 - Image Streamer\n",
    "\n",
    "Due to some missing feature around Image Streamer in the Powershell library at https://github.com/HewlettPackard/POSH-HPOneView\n",
    "The second part of the demo will be performed using the Python Library which our Ansible modules extends even further.\n",
    "\n",
    "Jupyter Notebook can be found: https://github.com/frippe75/synergy-jupyter-notebooks\n",
    "<br><br>\n",
    "\n",
    "### Requirements\n",
    "Python + hpOneView Python Library (see: https://github.com/HewlettPackard/python-hpOneView/wiki/HPE-OneView-Python-Windows-Setup-Guide)\n",
    "\n",
    "### API information\n",
    "\n",
    "http://h17007.www1.hpe.com/docs/enterprise/servers/oneview4.1/cic-api/en/index.html <br>\n",
    "\n",
    "\n",
    "### Additional information\n",
    "\n",
    "On your HPE OneView appliance, or online<br>\n",
    "https://{{composer_ip}}/help/cic-rest/en/content/index.html#home.html<br>\n",
    "https://{{composer_ip}}/api-docs/current/ <br>\n",
    "http://www.hpe.com/info/oneview/docs <br>\n",
    "https://developer.hpe.com/\n",
    "\n",
    "### Python specific\n",
    "https://hewlettpackard.github.io/python-hpOneView/index.html<br>\n",
    "https://github.com/HewlettPackard/python-hpOneView<br>\n",
    "\n",
    "<br><br>\n",
    "# First section - Simple tasks via Python\n"
   ]
  },
  {
   "cell_type": "markdown",
   "metadata": {},
   "source": [
    "### Import the python OneView library with some additional dependencies for this playbook"
   ]
  },
  {
   "cell_type": "code",
   "execution_count": 2,
   "metadata": {},
   "outputs": [],
   "source": [
    "from hpOneView.oneview_client import OneViewClient\n",
    "import pandas\n",
    "from IPython.display import display, Markdown\n",
    "import pprint as pp"
   ]
  },
  {
   "cell_type": "markdown",
   "metadata": {},
   "source": [
    "### Configure your environment:"
   ]
  },
  {
   "cell_type": "code",
   "execution_count": 3,
   "metadata": {},
   "outputs": [],
   "source": [
    "config = {\n",
    "    \"api_version\": \"600\",\n",
    "    \"ip\": composer_ip,\n",
    "    \"credentials\": {\n",
    "        \"userName\": \"Administrator\",\n",
    "        \"authLoginDomain\": \"local\",\n",
    "        \"password\": \"HPEc0nverged!\"\n",
    "    }\n",
    "}"
   ]
  },
  {
   "cell_type": "markdown",
   "metadata": {},
   "source": [
    "<br><br>\n",
    "## Login against the Appliance / Composer instance:\n",
    "create new object \"ov\" with the config (see above)"
   ]
  },
  {
   "cell_type": "code",
   "execution_count": 4,
   "metadata": {
    "scrolled": true
   },
   "outputs": [],
   "source": [
    "ov = OneViewClient(config)"
   ]
  },
  {
   "cell_type": "markdown",
   "metadata": {},
   "source": [
    "<br><br>\n",
    "### The library requires us to add \"image_streamer_ip\" to the JSON config object\n",
    "https://github.com/HewlettPackard/python-hpOneView#hpe-synergy-image-streamer"
   ]
  },
  {
   "cell_type": "code",
   "execution_count": 5,
   "metadata": {
    "scrolled": true
   },
   "outputs": [
    {
     "name": "stdout",
     "output_type": "stream",
     "text": [
      "\n",
      "Get the IP address of the first OS Deployment Server: 10.48.0.105\n",
      "\n",
      "Adding it to the config dictionary\n",
      "\n"
     ]
    }
   ],
   "source": [
    "os_deployment_servers_all = ov.os_deployment_servers.get_all(start=0, count=-1, filter='state=Connected')\n",
    "stream_ip = os_deployment_servers_all[0]['primaryIPV4']\n",
    "print(\"\\nGet the IP address of the first OS Deployment Server: \" + stream_ip)\n",
    "\n",
    "config['image_streamer_ip'] = stream_ip\n",
    "\n",
    "print (\"\\nAdding it to the config dictionary\\n\")"
   ]
  },
  {
   "cell_type": "code",
   "execution_count": 6,
   "metadata": {},
   "outputs": [
    {
     "name": "stdout",
     "output_type": "stream",
     "text": [
      "{'api_version': '600',\n",
      " 'credentials': {'authLoginDomain': 'local',\n",
      "                 'password': 'HPEc0nverged!',\n",
      "                 'userName': 'Administrator'},\n",
      " 'image_streamer_ip': '10.48.0.105',\n",
      " 'ip': 'synergy.hpedemo.local'}\n"
     ]
    }
   ],
   "source": [
    "pp.pprint(config)\n"
   ]
  },
  {
   "cell_type": "code",
   "execution_count": 7,
   "metadata": {},
   "outputs": [],
   "source": [
    "config = {\n",
    "    \"api_version\": \"600\",\n",
    "    \"ip\": composer_ip,\n",
    "    \"image_streamer_ip\": stream_ip,\n",
    "    \"credentials\": {\n",
    "        \"userName\": \"Administrator\",\n",
    "        \"authLoginDomain\": \"local\",\n",
    "        \"password\": \"HPEc0nverged!\"\n",
    "    }\n",
    "}"
   ]
  },
  {
   "cell_type": "markdown",
   "metadata": {},
   "source": [
    "### Login to Image Streamer\n",
    "variable \"is\" cannot be used off course\n",
    "\n",
    "IMPORTANT: Need to re-login using the new config object and THEN login to image streamer as well"
   ]
  },
  {
   "cell_type": "code",
   "execution_count": 8,
   "metadata": {},
   "outputs": [],
   "source": [
    "ov = OneViewClient(config)\n",
    "streamer = ov.create_image_streamer_client()"
   ]
  },
  {
   "cell_type": "markdown",
   "metadata": {},
   "source": [
    "<br><br>\n",
    "## Uploading Image Streamer artifacts\n",
    "<br>\n",
    "The artifacts are pulled down from our github repo which are release specific to\n",
    "<br>\n",
    "\n",
    "https://github.com/HewlettPackard/image-streamer-esxi/tree/v4.1/artifact-bundles<br>\n",
    "https://github.com/HewlettPackard/image-streamer-rhel/tree/V4.1/artifact-bundles<br>"
   ]
  },
  {
   "cell_type": "markdown",
   "metadata": {},
   "source": [
    "### Start by downloading the artifacts from our github repo"
   ]
  },
  {
   "cell_type": "code",
   "execution_count": 19,
   "metadata": {},
   "outputs": [
    {
     "name": "stdout",
     "output_type": "stream",
     "text": [
      "File HPE - ESXi -2018-07-31-v4.2.zip does not exist going to download it\n",
      "File HPE - RHEL-2018-09-11-v4.2.zip does not exist going to download it\n",
      "HPE - ESXi -2018-07-31-v4.2.zip downloaded successfully!\n",
      "HPE - RHEL-2018-09-11-v4.2.zip downloaded successfully!\n"
     ]
    }
   ],
   "source": [
    "import requests\n",
    "import os.path\n",
    "\n",
    "#https://github.com/HewlettPackard/image-streamer-esxi/raw/v4.2/artifact-bundles/\n",
    "esx_file = 'HPE - ESXi -2018-07-31-v4.2.zip'\n",
    "rhel_file = 'HPE - RHEL-2018-09-11-v4.2.zip'\n",
    "\n",
    "\n",
    "if not os.path.exists(esx_file):\n",
    "    print(\"File \" + esx_file + \" does not exist going to download it\")\n",
    "    url = 'https://github.com/HewlettPackard/image-streamer-esxi/raw/v4.2/artifact-bundles/' + esx_file\n",
    "    r = requests.get(url, allow_redirects=True)\n",
    "    open(esx_file, 'wb').write(r.content)\n",
    "\n",
    "\n",
    "if not os.path.exists(rhel_file):\n",
    "    print(\"File \" + rhel_file + \" does not exist going to download it\")\n",
    "    url = 'https://github.com/HewlettPackard/image-streamer-rhel/raw/v4.2/artifact-bundles/' + rhel_file\n",
    "    r = requests.get(url, allow_redirects=True)\n",
    "    open(rhel_file, 'wb').write(r.content)\n",
    "\n",
    "if os.path.exists(esx_file):\n",
    "    print (esx_file + \" downloaded successfully!\")\n",
    "if os.path.exists(rhel_file):\n",
    "    print (rhel_file + \" downloaded successfully!\")"
   ]
  },
  {
   "cell_type": "markdown",
   "metadata": {},
   "source": [
    "### Get a list of currently available artifacts bundles, ESX should not be one of them"
   ]
  },
  {
   "cell_type": "code",
   "execution_count": 21,
   "metadata": {
    "scrolled": true
   },
   "outputs": [
    {
     "name": "stdout",
     "output_type": "stream",
     "text": [
      "\n",
      "Get all Artifact Bundles:\n",
      " - HPE - ESXi -2018-07-31-v4.2\n",
      " - HPE - RHEL-2018-09-11-v4.2\n",
      " - HPE_Foundation_Artifacts-4_20\n",
      " - HPE_Support_Artifacts-4_20\n"
     ]
    }
   ],
   "source": [
    "# Get all Artifacts Bundle\n",
    "print(\"\\nGet all Artifact Bundles:\")\n",
    "\n",
    "artifact_bundles = streamer.artifact_bundles.get_all()\n",
    "\n",
    "for artifacts_bundle in artifact_bundles:\n",
    "    print(\" - \" + artifacts_bundle['name'])\n",
    "    "
   ]
  },
  {
   "cell_type": "markdown",
   "metadata": {},
   "source": [
    "<br><br>\n",
    "### Uploading the ESXi Artifacts 4.10 from file\n",
    "\n",
    "Python client documentation\n",
    "https://hewlettpackard.github.io/python-hpOneView/hpOneView.image_streamer.resources.html?highlight=upload#hpOneView.image_streamer.resources.artifact_bundles.ArtifactBundles.upload_bundle_from_file"
   ]
  },
  {
   "cell_type": "code",
   "execution_count": 20,
   "metadata": {
    "scrolled": true
   },
   "outputs": [
    {
     "name": "stdout",
     "output_type": "stream",
     "text": [
      "\n",
      "Upload an Artifact Bundle from file:\n",
      "\n",
      "Description:\n",
      "ImageStreamer artifacts for ESXi 5.x and ESXi 6.x till 6.5. (c) Copyright 2018 Hewlett Packard Enterprise Development LP. Licensed under the Apache License, Version 2.0 (the \"License\");you may not use this file except in compliance with the License\n",
      "\n",
      "Succesfully added ESXi!\n"
     ]
    }
   ],
   "source": [
    "# Upload an Artifact Bundle from file\n",
    "print(\"\\nUpload an Artifact Bundle from file:\")\n",
    "\n",
    "print(\"\\nDescription:\")\n",
    "esx_bundle = streamer.artifact_bundles.upload_bundle_from_file(esx_file)\n",
    "print(esx_bundle['description']) \n",
    "\n",
    "print(\"\\nSuccesfully added ESXi!\")"
   ]
  },
  {
   "cell_type": "markdown",
   "metadata": {},
   "source": [
    "<br><br>\n",
    "### Uploading the RHEL Artifacts 4.10 from file\n"
   ]
  },
  {
   "cell_type": "code",
   "execution_count": 17,
   "metadata": {},
   "outputs": [
    {
     "name": "stdout",
     "output_type": "stream",
     "text": [
      "\n",
      "Upload an Artifact Bundle from file:\n",
      "\n",
      "Description:\n",
      "ImageStreamer artifacts for RHEL 7.X personalization and generalization.(c) Copyright 2018 Hewlett Packard Enterprise Development LP. Licensed under the Apache License, Version 2.0 (the \"License\")\n",
      "\n",
      "Succesfully added RHEL!\n"
     ]
    }
   ],
   "source": [
    "# Upload an Artifact Bundle from file\n",
    "print(\"\\nUpload an Artifact Bundle from file:\")\n",
    "\n",
    "print(\"\\nDescription:\")\n",
    "rhel_bundle = streamer.artifact_bundles.upload_bundle_from_file(rhel_file)\n",
    "print(rhel_bundle['description']) \n",
    "\n",
    "print(\"\\nSuccesfully added RHEL!\")"
   ]
  },
  {
   "cell_type": "markdown",
   "metadata": {},
   "source": [
    "<br><br>\n",
    "### Extract the newly added Artifacts bundles  "
   ]
  },
  {
   "cell_type": "code",
   "execution_count": null,
   "metadata": {},
   "outputs": [
    {
     "name": "stdout",
     "output_type": "stream",
     "text": [
      "\n",
      "Extracting the Artifact Bundles:\n",
      " - HPE - ESXi -2018-07-31-v4.2\n"
     ]
    }
   ],
   "source": [
    "# Add both bundles to an array (not nessesary)\n",
    "# Placed RHEL last since it for some reason hangs waiting for the task to complete. Give it 2-3 minutes and then interrupt\n",
    "# the Jupyter kernel in the menu\n",
    "bundles = [esx_bundle, rhel_bundle]\n",
    "\n",
    "# Extract each Artifact Bundle\n",
    "print(\"\\nExtracting the Artifact Bundles:\")\n",
    "for bundle in bundles:\n",
    "    print(\" - \" + bundle['name'])\n",
    "    response = streamer.artifact_bundles.extract_bundle(bundle)\n",
    "    #print(response)"
   ]
  },
  {
   "cell_type": "markdown",
   "metadata": {},
   "source": [
    "<br><br>\n",
    "### Upload a pre-made ESXi Golden Image 6.5u2\n",
    "<blink>\n",
    "    Golden image zip file has to be copied into the notebook directory of the Docker container at this stage\n",
    "</blink>"
   ]
  },
  {
   "cell_type": "code",
   "execution_count": null,
   "metadata": {},
   "outputs": [],
   "source": [
    "esx_golden_file = 'VMware-ESXi-6.5.0-Update2-8294253-HPE-Gen9plus-650.U2.10.3.0.24-Sept2018.zip'\n",
    "\n",
    "golden_image_upload = {\n",
    "    \"name\": \"ESXi-65u2\",\n",
    "    \"description\": \"Pre-made ESXi 6.5u2 image part of the HPE POC - TO-BE-DELETED\",\n",
    "}\n",
    "\n",
    "# Upload a Golden Image\n",
    "print(\"Uploading the Golden Image from \" + esx_golden_file)\n",
    "golden_esx_image = streamer.golden_images.upload(esx_golden_file, golden_image_upload)\n",
    "print(golden_esx_image)\n",
    "print(\"***** done *****\\n\")"
   ]
  },
  {
   "cell_type": "code",
   "execution_count": 44,
   "metadata": {},
   "outputs": [
    {
     "name": "stdout",
     "output_type": "stream",
     "text": [
      "{'artifactsCount': 15,\n",
      " 'artifactsbundleID': 'ba76af6a-ebdc-4a20-b178-27916d36fd0a',\n",
      " 'backupService': False,\n",
      " 'buildPlans': [{'bpID': '54c8095d-e05b-4b8f-96c1-14c0b4799e4f',\n",
      "                 'buildPlanName': 'HPE- ESXi - deploy in single frame non-HA '\n",
      "                                  'config- 2018-07-31',\n",
      "                 'description': 'Personalize ESXi 5.x - 6.5 image with single '\n",
      "                                'management NIC, hostname, domain name, root '\n",
      "                                'password and ssh settings. (c) Copyright 2018 '\n",
      "                                'Hewlett Packard Enterprise Development LP. '\n",
      "                                'Licensed under the Apache License, Version '\n",
      "                                '2.0  (the \"License\");...',\n",
      "                 'planScriptName': 'HPE - ESXi - umount - 2017-03-15,HPE - '\n",
      "                                   'ESXi - repack state - 2017-03-15,HPE - '\n",
      "                                   'ESXi - configure ssh - 2017-12-15,HPE - '\n",
      "                                   'ESXi - configure management 1st NIC - '\n",
      "                                   '2017-08-22,HPE - ESXi - set password - '\n",
      "                                   '2017-03-15,HPE - ESXi - unpack state - '\n",
      "                                   '2017-07-07,HPE - ESXi - mount - '\n",
      "                                   '2018-07-31,',\n",
      "                 'readOnly': True},\n",
      "                {'bpID': '22044547-6f5e-4cbc-af6b-197273d9f32c',\n",
      "                 'buildPlanName': 'HPE - ESXi - deploy with multiple '\n",
      "                                  'management NIC HA config- 2018-07-31',\n",
      "                 'description': 'Deploy ESXi 5.x - 6.5 in a multi-frame '\n",
      "                                'environment containing a pair of '\n",
      "                                'ImageStreamer appliances. This buildplan '\n",
      "                                'configures HA for iSCSI boot connections to '\n",
      "                                'ESXi volume. (c) Copyright 2018 Hewlett '\n",
      "                                'Packard Enterprise Development LP. Licensed '\n",
      "                                'under the Apache License, Version 2.0  (the '\n",
      "                                '\"License\");...',\n",
      "                 'planScriptName': 'HPE - ESXi - umount - 2017-03-15,HPE - '\n",
      "                                   'ESXi - repack state - 2017-03-15,HPE - '\n",
      "                                   'ESXi - configure ssh - 2017-12-15,HPE - '\n",
      "                                   'ESXi - configure management 2nd NIC HA - '\n",
      "                                   '2017-07-07,HPE - ESXi - configure '\n",
      "                                   'management 1st NIC - 2017-08-22,HPE - ESXi '\n",
      "                                   '- set password - 2017-03-15,HPE - ESXi - '\n",
      "                                   'mpio - configure iSCSI boot HA - '\n",
      "                                   '2018-06-27,HPE - ESXi - unpack state - '\n",
      "                                   '2017-07-07,HPE - ESXi - mount - '\n",
      "                                   '2018-07-31,',\n",
      "                 'readOnly': True},\n",
      "                {'bpID': '7a2c0d60-347d-4aa6-afbb-3f9bdb19171b',\n",
      "                 'buildPlanName': 'HPE - ESXi - generalize full state - '\n",
      "                                  '2018-07-31',\n",
      "                 'description': 'Remove personalization settings from ESXi 5.x '\n",
      "                                '- 6.5 images.\\n'\n",
      "                                '(c) Copyright 2018 Hewlett Packard Enterprise '\n",
      "                                'Development LP. Licensed under the Apache '\n",
      "                                'License, Version 2.0 (the \"License\"); ...',\n",
      "                 'planScriptName': 'HPE - ESXi - umount - 2017-03-15,HPE - '\n",
      "                                   'ESXi - repack state - 2017-03-15,HPE - '\n",
      "                                   'ESXi - remove system uuid - 2017-08-02,HPE '\n",
      "                                   '- ESXi - generalize onetime - '\n",
      "                                   '2017-09-27,HPE - ESXi - unpack state - '\n",
      "                                   '2017-07-07,HPE - ESXi - generalize host '\n",
      "                                   'configuration - 2017-07-12,HPE - ESXi - '\n",
      "                                   'mount - 2018-07-31,',\n",
      "                 'readOnly': True}],\n",
      " 'category': 'artifact-bundles',\n",
      " 'checksum': 'eda97ec65ee6ba599065e9a1c6ed9a4cdcf7f2caf59c56bc771a7a365feb1116',\n",
      " 'created': '2019-02-25T13:14:47.899Z',\n",
      " 'deploymentPlans': [],\n",
      " 'description': 'ImageStreamer artifacts for ESXi 5.x and ESXi 6.x till 6.5. '\n",
      "                '(c) Copyright 2018 Hewlett Packard Enterprise Development LP. '\n",
      "                'Licensed under the Apache License, Version 2.0 (the '\n",
      "                '\"License\");you may not use this file except in compliance '\n",
      "                'with the License',\n",
      " 'downloadURI': '/rest/artifact-bundles/download/ba76af6a-ebdc-4a20-b178-27916d36fd0a',\n",
      " 'eTag': '2019-02-25T13:14:47.899Z',\n",
      " 'goldenimage': [],\n",
      " 'importbundle': True,\n",
      " 'lastBackUpDownloadTime': None,\n",
      " 'modified': '2019-02-25T13:14:47.899Z',\n",
      " 'name': 'HPE-ESXi-2018-07-31-v4.1',\n",
      " 'planScripts': [{'description': 'remove system uuid from esx.conf',\n",
      "                  'planScriptName': 'HPE - ESXi - remove system uuid - '\n",
      "                                    '2017-08-02',\n",
      "                  'psID': 'be66fe20-81a3-4fd9-8c9b-d541e0965186',\n",
      "                  'readOnly': True},\n",
      "                 {'description': 'Remove personalization settings from ESXi '\n",
      "                                 '5.x and 6.x images',\n",
      "                  'planScriptName': 'HPE - ESXi - generalize host '\n",
      "                                    'configuration - 2017-07-12',\n",
      "                  'psID': '0b2b2498-c6f9-493e-a7f0-0d225532d105',\n",
      "                  'readOnly': True},\n",
      "                 {'description': 'Cleanup and unmount file systems',\n",
      "                  'planScriptName': 'HPE - ESXi - umount - 2017-03-15',\n",
      "                  'psID': 'b47c8dba-2904-4203-90f3-7ecfe7df5259',\n",
      "                  'readOnly': True},\n",
      "                 {'description': 'Configure ESXi host management 2nd NIC for '\n",
      "                                 'HA',\n",
      "                  'planScriptName': 'HPE - ESXi - configure management 2nd NIC '\n",
      "                                    'HA - 2017-07-07',\n",
      "                  'psID': '579488ba-2669-4f04-b7a9-5c840874cfe8',\n",
      "                  'readOnly': True},\n",
      "                 {'description': 'Configure ESXi host management network',\n",
      "                  'planScriptName': 'HPE - ESXi - configure management 1st NIC '\n",
      "                                    '- 2017-08-22',\n",
      "                  'psID': '5ea72279-a6e9-42c8-b5de-b2707599da9c',\n",
      "                  'readOnly': True},\n",
      "                 {'description': 'Configures HA for iSCSI boot path for '\n",
      "                                 'ESXi. \\n'\n",
      "                                 'This script can be used in multi frame '\n",
      "                                 'environment containing a pair of '\n",
      "                                 'ImageStreamer appliances.',\n",
      "                  'planScriptName': 'HPE - ESXi - mpio - configure iSCSI boot '\n",
      "                                    'HA - 2018-06-27',\n",
      "                  'psID': '6ae5b521-3537-4194-94fe-3a33b6c7314b',\n",
      "                  'readOnly': True},\n",
      "                 {'description': 'Pack and replace ESXi host state into ESXi '\n",
      "                                 'host OS Volume',\n",
      "                  'planScriptName': 'HPE - ESXi - repack state - 2017-03-15',\n",
      "                  'psID': 'f62bde2b-4678-4a82-8c88-88b1ea13067e',\n",
      "                  'readOnly': True},\n",
      "                 {'description': 'Mount ESXi /bootbank',\n",
      "                  'planScriptName': 'HPE - ESXi - mount - 2018-07-31',\n",
      "                  'psID': '3359b27f-7163-4e3c-9a8b-ce156e402135',\n",
      "                  'readOnly': True},\n",
      "                 {'description': 'Clear the contents of local.sh in '\n",
      "                                 'onetime.tgz and revert it to default '\n",
      "                                 'contents',\n",
      "                  'planScriptName': 'HPE - ESXi - generalize onetime - '\n",
      "                                    '2017-09-27',\n",
      "                  'psID': 'd1151781-6738-4625-b3a0-8aec9ee501e7',\n",
      "                  'readOnly': True},\n",
      "                 {'description': 'Configure ssh',\n",
      "                  'planScriptName': 'HPE - ESXi - configure ssh - 2017-12-15',\n",
      "                  'psID': 'd0f19f2c-7b64-465d-ab33-d2159eb5b393',\n",
      "                  'readOnly': True},\n",
      "                 {'description': 'Copy out and unpack ESXi host state',\n",
      "                  'planScriptName': 'HPE - ESXi - unpack state - 2017-07-07',\n",
      "                  'psID': '75422f96-4850-43fa-8514-68021607922c',\n",
      "                  'readOnly': True},\n",
      "                 {'description': 'Configure host password',\n",
      "                  'planScriptName': 'HPE - ESXi - set password - 2017-03-15',\n",
      "                  'psID': '699e6884-2615-4620-a83e-2a9f00ab7bd6',\n",
      "                  'readOnly': True}],\n",
      " 'readOnly': True,\n",
      " 'recoverBundle': False,\n",
      " 'size': 20148,\n",
      " 'status': 'OK',\n",
      " 'type': 'ArtifactsBundle',\n",
      " 'uri': '/rest/artifact-bundles/ba76af6a-ebdc-4a20-b178-27916d36fd0a'}\n"
     ]
    }
   ],
   "source": [
    "pp.pprint(esx_bundle)"
   ]
  },
  {
   "cell_type": "code",
   "execution_count": null,
   "metadata": {},
   "outputs": [],
   "source": [
    "# Get all Deployment Plans\n",
    "print(\"\\nGet all Deployment Plans\")\n",
    "deployment_plans = streamer.deployment_plans.get_all()\n",
    "for deployment_plan in deployment_plans:\n",
    "    print(deployment_plan['name'])"
   ]
  },
  {
   "cell_type": "code",
   "execution_count": 78,
   "metadata": {},
   "outputs": [
    {
     "name": "stdout",
     "output_type": "stream",
     "text": [
      "\n",
      "Get the URI of \"HPE - ESXi - deploy with multiple management NIC HA config- 2018-07-31\"\n",
      "/rest/build-plans/ad392ee8-1639-48ca-8fea-6a8b3501c055\n"
     ]
    }
   ],
   "source": [
    "# The name of the one to use\n",
    "esx_bp_name = 'HPE - ESXi - deploy with multiple management NIC HA config- 2018-07-31'\n",
    "\n",
    "# Get all Build Plans\n",
    "print('\\nGet the URI of \"' + esx_bp_name +'\"')\n",
    "\n",
    "# get_by returns an array thereof the [0]\n",
    "esx_bp = streamer.build_plans.get_by('name', esx_bp_name)\n",
    "esx_bp_uri = esx_bp[0]['uri']\n",
    "print(esx_bp_uri)"
   ]
  },
  {
   "cell_type": "code",
   "execution_count": 83,
   "metadata": {},
   "outputs": [
    {
     "name": "stdout",
     "output_type": "stream",
     "text": [
      "{'description': 'Pre-made ESX 65u2 POC Deployment Plan for the HPE POC - '\n",
      "                'TO-BE-DELETED',\n",
      " 'hpProvided': 'false',\n",
      " 'name': 'ESX 65u2 POC Deployment Plan',\n",
      " 'oeBuildPlanURI': '/rest/build-plans/ad392ee8-1639-48ca-8fea-6a8b3501c055',\n",
      " 'type': 'OEDeploymentPlanV5'}\n",
      "Create a Deployment Plan\n"
     ]
    },
    {
     "ename": "HPOneViewException",
     "evalue": "('Error while adding the deployment plan.', {'errorCode': 'OEDP_CREATE_CA_MISMATCH_ERROR', 'message': 'Error while adding the deployment plan.', 'details': 'Unable to add the deployment plan. There is a mismatch between custom attributes of the deployment plan and custom attributes of the OS build plan used by this deployment plan.', 'recommendedActions': ['The custom attribute list of the deployment plan has to match exactly with the list of the custom attributes of OS build plan used by this deployment plan. Verify the custom attributes and try again. '], 'errorSource': None, 'nestedErrors': [], 'data': {}})",
     "output_type": "error",
     "traceback": [
      "\u001b[0;31m---------------------------------------------------------------------------\u001b[0m",
      "\u001b[0;31mHPOneViewException\u001b[0m                        Traceback (most recent call last)",
      "\u001b[0;32m<ipython-input-83-897fc3571332>\u001b[0m in \u001b[0;36m<module>\u001b[0;34m\u001b[0m\n\u001b[1;32m     11\u001b[0m \u001b[0;31m# Create a Deployment Plan\u001b[0m\u001b[0;34m\u001b[0m\u001b[0;34m\u001b[0m\u001b[0;34m\u001b[0m\u001b[0m\n\u001b[1;32m     12\u001b[0m \u001b[0mprint\u001b[0m\u001b[0;34m(\u001b[0m\u001b[0;34m\"Create a Deployment Plan\"\u001b[0m\u001b[0;34m)\u001b[0m\u001b[0;34m\u001b[0m\u001b[0;34m\u001b[0m\u001b[0m\n\u001b[0;32m---> 13\u001b[0;31m \u001b[0mdeployment_plan\u001b[0m \u001b[0;34m=\u001b[0m \u001b[0mstreamer\u001b[0m\u001b[0;34m.\u001b[0m\u001b[0mdeployment_plans\u001b[0m\u001b[0;34m.\u001b[0m\u001b[0mcreate\u001b[0m\u001b[0;34m(\u001b[0m\u001b[0mdp_information\u001b[0m\u001b[0;34m)\u001b[0m\u001b[0;34m\u001b[0m\u001b[0;34m\u001b[0m\u001b[0m\n\u001b[0m\u001b[1;32m     14\u001b[0m \u001b[0mpp\u001b[0m\u001b[0;34m.\u001b[0m\u001b[0mpprint\u001b[0m\u001b[0;34m(\u001b[0m\u001b[0mdeployment_plan\u001b[0m\u001b[0;34m)\u001b[0m\u001b[0;34m\u001b[0m\u001b[0;34m\u001b[0m\u001b[0m\n",
      "\u001b[0;32m/opt/conda/lib/python3.6/site-packages/hpOneView/image_streamer/resources/deployment_plans.py\u001b[0m in \u001b[0;36mcreate\u001b[0;34m(self, resource, timeout)\u001b[0m\n\u001b[1;32m    112\u001b[0m         \u001b[0mdata\u001b[0m \u001b[0;34m=\u001b[0m \u001b[0mself\u001b[0m\u001b[0;34m.\u001b[0m\u001b[0m__default_values\u001b[0m\u001b[0;34m.\u001b[0m\u001b[0mcopy\u001b[0m\u001b[0;34m(\u001b[0m\u001b[0;34m)\u001b[0m\u001b[0;34m\u001b[0m\u001b[0;34m\u001b[0m\u001b[0m\n\u001b[1;32m    113\u001b[0m         \u001b[0mdata\u001b[0m\u001b[0;34m.\u001b[0m\u001b[0mupdate\u001b[0m\u001b[0;34m(\u001b[0m\u001b[0mresource\u001b[0m\u001b[0;34m)\u001b[0m\u001b[0;34m\u001b[0m\u001b[0;34m\u001b[0m\u001b[0m\n\u001b[0;32m--> 114\u001b[0;31m         \u001b[0;32mreturn\u001b[0m \u001b[0mself\u001b[0m\u001b[0;34m.\u001b[0m\u001b[0m_client\u001b[0m\u001b[0;34m.\u001b[0m\u001b[0mcreate\u001b[0m\u001b[0;34m(\u001b[0m\u001b[0mdata\u001b[0m\u001b[0;34m,\u001b[0m \u001b[0mtimeout\u001b[0m\u001b[0;34m=\u001b[0m\u001b[0mtimeout\u001b[0m\u001b[0;34m)\u001b[0m\u001b[0;34m\u001b[0m\u001b[0;34m\u001b[0m\u001b[0m\n\u001b[0m\u001b[1;32m    115\u001b[0m \u001b[0;34m\u001b[0m\u001b[0m\n\u001b[1;32m    116\u001b[0m     \u001b[0;32mdef\u001b[0m \u001b[0mupdate\u001b[0m\u001b[0;34m(\u001b[0m\u001b[0mself\u001b[0m\u001b[0;34m,\u001b[0m \u001b[0mresource\u001b[0m\u001b[0;34m,\u001b[0m \u001b[0mtimeout\u001b[0m\u001b[0;34m=\u001b[0m\u001b[0;34m-\u001b[0m\u001b[0;36m1\u001b[0m\u001b[0;34m)\u001b[0m\u001b[0;34m:\u001b[0m\u001b[0;34m\u001b[0m\u001b[0;34m\u001b[0m\u001b[0m\n",
      "\u001b[0;32m/opt/conda/lib/python3.6/site-packages/hpOneView/resources/resource.py\u001b[0m in \u001b[0;36mcreate\u001b[0;34m(self, resource, uri, timeout, custom_headers, default_values)\u001b[0m\n\u001b[1;32m    448\u001b[0m         \u001b[0mresource\u001b[0m \u001b[0;34m=\u001b[0m \u001b[0mself\u001b[0m\u001b[0;34m.\u001b[0m\u001b[0mmerge_default_values\u001b[0m\u001b[0;34m(\u001b[0m\u001b[0mresource\u001b[0m\u001b[0;34m,\u001b[0m \u001b[0mdefault_values\u001b[0m\u001b[0;34m)\u001b[0m\u001b[0;34m\u001b[0m\u001b[0;34m\u001b[0m\u001b[0m\n\u001b[1;32m    449\u001b[0m \u001b[0;34m\u001b[0m\u001b[0m\n\u001b[0;32m--> 450\u001b[0;31m         \u001b[0;32mreturn\u001b[0m \u001b[0mself\u001b[0m\u001b[0;34m.\u001b[0m\u001b[0m__do_post\u001b[0m\u001b[0;34m(\u001b[0m\u001b[0muri\u001b[0m\u001b[0;34m,\u001b[0m \u001b[0mresource\u001b[0m\u001b[0;34m,\u001b[0m \u001b[0mtimeout\u001b[0m\u001b[0;34m,\u001b[0m \u001b[0mcustom_headers\u001b[0m\u001b[0;34m)\u001b[0m\u001b[0;34m\u001b[0m\u001b[0;34m\u001b[0m\u001b[0m\n\u001b[0m\u001b[1;32m    451\u001b[0m \u001b[0;34m\u001b[0m\u001b[0m\n\u001b[1;32m    452\u001b[0m     \u001b[0;32mdef\u001b[0m \u001b[0mupload\u001b[0m\u001b[0;34m(\u001b[0m\u001b[0mself\u001b[0m\u001b[0;34m,\u001b[0m \u001b[0mfile_path\u001b[0m\u001b[0;34m,\u001b[0m \u001b[0muri\u001b[0m\u001b[0;34m=\u001b[0m\u001b[0;32mNone\u001b[0m\u001b[0;34m,\u001b[0m \u001b[0mtimeout\u001b[0m\u001b[0;34m=\u001b[0m\u001b[0;34m-\u001b[0m\u001b[0;36m1\u001b[0m\u001b[0;34m)\u001b[0m\u001b[0;34m:\u001b[0m\u001b[0;34m\u001b[0m\u001b[0;34m\u001b[0m\u001b[0m\n",
      "\u001b[0;32m/opt/conda/lib/python3.6/site-packages/hpOneView/resources/resource.py\u001b[0m in \u001b[0;36m__do_post\u001b[0;34m(self, uri, resource, timeout, custom_headers)\u001b[0m\n\u001b[1;32m    757\u001b[0m \u001b[0;34m\u001b[0m\u001b[0m\n\u001b[1;32m    758\u001b[0m     \u001b[0;32mdef\u001b[0m \u001b[0m__do_post\u001b[0m\u001b[0;34m(\u001b[0m\u001b[0mself\u001b[0m\u001b[0;34m,\u001b[0m \u001b[0muri\u001b[0m\u001b[0;34m,\u001b[0m \u001b[0mresource\u001b[0m\u001b[0;34m,\u001b[0m \u001b[0mtimeout\u001b[0m\u001b[0;34m,\u001b[0m \u001b[0mcustom_headers\u001b[0m\u001b[0;34m)\u001b[0m\u001b[0;34m:\u001b[0m\u001b[0;34m\u001b[0m\u001b[0;34m\u001b[0m\u001b[0m\n\u001b[0;32m--> 759\u001b[0;31m         \u001b[0mtask\u001b[0m\u001b[0;34m,\u001b[0m \u001b[0mentity\u001b[0m \u001b[0;34m=\u001b[0m \u001b[0mself\u001b[0m\u001b[0;34m.\u001b[0m\u001b[0m_connection\u001b[0m\u001b[0;34m.\u001b[0m\u001b[0mpost\u001b[0m\u001b[0;34m(\u001b[0m\u001b[0muri\u001b[0m\u001b[0;34m,\u001b[0m \u001b[0mresource\u001b[0m\u001b[0;34m,\u001b[0m \u001b[0mcustom_headers\u001b[0m\u001b[0;34m=\u001b[0m\u001b[0mcustom_headers\u001b[0m\u001b[0;34m)\u001b[0m\u001b[0;34m\u001b[0m\u001b[0;34m\u001b[0m\u001b[0m\n\u001b[0m\u001b[1;32m    760\u001b[0m \u001b[0;34m\u001b[0m\u001b[0m\n\u001b[1;32m    761\u001b[0m         \u001b[0;32mif\u001b[0m \u001b[0;32mnot\u001b[0m \u001b[0mtask\u001b[0m\u001b[0;34m:\u001b[0m\u001b[0;34m\u001b[0m\u001b[0;34m\u001b[0m\u001b[0m\n",
      "\u001b[0;32m/opt/conda/lib/python3.6/site-packages/hpOneView/connection.py\u001b[0m in \u001b[0;36mpost\u001b[0;34m(self, uri, body, custom_headers)\u001b[0m\n\u001b[1;32m    375\u001b[0m \u001b[0;34m\u001b[0m\u001b[0m\n\u001b[1;32m    376\u001b[0m     \u001b[0;32mdef\u001b[0m \u001b[0mpost\u001b[0m\u001b[0;34m(\u001b[0m\u001b[0mself\u001b[0m\u001b[0;34m,\u001b[0m \u001b[0muri\u001b[0m\u001b[0;34m,\u001b[0m \u001b[0mbody\u001b[0m\u001b[0;34m,\u001b[0m \u001b[0mcustom_headers\u001b[0m\u001b[0;34m=\u001b[0m\u001b[0;32mNone\u001b[0m\u001b[0;34m)\u001b[0m\u001b[0;34m:\u001b[0m\u001b[0;34m\u001b[0m\u001b[0;34m\u001b[0m\u001b[0m\n\u001b[0;32m--> 377\u001b[0;31m         \u001b[0;32mreturn\u001b[0m \u001b[0mself\u001b[0m\u001b[0;34m.\u001b[0m\u001b[0m__do_rest_call\u001b[0m\u001b[0;34m(\u001b[0m\u001b[0;34m'POST'\u001b[0m\u001b[0;34m,\u001b[0m \u001b[0muri\u001b[0m\u001b[0;34m,\u001b[0m \u001b[0mbody\u001b[0m\u001b[0;34m,\u001b[0m \u001b[0mcustom_headers\u001b[0m\u001b[0;34m=\u001b[0m\u001b[0mcustom_headers\u001b[0m\u001b[0;34m)\u001b[0m\u001b[0;34m\u001b[0m\u001b[0;34m\u001b[0m\u001b[0m\n\u001b[0m\u001b[1;32m    378\u001b[0m \u001b[0;34m\u001b[0m\u001b[0m\n\u001b[1;32m    379\u001b[0m     \u001b[0;32mdef\u001b[0m \u001b[0mpatch\u001b[0m\u001b[0;34m(\u001b[0m\u001b[0mself\u001b[0m\u001b[0;34m,\u001b[0m \u001b[0muri\u001b[0m\u001b[0;34m,\u001b[0m \u001b[0mbody\u001b[0m\u001b[0;34m,\u001b[0m \u001b[0mcustom_headers\u001b[0m\u001b[0;34m=\u001b[0m\u001b[0;32mNone\u001b[0m\u001b[0;34m)\u001b[0m\u001b[0;34m:\u001b[0m\u001b[0;34m\u001b[0m\u001b[0;34m\u001b[0m\u001b[0m\n",
      "\u001b[0;32m/opt/conda/lib/python3.6/site-packages/hpOneView/connection.py\u001b[0m in \u001b[0;36m__do_rest_call\u001b[0;34m(self, http_method, uri, body, custom_headers)\u001b[0m\n\u001b[1;32m    402\u001b[0m                                   custom_headers=custom_headers)\n\u001b[1;32m    403\u001b[0m         \u001b[0;32mif\u001b[0m \u001b[0mresp\u001b[0m\u001b[0;34m.\u001b[0m\u001b[0mstatus\u001b[0m \u001b[0;34m>=\u001b[0m \u001b[0;36m400\u001b[0m\u001b[0;34m:\u001b[0m\u001b[0;34m\u001b[0m\u001b[0;34m\u001b[0m\u001b[0m\n\u001b[0;32m--> 404\u001b[0;31m             \u001b[0;32mraise\u001b[0m \u001b[0mHPOneViewException\u001b[0m\u001b[0;34m(\u001b[0m\u001b[0mbody\u001b[0m\u001b[0;34m)\u001b[0m\u001b[0;34m\u001b[0m\u001b[0;34m\u001b[0m\u001b[0m\n\u001b[0m\u001b[1;32m    405\u001b[0m \u001b[0;34m\u001b[0m\u001b[0m\n\u001b[1;32m    406\u001b[0m         \u001b[0;32mif\u001b[0m \u001b[0mresp\u001b[0m\u001b[0;34m.\u001b[0m\u001b[0mstatus\u001b[0m \u001b[0;34m==\u001b[0m \u001b[0;36m304\u001b[0m\u001b[0;34m:\u001b[0m\u001b[0;34m\u001b[0m\u001b[0;34m\u001b[0m\u001b[0m\n",
      "\u001b[0;31mHPOneViewException\u001b[0m: ('Error while adding the deployment plan.', {'errorCode': 'OEDP_CREATE_CA_MISMATCH_ERROR', 'message': 'Error while adding the deployment plan.', 'details': 'Unable to add the deployment plan. There is a mismatch between custom attributes of the deployment plan and custom attributes of the OS build plan used by this deployment plan.', 'recommendedActions': ['The custom attribute list of the deployment plan has to match exactly with the list of the custom attributes of OS build plan used by this deployment plan. Verify the custom attributes and try again. '], 'errorSource': None, 'nestedErrors': [], 'data': {}})"
     ]
    }
   ],
   "source": [
    "# Build Plan URI was pulled from esx_bundle\n",
    "dp_information = {\n",
    "    \"name\": \"ESX 65u2 POC Deployment Plan\",\n",
    "    \"description\": \"Pre-made ESX 65u2 POC Deployment Plan for the HPE POC - TO-BE-DELETED\",\n",
    "    \"hpProvided\": \"false\",\n",
    "    \"type\": \"OEDeploymentPlanV5\",\n",
    "    \"oeBuildPlanURI\": esx_bp_uri\n",
    "}\n",
    "pp.pprint(dp_information)\n",
    "\n",
    "# Create a Deployment Plan\n",
    "print(\"Create a Deployment Plan\")\n",
    "deployment_plan = streamer.deployment_plans.create(dp_information)\n",
    "pp.pprint(deployment_plan)"
   ]
  },
  {
   "cell_type": "code",
   "execution_count": 40,
   "metadata": {},
   "outputs": [
    {
     "name": "stdout",
     "output_type": "stream",
     "text": [
      "\n",
      "Get Artifact Bundles by Name\n"
     ]
    },
    {
     "ename": "NameError",
     "evalue": "name 'artifact_bundles_to_be_created' is not defined",
     "output_type": "error",
     "traceback": [
      "\u001b[0;31m---------------------------------------------------------------------------\u001b[0m",
      "\u001b[0;31mNameError\u001b[0m                                 Traceback (most recent call last)",
      "\u001b[0;32m<ipython-input-40-618d6967f937>\u001b[0m in \u001b[0;36m<module>\u001b[0;34m\u001b[0m\n\u001b[1;32m      1\u001b[0m \u001b[0;31m# Get the Artifacts Bundle by Name\u001b[0m\u001b[0;34m\u001b[0m\u001b[0;34m\u001b[0m\u001b[0;34m\u001b[0m\u001b[0m\n\u001b[1;32m      2\u001b[0m \u001b[0mprint\u001b[0m\u001b[0;34m(\u001b[0m\u001b[0;34m\"\\nGet Artifact Bundles by Name\"\u001b[0m\u001b[0;34m)\u001b[0m\u001b[0;34m\u001b[0m\u001b[0;34m\u001b[0m\u001b[0m\n\u001b[0;32m----> 3\u001b[0;31m \u001b[0martifact_bundle\u001b[0m \u001b[0;34m=\u001b[0m \u001b[0mstreamer\u001b[0m\u001b[0;34m.\u001b[0m\u001b[0martifact_bundles\u001b[0m\u001b[0;34m.\u001b[0m\u001b[0mget_by_name\u001b[0m\u001b[0;34m(\u001b[0m\u001b[0martifact_bundles_to_be_created\u001b[0m\u001b[0;34m[\u001b[0m\u001b[0;34m'name'\u001b[0m\u001b[0;34m]\u001b[0m\u001b[0;34m)\u001b[0m\u001b[0;34m\u001b[0m\u001b[0;34m\u001b[0m\u001b[0m\n\u001b[0m\u001b[1;32m      4\u001b[0m \u001b[0mpprint\u001b[0m\u001b[0;34m(\u001b[0m\u001b[0martifact_bundle\u001b[0m\u001b[0;34m)\u001b[0m\u001b[0;34m\u001b[0m\u001b[0;34m\u001b[0m\u001b[0m\n",
      "\u001b[0;31mNameError\u001b[0m: name 'artifact_bundles_to_be_created' is not defined"
     ]
    }
   ],
   "source": [
    "# Get the Artifacts Bundle by Name\n",
    "print(\"\\nGet Artifact Bundles by Name\")\n",
    "artifact_bundle = streamer.artifact_bundles.get_by_name(artifact_bundles_to_be_created['name'])\n",
    "pprint(artifact_bundle)"
   ]
  },
  {
   "cell_type": "code",
   "execution_count": 50,
   "metadata": {},
   "outputs": [
    {
     "name": "stdout",
     "output_type": "stream",
     "text": [
      "\n",
      "Get the Deployment Plan by name\n",
      "[]\n"
     ]
    }
   ],
   "source": [
    "# Get the Deployment Plan by name\n",
    "print(\"\\nGet the Deployment Plan by name\")\n",
    "deployment_plan_by_name = streamer.deployment_plans.get_by('name', '22044547-6f5e-4cbc-af6b-197273d9f32c')\n",
    "pp.pprint(deployment_plan_by_name)"
   ]
  },
  {
   "cell_type": "code",
   "execution_count": null,
   "metadata": {},
   "outputs": [],
   "source": []
  }
 ],
 "metadata": {
  "kernelspec": {
   "display_name": "Python 3",
   "language": "python",
   "name": "python3"
  },
  "language_info": {
   "codemirror_mode": {
    "name": "ipython",
    "version": 3
   },
   "file_extension": ".py",
   "mimetype": "text/x-python",
   "name": "python",
   "nbconvert_exporter": "python",
   "pygments_lexer": "ipython3",
   "version": "3.7.2"
  }
 },
 "nbformat": 4,
 "nbformat_minor": 2
}

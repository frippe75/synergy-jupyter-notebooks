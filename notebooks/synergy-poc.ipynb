{
 "cells": [
  {
   "cell_type": "markdown",
   "metadata": {},
   "source": [
    "# Welcome to the Synergy Single Frame with Image Streamer POC\n",
    "Created by Fredrik Tärnell - 2019-02-29<br>\n",
    "\n",
    "Jupyter Notebooks can be found: https://github.com/frippe75/synergy-jupyter-notebooks<br>\n",
    "Together with a Docker image with all dependencies inluded and a quickstart guide.\n",
    "\n",
    "\n",
    "### API information\n",
    "\n",
    "http://h17007.www1.hpe.com/docs/enterprise/servers/oneview4.1/cic-api/en/index.html <br>\n",
    "\n",
    "\n",
    "### Python specific\n",
    "https://hewlettpackard.github.io/python-hpOneView/index.html<br>\n",
    "https://github.com/HewlettPackard/python-hpOneView<br>\n",
    "\n",
    "## Table of content\n",
    "\n",
    "- **[Dependencies and logging in](#Dependencies)**<br>\n",
    "   + [Import the Python OneView library](#Import)<br>\n",
    "   + [YAML file or embedded document](#YAML)<br>\n",
    "   + [Login against Oneview](#Login)<br>\n",
    "   \n",
    "- **[Settings](#Setting)**<br>\n",
    "   + [Addresses and Indentifiers](#Address-identifiers)<br>\n",
    "   + [Networks](#Networks)<br>\n",
    "\n",
    "- **[Storage](#Storage)**<br>\n",
    "   + [SAN MAnagers](#SANMgr)<br> \n",
    "   + [Storage Systems](#StorageSystems)<br> \n",
    "   \n",
    "\n",
    "\n",
    "  <br> \n",
    "- **[Server Profiles](#SP)**<br>\n",
    "   + [Power On/Off all Profiles](#SP-power)<br>\n",
    "   + [Delete all Profiles](#SP-delete)<br>\n",
    "- **[Server Profiles Templates](#SPT)**<br>\n",
    "   + [Delete all Profiles Templates](#SPT-delete)<br>\n",
    "- **[Appliances](#Appliances)**<br>\n",
    "   + [eFuse Composer / Image Streamer](#Appliance-efuse)<br>\n",
    "\n",
    "<br><br><br>\n",
    "# Dependencies and logging in\n"
   ]
  },
  {
   "cell_type": "markdown",
   "metadata": {},
   "source": [
    "\n",
    "### Import the Python OneView library with some additional dependencies for this playbook <a name=\"Import\"></a>"
   ]
  },
  {
   "cell_type": "code",
   "execution_count": 4,
   "metadata": {
    "code_folding": [
     10
    ]
   },
   "outputs": [],
   "source": [
    "from hpOneView.oneview_client import OneViewClient\n",
    "from hpOneView.exceptions import HPOneViewException\n",
    "import pandas, yaml\n",
    "from IPython.display import display, Markdown\n",
    "from pprint import pprint\n",
    "\n",
    "poc_file = None\n",
    "\n",
    "# Simple helper function to make nicer tables using markdown and the pandas lib\n",
    "# TODO: get it into helper module that gets imported above \n",
    "def my_table(source=dict(), resource=\"Resource\", columns='name'):\n",
    "    data = pandas.DataFrame.from_dict(source)\n",
    "    table = data.to_html(index=False,header=True,columns=columns)\n",
    "    \n",
    "    display(Markdown('### ' + resource + ' in Synergy Composer at https://' + config['ip']))\n",
    "    display(Markdown(table))"
   ]
  },
  {
   "cell_type": "markdown",
   "metadata": {},
   "source": [
    "### Configure your environment\n",
    "**Please note:** that if you use the option below to get the YAML doc from a file the config dict will be overwritten by the config from the file. During the login, check that you are logged in against the correct Oneview instance"
   ]
  },
  {
   "cell_type": "code",
   "execution_count": 31,
   "metadata": {},
   "outputs": [],
   "source": [
    "composer_ip = \"synergy.hpedemo.local\"\n",
    "config = {\n",
    "    \"api_version\": \"800\",\n",
    "    \"ip\": composer_ip,\n",
    "    \"credentials\": {\n",
    "        \"userName\": \"Administrator\",\n",
    "        \"authLoginDomain\": \"local\",\n",
    "        \"password\": \"HPEc0nverged!\"\n",
    "    }\n",
    "}"
   ]
  },
  {
   "cell_type": "markdown",
   "metadata": {},
   "source": [
    "### YAML file or embedded document <a name=\"YAML\"></a>\n",
    "Determine wheter to load the YAML doc from a variable or file<br>\n",
    "Setting the filename takes precedence over variable"
   ]
  },
  {
   "cell_type": "code",
   "execution_count": 37,
   "metadata": {},
   "outputs": [
    {
     "name": "stdout",
     "output_type": "stream",
     "text": [
      "\n",
      "Oneview endpoint config was found and is used. Removing it to avoid displaying passwords\n",
      "\n",
      "SANManagers:\n",
      "- {authProtocol: MD5, ip: 172.18.20.1, password: dcsdcsdcs, securityLevel: Authentication,\n",
      "  type: Cisco, userName: dcs-MD5}\n",
      "- {authProtocol: MD5, ip: 172.18.20.2, password: dcsdcsdcs, securityLevel: Authentication,\n",
      "  type: Cisco, userName: dcs-MD5}\n",
      "addresses:\n",
      "- dnsServers: [10.48.10.4, 10.48.10.6]\n",
      "  domain: hpedemo.local\n",
      "  gateway: 10.48.0.1\n",
      "  networkId: 10.48.0.0\n",
      "  range: {endAddress: 10.48.0.124, name: LE-POC-01, startAddress: 10.48.0.104}\n",
      "  subnetmask: 255.255.255.0\n",
      "- networkId: 192.168.10.0\n",
      "  range: {endAddress: 192.168.10.100, name: iSCSI-boot, startAddress: 192.168.10.10}\n",
      "  subnetmask: 255.255.255.0\n",
      "- dnsServers: [10.48.10.4, 10.48.10.6]\n",
      "  domain: hpedemo.local\n",
      "  gateway: 10.48.10.1\n",
      "  networkId: 10.48.10.0\n",
      "  range: {endAddress: 10.48.10.79, name: LE-POC-01, startAddress: 10.48.10.70}\n",
      "  subnetmask: 255.255.255.0\n",
      "- networkId: 192.168.20.0\n",
      "  range: {endAddress: 192.168.20.100, name: vMotion, startAddress: 192.168.20.10}\n",
      "  subnetmask: 255.255.255.0\n",
      "networks:\n",
      "- {association: 10.48.0.0, name: VLAN2000_10.48.0, purpose: Management, vlanId: 2000}\n",
      "- {association: 10.48.10.0, name: VLAN2000_10.48.10, purpose: Management, vlanId: 2001}\n",
      "- {association: 192.168.10.0, name: ImageStreamer-Boot, purpose: ISCSI, vlanId: 1001}\n",
      "- {association: 192.168.20.0, name: ESX_vMotion_FrameInternal, purpose: ISCSI, vlanId: 1000}\n",
      "- {ethernetNetworkType: Tunnel, name: Tunnel01}\n",
      "- {name: VLAN400_10.2, vlanId: 400}\n",
      "- {name: VLAN402_10.3, vlanId: 300}\n",
      "- {name: NFS-Simplivity, vlanId: 2010}\n",
      "storageSystems:\n",
      "- {family: StoreServ, hostname: 172.18.11.11, password: dcs, username: dcs}\n",
      "\n"
     ]
    }
   ],
   "source": [
    "# Comment out to use the poc_file to allow the embedded poc_doc to be used\n",
    "poc_file = \"synergy420-DCS-poc.yaml\"\n",
    "\n",
    "# Example YAML stucture for allowing Addresses and Indentifiers part work without a file\n",
    "poc_doc = \"\"\"\n",
    "---\n",
    "  addresses:\n",
    "    # Synergy Management \n",
    "    - networkId: 10.48.0.0\n",
    "      subnetmask: 255.255.255.0\n",
    "      gateway: 10.48.0.1\n",
    "      domain: hpedemo.local\n",
    "      dnsServers: \n",
    "        - 10.48.10.4\n",
    "        - 10.48.10.6\n",
    "      range:\n",
    "        name: LE-POC-01\n",
    "        startAddress: 10.48.0.104\n",
    "        endAddress: 10.48.0.124\n",
    "    # Image Streamer iSCSI \n",
    "    - networkId: 192.168.10.0\n",
    "      subnetmask: 255.255.255.0\n",
    "      range:\n",
    "        name: iSCSI-boot\n",
    "        startAddress: 192.168.10.10\n",
    "        endAddress: 192.168.10.100\n",
    "    # VMware Mgmt \n",
    "    - networkId: 10.48.10.0\n",
    "      subnetmask: 255.255.255.0\n",
    "      gateway: 10.48.10.1\n",
    "      domain: hpedemo.local\n",
    "      dnsServers: \n",
    "        - 10.48.10.4\n",
    "        - 10.48.10.6\n",
    "      range:\n",
    "        name: LE-POC-01\n",
    "        startAddress: 10.48.10.70\n",
    "        endAddress: 10.48.10.79\n",
    "    # vMotion \n",
    "    - networkId: 192.168.20.0\n",
    "      subnetmask: 255.255.255.0\n",
    "      range:\n",
    "        name: vMotion\n",
    "        startAddress: 192.168.20.10\n",
    "        endAddress: 192.168.20.100\n",
    "\"\"\"\n",
    "# load/parse the YAML doc into a variable\n",
    "if poc_file is not None:\n",
    "    with open(poc_file) as f:\n",
    "        poc_doc = f.read()\n",
    "    # print(poc_doc)\n",
    "    poc = yaml.load(poc_doc)\n",
    "    # Check if Oneview config key is part of the YAML file and use that for logging in.\n",
    "    if 'config' in poc:\n",
    "        print(\"\\nOneview endpoint config was found and is used. Removing it to avoid displaying passwords\\n\")\n",
    "        config = poc.pop('config', None)\n",
    "else:\n",
    "    poc = yaml.load(poc_doc)\n",
    "    \n",
    "# Print it out for sanitycheck\n",
    "print (yaml.dump(poc))"
   ]
  },
  {
   "cell_type": "markdown",
   "metadata": {},
   "source": [
    "<br><br>\n",
    "## Login against the Appliance / Composer instance: <a name=\"Login\"></a>\n",
    "Create new object \"ov\" with the config (see above) using the JSON config dict above"
   ]
  },
  {
   "cell_type": "code",
   "execution_count": 33,
   "metadata": {
    "scrolled": true
   },
   "outputs": [
    {
     "name": "stdout",
     "output_type": "stream",
     "text": [
      "\n",
      "Logged in against syn420-dcs.hpedemo.local successfully\n",
      "\n"
     ]
    }
   ],
   "source": [
    "try:\n",
    "    ov = OneViewClient(config)\n",
    "    print(\"\\nLogged in against \" + config['ip'] + \" successfully\\n\")\n",
    "except HPOneViewException as e:\n",
    "    print(\"\\nLogged in failed:\")\n",
    "    print(e.msg)"
   ]
  },
  {
   "cell_type": "markdown",
   "metadata": {},
   "source": [
    "<br><br>\n",
    "# Settings  <a name=\"Settings\"></a>\n",
    "## Addresses and Indentifiers  <a name=\"Address-identifiers\"></a>\n",
    "Here we define required networks for both Synergy Management network as well as Image Streamer iSCSi boot network and VMware vMotion."
   ]
  },
  {
   "cell_type": "code",
   "execution_count": 27,
   "metadata": {},
   "outputs": [
    {
     "name": "stdout",
     "output_type": "stream",
     "text": [
      "Create IPv4 subnet 10.48.0.0 for id pools\n",
      "The subnet for Network ID - 10.48.0.0 and Subnet Mask - 255.255.255.0 is overlapping with the subnet for Network ID - 10.48.0.0 and Subnet Mask - 255.255.255.0.\n",
      "\n",
      "Create IPv4 subnet 192.168.10.0 for id pools\n",
      "The subnet for Network ID - 192.168.10.0 and Subnet Mask - 255.255.255.0 is overlapping with the subnet for Network ID - 192.168.10.0 and Subnet Mask - 255.255.255.0.\n",
      "\n",
      "Create IPv4 subnet 10.48.10.0 for id pools\n",
      "The subnet for Network ID - 10.48.10.0 and Subnet Mask - 255.255.255.0 is overlapping with the subnet for Network ID - 10.48.10.0 and Subnet Mask - 255.255.255.0.\n",
      "\n",
      "Create IPv4 subnet 192.168.20.0 for id pools\n",
      "The subnet for Network ID - 192.168.20.0 and Subnet Mask - 255.255.255.0 is overlapping with the subnet for Network ID - 192.168.20.0 and Subnet Mask - 255.255.255.0.\n",
      "\n",
      "\n",
      "Getting all IPv4 subnets...\n"
     ]
    },
    {
     "data": {
      "text/markdown": [
       "### Subnets in Synergy Composer at https://syn420-dcs.hpedemo.local"
      ],
      "text/plain": [
       "<IPython.core.display.Markdown object>"
      ]
     },
     "metadata": {},
     "output_type": "display_data"
    },
    {
     "data": {
      "text/markdown": [
       "<table border=\"1\" class=\"dataframe\">\n",
       "  <thead>\n",
       "    <tr style=\"text-align: right;\">\n",
       "      <th>name</th>\n",
       "      <th>networkId</th>\n",
       "      <th>subnetmask</th>\n",
       "      <th>domain</th>\n",
       "      <th>gateway</th>\n",
       "    </tr>\n",
       "  </thead>\n",
       "  <tbody>\n",
       "    <tr>\n",
       "      <td>10.48.0.0</td>\n",
       "      <td>10.48.0.0</td>\n",
       "      <td>255.255.255.0</td>\n",
       "      <td>hpedemo.local</td>\n",
       "      <td>10.48.0.1</td>\n",
       "    </tr>\n",
       "    <tr>\n",
       "      <td>10.48.10.0</td>\n",
       "      <td>10.48.10.0</td>\n",
       "      <td>255.255.255.0</td>\n",
       "      <td>hpedemo.local</td>\n",
       "      <td>10.48.10.1</td>\n",
       "    </tr>\n",
       "    <tr>\n",
       "      <td>192.168.10.0</td>\n",
       "      <td>192.168.10.0</td>\n",
       "      <td>255.255.255.0</td>\n",
       "      <td>None</td>\n",
       "      <td>None</td>\n",
       "    </tr>\n",
       "    <tr>\n",
       "      <td>192.168.20.0</td>\n",
       "      <td>192.168.20.0</td>\n",
       "      <td>255.255.255.0</td>\n",
       "      <td>None</td>\n",
       "      <td>None</td>\n",
       "    </tr>\n",
       "  </tbody>\n",
       "</table>"
      ],
      "text/plain": [
       "<IPython.core.display.Markdown object>"
      ]
     },
     "metadata": {},
     "output_type": "display_data"
    }
   ],
   "source": [
    "# Need to reload/parse the YAML doc again since the options.pop mutates the existing dictionary so the contents of the dictionary changes \n",
    "poc = yaml.load(poc_doc)\n",
    "\n",
    "# Loop over the addresses array and create subnets and ranges\n",
    "if 'addresses' in poc:\n",
    "    for options in poc['addresses']:\n",
    "\n",
    "        options.update({\n",
    "            \"type\": \"Subnet\",\n",
    "            \"name\": options['networkId']\n",
    "        })\n",
    "        # Remove/extract  the range key since it does not belong there.\n",
    "        range_option = options.pop('range', None)\n",
    "        #pprint(options)  \n",
    "\n",
    "        try:\n",
    "            print(\"Create IPv4 subnet \" + options['networkId'] +\" for id pools\")\n",
    "            ipv4_subnet = ov.id_pools_ipv4_subnets.create(options)\n",
    "\n",
    "            #pprint(range_option)\n",
    "\n",
    "            range_option.update({\n",
    "                \"type\": \"Range\",\n",
    "                \"rangeCategory\": \"Custom\",\n",
    "                \"subnetUri\": ipv4_subnet['uri']\n",
    "            })\n",
    "            print(\"Creating an IPv4 Range for id pools\\n\")\n",
    "            ipv4_range = ov.id_pools_ipv4_ranges.create(range_option)\n",
    "            # pprint(ipv4_range)\n",
    "        except HPOneViewException as e:\n",
    "            print(e.msg + \"\\n\")\n",
    "else:\n",
    "    print(\"No Addresses in the poc dict. Nothing created!\")    \n",
    "    \n",
    "print(\"\\nGetting all IPv4 subnets...\")\n",
    "all_subnets = ov.id_pools_ipv4_subnets.get_all()\n",
    "\n",
    "#pprint(all_subnets)\n",
    "\n",
    "my_table(all_subnets, resource=\"Subnets\", columns=['name','networkId','subnetmask','domain','gateway'])"
   ]
  },
  {
   "cell_type": "markdown",
   "metadata": {},
   "source": [
    "<br><br>\n",
    "## Networks  <a name=\"Networks\"></a>"
   ]
  },
  {
   "cell_type": "code",
   "execution_count": 21,
   "metadata": {},
   "outputs": [
    {
     "name": "stdout",
     "output_type": "stream",
     "text": [
      "\n",
      "Creating ethernet network VLAN2000_10.48.0\n",
      "Created succesfully.\n",
      "\n",
      "Creating ethernet network VLAN2000_10.48.10\n",
      "Created succesfully.\n",
      "\n",
      "Creating ethernet network ImageStreamer-Boot\n",
      "Created succesfully.\n",
      "\n",
      "Creating ethernet network ESX_vMotion_FrameInternal\n",
      "Created succesfully.\n",
      "\n",
      "Creating ethernet network Tunnel01\n",
      "Created succesfully.\n",
      "\n",
      "Creating ethernet network VLAN400_10.2\n",
      "Created succesfully.\n",
      "\n",
      "Creating ethernet network VLAN402_10.3\n",
      "Created succesfully.\n",
      "\n",
      "Creating ethernet network NFS-Simplivity\n",
      "Created succesfully.\n",
      "\n",
      "Getting all IPv4 networks...\n"
     ]
    },
    {
     "data": {
      "text/markdown": [
       "### Networks in Synergy Composer at https://syn420-dcs.hpedemo.local"
      ],
      "text/plain": [
       "<IPython.core.display.Markdown object>"
      ]
     },
     "metadata": {},
     "output_type": "display_data"
    },
    {
     "data": {
      "text/markdown": [
       "<table border=\"1\" class=\"dataframe\">\n",
       "  <thead>\n",
       "    <tr style=\"text-align: right;\">\n",
       "      <th>name</th>\n",
       "      <th>description</th>\n",
       "      <th>vlanId</th>\n",
       "      <th>uri</th>\n",
       "      <th>purpose</th>\n",
       "    </tr>\n",
       "  </thead>\n",
       "  <tbody>\n",
       "    <tr>\n",
       "      <td>VLAN2000_10.48.0</td>\n",
       "      <td>None</td>\n",
       "      <td>2000</td>\n",
       "      <td>/rest/ethernet-networks/23c5b8e0-8bfb-4741-9d6...</td>\n",
       "      <td>Management</td>\n",
       "    </tr>\n",
       "    <tr>\n",
       "      <td>NFS-Simplivity</td>\n",
       "      <td>None</td>\n",
       "      <td>2010</td>\n",
       "      <td>/rest/ethernet-networks/284796fc-f3d9-465d-add...</td>\n",
       "      <td>General</td>\n",
       "    </tr>\n",
       "    <tr>\n",
       "      <td>ESX_vMotion_FrameInternal</td>\n",
       "      <td>None</td>\n",
       "      <td>1000</td>\n",
       "      <td>/rest/ethernet-networks/35b46e80-ebaf-427c-883...</td>\n",
       "      <td>ISCSI</td>\n",
       "    </tr>\n",
       "    <tr>\n",
       "      <td>VLAN2000_10.48.10</td>\n",
       "      <td>None</td>\n",
       "      <td>2001</td>\n",
       "      <td>/rest/ethernet-networks/481b00e9-5779-48a8-b09...</td>\n",
       "      <td>Management</td>\n",
       "    </tr>\n",
       "    <tr>\n",
       "      <td>Tunnel01</td>\n",
       "      <td>None</td>\n",
       "      <td>0</td>\n",
       "      <td>/rest/ethernet-networks/4ec86446-fff3-4b70-a5c...</td>\n",
       "      <td>General</td>\n",
       "    </tr>\n",
       "    <tr>\n",
       "      <td>VLAN400_10.2</td>\n",
       "      <td>None</td>\n",
       "      <td>400</td>\n",
       "      <td>/rest/ethernet-networks/7c5f4ef3-0176-4221-8a1...</td>\n",
       "      <td>General</td>\n",
       "    </tr>\n",
       "    <tr>\n",
       "      <td>ImageStreamer-Boot</td>\n",
       "      <td>None</td>\n",
       "      <td>1001</td>\n",
       "      <td>/rest/ethernet-networks/bbdbcbc7-c1cd-4053-a7f...</td>\n",
       "      <td>ISCSI</td>\n",
       "    </tr>\n",
       "    <tr>\n",
       "      <td>VLAN402_10.3</td>\n",
       "      <td>None</td>\n",
       "      <td>300</td>\n",
       "      <td>/rest/ethernet-networks/c0f7e579-9588-4925-ac7...</td>\n",
       "      <td>General</td>\n",
       "    </tr>\n",
       "  </tbody>\n",
       "</table>"
      ],
      "text/plain": [
       "<IPython.core.display.Markdown object>"
      ]
     },
     "metadata": {},
     "output_type": "display_data"
    }
   ],
   "source": [
    "# Need to reload/parse the YAML doc again since the options.pop mutates the existing dictionary so the contents of the dictionary changes \n",
    "poc = yaml.load(poc_doc)\n",
    "\n",
    "# My defaults\n",
    "defaults = {\n",
    "    \"ethernetNetworkType\": \"Tagged\",\n",
    "    \"purpose\": \"General\",\n",
    "    \"smartLink\": True,\n",
    "    \"privateNetwork\": False,\n",
    "    \"type\" : \"ethernet-networkV4\",\n",
    "    \"connectionTemplateUri\": None,\n",
    "    #\"bandwidth\": {\n",
    "    #    \"maximumBandwidth\": 10000,\n",
    "    #    \"typicalBandwidth\": 2000\n",
    "    #}\n",
    "}\n",
    "\n",
    "# Loop over the addresses array and create subnets and ranges\n",
    "if 'networks' in poc:\n",
    "    for options in poc['networks']:\n",
    "\n",
    "        # Remove/extract the association key since it does not belong there.\n",
    "        association_subnet_id = options.pop('association', None)\n",
    "        if association_subnet_id is not None:\n",
    "            # TODO: This uses the get_all which returns an array. Best option is to use get(ID) but that is not implemented \n",
    "            #       for resource subnet properly. Doc indicates it should.\n",
    "            subnet = ov.id_pools_ipv4_subnets.get_all(filter='networkId=\"' + association_subnet_id + '\"')\n",
    "            subnet_uri = subnet[0]['uri']\n",
    "            # print(subnet_uri)\n",
    "            options.update({\"subnetUri\": subnet_uri})\n",
    "\n",
    "        # Merge with defaults new style of dictonary unpacking since Python 3.5 https://treyhunner.com/2016/02/how-to-merge-dictionaries-in-python/\n",
    "        net_options = {**defaults, **options}\n",
    "        # pprint(\"\\n\" + net_options)  \n",
    "\n",
    "        try:\n",
    "            print(\"\\nCreating ethernet network \" + net_options['name'] )\n",
    "            ethernet_network = ov.ethernet_networks.create(net_options)\n",
    "            print(\"Created succesfully.\")\n",
    "        except HPOneViewException as e:\n",
    "            print(\"Error during creation of: \" + net_options['name'])\n",
    "            print(e.msg)      \n",
    "else:\n",
    "    print(\"No Networks in the poc dict. Nothing created!\")\n",
    "        \n",
    "print(\"\\nGetting all IPv4 networks...\")\n",
    "all_nets = ov.ethernet_networks.get_all()\n",
    "\n",
    "#pprint(all_nets)        \n",
    "my_table(all_nets, resource=\"Networks\", columns=['name','description','vlanId','uri','purpose'])    "
   ]
  },
  {
   "cell_type": "markdown",
   "metadata": {},
   "source": [
    "<br><br>\n",
    "## SAN Managers  <a name=\"SANMgr\"></a>\n",
    "This part is pretty much a copy from the pythonOneview examples<br>\n",
    "https://github.com/HewlettPackard/python-hpOneView/blob/master/examples/san_managers.py<br>\n",
    "<br>\n",
    "Difference being it uses the YAML structure to created the listed resources as well as takes care of specifying defaults when needed.\n"
   ]
  },
  {
   "cell_type": "code",
   "execution_count": 29,
   "metadata": {
    "code_folding": []
   },
   "outputs": [
    {
     "name": "stdout",
     "output_type": "stream",
     "text": [
      "Adding SAN Manager 172.18.20.1of type Cisco\n",
      "Error during creation of SAN Manager: 172.18.20.1\n",
      "Duplicate SAN manager '172.18.20.1' at '/rest/fc-sans/device-managers/16eb8a22-c055-49d9-996e-aa05009c8518' is already imported.\n",
      "Adding SAN Manager 172.18.20.2of type Cisco\n",
      "Error during creation of SAN Manager: 172.18.20.2\n",
      "Duplicate SAN manager '172.18.20.2' at '/rest/fc-sans/device-managers/43aed419-37d4-43d3-8b67-aa05009c88b5' is already imported.\n",
      "\n",
      "Getting all SAN Managers...\n"
     ]
    },
    {
     "data": {
      "text/markdown": [
       "### SAN Managers in Synergy Composer at https://syn420-dcs.hpedemo.local"
      ],
      "text/plain": [
       "<IPython.core.display.Markdown object>"
      ]
     },
     "metadata": {},
     "output_type": "display_data"
    },
    {
     "data": {
      "text/markdown": [
       "<table border=\"1\" class=\"dataframe\">\n",
       "  <thead>\n",
       "    <tr style=\"text-align: right;\">\n",
       "      <th>deviceManagerUrl</th>\n",
       "      <th>deviceManagerVersion</th>\n",
       "      <th>description</th>\n",
       "      <th>providerDisplayName</th>\n",
       "      <th>state</th>\n",
       "      <th>status</th>\n",
       "    </tr>\n",
       "  </thead>\n",
       "  <tbody>\n",
       "    <tr>\n",
       "      <td>172.18.20.1</td>\n",
       "      <td>6.2(5)</td>\n",
       "      <td>MDS 9250i 40 FC 2 IPS 8 FCoE (1 Slot) Chassis</td>\n",
       "      <td>Cisco</td>\n",
       "      <td>Managed</td>\n",
       "      <td>OK</td>\n",
       "    </tr>\n",
       "    <tr>\n",
       "      <td>172.18.20.2</td>\n",
       "      <td>6.2(5)</td>\n",
       "      <td>MDS 9250i 40 FC 2 IPS 8 FCoE (1 Slot) Chassis</td>\n",
       "      <td>Cisco</td>\n",
       "      <td>Managed</td>\n",
       "      <td>OK</td>\n",
       "    </tr>\n",
       "  </tbody>\n",
       "</table>"
      ],
      "text/plain": [
       "<IPython.core.display.Markdown object>"
      ]
     },
     "metadata": {},
     "output_type": "display_data"
    }
   ],
   "source": [
    "# Need to reload/parse the YAML doc again since the options.pop mutates the existing dictionary so the contents of the dictionary changes \n",
    "poc = yaml.load(poc_doc)\n",
    "\n",
    "# Loop over the addresses array and create subnets and ranges\n",
    "if 'networks' in poc:\n",
    "    for mgrs in poc['SANManagers']:\n",
    "\n",
    "        # Handle Cisco in one way\n",
    "        if 'type' in mgrs and mgrs['type'] == 'Cisco':\n",
    "            # print(mgrs['type'])\n",
    "\n",
    "            # passed values or defaults not optional parameters\n",
    "            if 'snmpPort' in mgrs:\n",
    "                snmp_port = mgrs['snmpPort']\n",
    "            else:\n",
    "                snmp_port = 161\n",
    "\n",
    "            if 'authProtocol' in mgrs:\n",
    "                auth_proto = mgrs['authProtocol']\n",
    "            else:\n",
    "                auth_proto = \"sha\"\n",
    "\n",
    "            if 'privProtocol' in mgrs:\n",
    "                priv_proto = mgrs['privProtocol']\n",
    "            else:\n",
    "                priv_proto = \"aes-128\"\n",
    "\n",
    "            options = {\n",
    "                'providerDisplayName': 'Cisco',\n",
    "                'connectionInfo': [\n",
    "                    {\n",
    "                        'name': 'Host',\n",
    "                        'displayName': 'Host',\n",
    "                        'required': True,\n",
    "                        'value': mgrs['ip'],\n",
    "                        'valueFormat': 'IPAddressOrHostname',\n",
    "                        'valueType': 'String'\n",
    "                    },{\n",
    "                        'name': 'SnmpPort',\n",
    "                        'displayName': 'SnmpPort',\n",
    "                        'required': True,\n",
    "                        'value': snmp_port,\n",
    "                        'valueFormat': 'None',\n",
    "                        'valueType': 'Integer'\n",
    "                    },{\n",
    "                        'name': 'SnmpUserName',\n",
    "                        'displayName': 'SnmpUserName',\n",
    "                        'required': True,\n",
    "                        'value': mgrs['userName'],\n",
    "                        'valueFormat': 'None',\n",
    "                        'valueType': 'String'\n",
    "                    },{\n",
    "                        'name': 'SnmpAuthLevel',\n",
    "                        'displayName': 'SnmpAuthLevel',\n",
    "                        'required': True,\n",
    "                        'value': 'authnopriv',\n",
    "                        'valueFormat': 'None',\n",
    "                        'valueType': 'String'\n",
    "                    },{\n",
    "                        'name': 'SnmpAuthProtocol',\n",
    "                        'displayName': 'SnmpAuthProtocol',\n",
    "                        'required': False,\n",
    "                        'value': auth_proto,\n",
    "                        'valueFormat': 'None',\n",
    "                        'valueType': 'String'\n",
    "                    },{\n",
    "                        'name': 'SnmpAuthString',\n",
    "                        'displayName': 'SnmpAuthString',\n",
    "                        'required': False,\n",
    "                        'value': mgrs['password'],\n",
    "                        'valueFormat': 'SecuritySensitive',\n",
    "                        'valueType': 'String'\n",
    "                    },{\n",
    "                        'name': 'SnmpPrivProtocol',\n",
    "                        'displayName': 'SnmpPrivProtocol',\n",
    "                        'required': False,\n",
    "                        'value': priv_proto,\n",
    "                        'valueFormat': 'None',\n",
    "                        'valueType': 'String'\n",
    "                    },{\n",
    "                        'name': 'SnmpPrivString',\n",
    "                        'displayName': 'SnmpPrivString',\n",
    "                        'required': False,\n",
    "                        'value': '',\n",
    "                        'valueFormat': 'SecuritySensitive',\n",
    "                        'valueType': 'String'\n",
    "                    }\n",
    "                ]\n",
    "            }\n",
    "\n",
    "        # Handle Brocade in another way\n",
    "        if 'type' in mgrs and mgrs['type'] == 'Brocade':   \n",
    "            # passed values or defaults not optional parameters\n",
    "            if 'port' in mgrs:\n",
    "                bna_port = mgrs['port']\n",
    "            else:\n",
    "                bna_port = 5989\n",
    "\n",
    "            if 'UseSsl' in mgrs:\n",
    "                use_ssl = mgrs['UseSsl']\n",
    "            else:\n",
    "                use_ssl = True\n",
    "\n",
    "            options = {\n",
    "                'providerDisplayName': 'Brocade',\n",
    "                'connectionInfo': [{\n",
    "                    'name': 'Host',\n",
    "                    'value': mgrs['ip']\n",
    "                },{\n",
    "                    'name': 'Port',\n",
    "                    'value': bna_port\n",
    "                },{\n",
    "                    'name': 'Username',\n",
    "                    'value': mgrs['userName']\n",
    "                },{\n",
    "                    'name': 'Password',\n",
    "                    'value': mgrs['password']\n",
    "                },{\n",
    "                    'name': 'UseSsl',\n",
    "                    'value': use_ssl\n",
    "                }]\n",
    "            }\n",
    "\n",
    "        # Handle HPE San Managers not implemented\n",
    "        if 'type' in mgrs and mgrs['type'] == 'HPE':\n",
    "            # TODO: Implement this \n",
    "            print(\"WARNING: HPE San Manager types not implemented.\")\n",
    "\n",
    "        try:\n",
    "            # print(options)\n",
    "            provider_uri = ov.san_managers.get_provider_uri(mgrs['type'])\n",
    "            # print(provider_uri)\n",
    "            print(\"Adding SAN Manager \" + mgrs['ip'] + \"of type \" + mgrs['type'])\n",
    "            san_manager = ov.san_managers.add(options, provider_uri)\n",
    "            print(\"Created succesfully.\")\n",
    "        except HPOneViewException as e:\n",
    "            print(\"Error during creation of SAN Manager: \" + mgrs['ip'])\n",
    "            print(e.msg) \n",
    "else:\n",
    "    print(\"No SAN Managers in the poc dict. Nothing created!\")\n",
    "    \n",
    "print(\"\\nGetting all SAN Managers...\")\n",
    "all_san_mgrs = ov.san_managers.get_all()\n",
    "#pprint(all_san_mgrs)  \n",
    "\n",
    "# This will fail for Brocade SAN Managers, TODO: do get_all(filter=Brocade) and handle each type separately\n",
    "if all_san_mgrs:\n",
    "    my_table(all_san_mgrs, resource=\"SAN Managers\", columns=['deviceManagerUrl','deviceManagerVersion','description','providerDisplayName','state','status']) \n",
    "else:\n",
    "    print(\"No SAN Managers found\")"
   ]
  },
  {
   "cell_type": "markdown",
   "metadata": {},
   "source": [
    "<br><br>\n",
    "## Storage Systems <a name=\"StorageSystems\"></a>\n",
    "This will only add the \"no Domain\" pools and all of them"
   ]
  },
  {
   "cell_type": "code",
   "execution_count": 58,
   "metadata": {},
   "outputs": [
    {
     "name": "stdout",
     "output_type": "stream",
     "text": [
      "\n",
      "Adding ThreePAR-1 to Oneview\n",
      "Storage system 'ThreePAR-1' was already added.\n",
      "   uri = '/rest/storage-systems/TXQ1000307'\n",
      "{'deviceType': 'FC',\n",
      " 'domain': 'NO DOMAIN',\n",
      " 'freeCapacity': '861140942848',\n",
      " 'name': 'FC_r1',\n",
      " 'raidLevel': 'RAID1',\n",
      " 'totalCapacity': '1099511627776',\n",
      " 'uuid': '5dd206a8-90ce-4068-bd7a-51c1d29d4e60'}\n",
      "\n",
      "Updated 'managedDomain' to 'NO DOMAIN' so storage system can be managed\n",
      "\n",
      "Managed storage pool 'FC_r1' at uri: '5dd206a8-90ce-4068-bd7a-51c1d29d4e60'\n",
      "\n",
      "Getting all storage systems...\n"
     ]
    },
    {
     "data": {
      "text/markdown": [
       "### Storage Systems in Synergy Composer at https://syn420-dcs.hpedemo.local"
      ],
      "text/plain": [
       "<IPython.core.display.Markdown object>"
      ]
     },
     "metadata": {},
     "output_type": "display_data"
    },
    {
     "data": {
      "text/markdown": [
       "<table border=\"1\" class=\"dataframe\">\n",
       "  <thead>\n",
       "    <tr style=\"text-align: right;\">\n",
       "      <th>displayName</th>\n",
       "      <th>family</th>\n",
       "      <th>hostname</th>\n",
       "      <th>supportsFC</th>\n",
       "      <th>supportsIscsi</th>\n",
       "      <th>state</th>\n",
       "    </tr>\n",
       "  </thead>\n",
       "  <tbody>\n",
       "    <tr>\n",
       "      <td>ThreePAR-1</td>\n",
       "      <td>StoreServ</td>\n",
       "      <td>172.18.11.11</td>\n",
       "      <td>True</td>\n",
       "      <td>False</td>\n",
       "      <td>Managed</td>\n",
       "    </tr>\n",
       "  </tbody>\n",
       "</table>"
      ],
      "text/plain": [
       "<IPython.core.display.Markdown object>"
      ]
     },
     "metadata": {},
     "output_type": "display_data"
    }
   ],
   "source": [
    "# Need to reload/parse the YAML doc again since the options.pop mutates the existing dictionary so the contents of the dictionary changes \n",
    "poc = yaml.load(poc_doc)\n",
    "\n",
    "defaults = {\n",
    "    \"family\": 'StoreServ'\n",
    "}\n",
    "\n",
    "# Loop over the storage systems array and add them to oneview\n",
    "if 'storageSystems' in poc:\n",
    "    for array in poc['storageSystems']:\n",
    "        #pprint (array)\n",
    "        \n",
    "        # Merge with defaults new style of dictonary unpacking since Python 3.5 https://treyhunner.com/2016/02/how-to-merge-dictionaries-in-python/\n",
    "        array_options = {**defaults, **array}\n",
    "        # pprint(\"\\n\" + array_options) \n",
    "        \n",
    "        # Add and update storage system for management\n",
    "        try:\n",
    "            print(\"\\nAdding \" + storage_system['name'] + \" to Oneview\")\n",
    "            storage_system = ov.storage_systems.add(array_options)\n",
    "            print(\"Succesfully added it.\")\n",
    "        except HPOneViewException as e:\n",
    "            storage_system = ov.storage_systems.get_by_hostname(array_options['hostname'])\n",
    "            if storage_system:\n",
    "                print(\"Storage system '%s' was already added.\\n   uri = '%s'\" %\n",
    "                      (storage_system['name'], storage_system['uri']))\n",
    "            else:\n",
    "                print(e.msg)\n",
    "        \n",
    "        # Adds managed domains and managed pools to StoreServ storage systems\n",
    "        # This is a one-time only action, after this you cannot change the managed values\n",
    "        if not storage_system['deviceSpecificAttributes']['managedDomain']:\n",
    "            storage_system['deviceSpecificAttributes']['managedDomain'] = storage_system[\n",
    "                'deviceSpecificAttributes']['discoveredDomains'][0]\n",
    "            for pool in storage_system['deviceSpecificAttributes']['discoveredPools']:\n",
    "                if pool['domain'] == storage_system['deviceSpecificAttributes']['managedDomain']:\n",
    "                    pool_to_manage = pool\n",
    "                    storage_system['deviceSpecificAttributes']['discoveredPools'].remove(pool)\n",
    "                    pprint(pool_to_manage)\n",
    "                    break\n",
    "            storage_system['deviceSpecificAttributes']['managedPools'] = [pool_to_manage]\n",
    "            ov.storage_systems.update(storage_system)\n",
    "            print(\"\\nUpdated 'managedDomain' to '{}' so storage system can be managed\".format(\n",
    "                  storage_system['deviceSpecificAttributes']['managedDomain']))\n",
    "            print(\"\\nManaged storage pool '{}' at uri: '{}'\".format(storage_system['deviceSpecificAttributes'][\n",
    "                  'managedPools'][0]['name'], storage_system['deviceSpecificAttributes']['managedPools'][0]['uuid']))\n",
    "\n",
    "print(\"\\nGetting all storage systems...\")\n",
    "all_arrays = ov.storage_systems.get_all()\n",
    "#pprint(all_arrays)        \n",
    "\n",
    "my_table(all_arrays, resource=\"Storage Systems\", columns=['displayName','family', 'hostname','supportsFC','supportsIscsi','state'])                    "
   ]
  },
  {
   "cell_type": "markdown",
   "metadata": {},
   "source": [
    "<br><br>\n",
    "# Storage operations\n",
    "## Show configured / existing storage (systems and pools)"
   ]
  },
  {
   "cell_type": "code",
   "execution_count": 38,
   "metadata": {
    "scrolled": true
   },
   "outputs": [
    {
     "name": "stdout",
     "output_type": "stream",
     "text": [
      "Storage Systems:\n",
      "None defined!\n",
      "\n",
      "Storage Pools:\n",
      "None defined!\n"
     ]
    }
   ],
   "source": [
    "storage_systems = ov.storage_systems.get_all()\n",
    "storage_pools = ov.storage_pools.get_all()\n",
    "\n",
    "# storage_pool_name = 'FC_r1'\n",
    "# storage_pools = oneview_client.storage_pools.get_by('name', storage_pool_name)[0]\n",
    "\n",
    "print(\"Storage Systems:\")\n",
    "if storage_systems:\n",
    "    for stor in storage_systems: \n",
    "        print(stor['displayName'] + \"    URI: \" + stor['uri'])\n",
    "else:\n",
    "    print(\"None defined!\")\n",
    "    \n",
    "print(\"\\nStorage Pools:\")\n",
    "if storage_pools:\n",
    "    for storpool in storage_pools:\n",
    "        print(storpool['name'] + \"    URI: \" + stor['uri'])\n",
    "else:\n",
    "    print(\"None defined!\")"
   ]
  },
  {
   "cell_type": "code",
   "execution_count": 57,
   "metadata": {},
   "outputs": [
    {
     "ename": "NameError",
     "evalue": "name 'storpool' is not defined",
     "output_type": "error",
     "traceback": [
      "\u001b[0;31m---------------------------------------------------------------------------\u001b[0m",
      "\u001b[0;31mNameError\u001b[0m                                 Traceback (most recent call last)",
      "\u001b[0;32m<ipython-input-57-164fdba27f1b>\u001b[0m in \u001b[0;36m<module>\u001b[0;34m\u001b[0m\n\u001b[0;32m----> 1\u001b[0;31m \u001b[0;32mif\u001b[0m \u001b[0mstorpool\u001b[0m \u001b[0;32mis\u001b[0m \u001b[0;32mnot\u001b[0m \u001b[0;32mNone\u001b[0m\u001b[0;34m:\u001b[0m\u001b[0;34m\u001b[0m\u001b[0;34m\u001b[0m\u001b[0m\n\u001b[0m\u001b[1;32m      2\u001b[0m     \u001b[0mprint\u001b[0m \u001b[0;34m(\u001b[0m\u001b[0mstorpool\u001b[0m\u001b[0;34m)\u001b[0m\u001b[0;34m\u001b[0m\u001b[0;34m\u001b[0m\u001b[0m\n",
      "\u001b[0;31mNameError\u001b[0m: name 'storpool' is not defined"
     ]
    }
   ],
   "source": [
    "if storpool is not None: \n",
    "    print (storpool)"
   ]
  },
  {
   "cell_type": "markdown",
   "metadata": {},
   "source": [
    "<br><br>\n",
    "## Add Storage Systems"
   ]
  },
  {
   "cell_type": "code",
   "execution_count": null,
   "metadata": {},
   "outputs": [],
   "source": []
  },
  {
   "cell_type": "markdown",
   "metadata": {},
   "source": [
    "<br><br>\n",
    "## Show volume templates"
   ]
  },
  {
   "cell_type": "code",
   "execution_count": 31,
   "metadata": {
    "scrolled": true
   },
   "outputs": [
    {
     "name": "stdout",
     "output_type": "stream",
     "text": [
      "No storage volumes exists!\n"
     ]
    }
   ],
   "source": [
    "storage_volume = ov.storage_volume_templates.get_all(filter=\"\\\"isRoot='False'\\\"\")\n",
    "if storage_volume:\n",
    "    for storvol in storage_volume:\n",
    "        print(storvol['name'])\n",
    "else:\n",
    "    print (\"No storage volumes exists!\")"
   ]
  },
  {
   "cell_type": "markdown",
   "metadata": {},
   "source": [
    "<br><br>\n",
    "## Create volume template"
   ]
  },
  {
   "cell_type": "code",
   "execution_count": 13,
   "metadata": {},
   "outputs": [
    {
     "name": "stdout",
     "output_type": "stream",
     "text": [
      "/rest/storage-volume-templates/bf62b10a-7a6c-4c7a-ba1d-a8c800809aaa\n",
      "Storage volume created...\n"
     ]
    }
   ],
   "source": [
    "storage_pool_name = 'FC_r5'\n",
    "\n",
    "# Get the storage pool by name to use in options\n",
    "storage_pool = ov.storage_pools.get_by('name', storage_pool_name)[0]\n",
    "\n",
    "# Gets the first Root Storage Volume Template available to use in options\n",
    "root_template = ov.storage_volume_templates.get_all(filter=\"\\\"isRoot='True'\\\"\")[0]\n",
    "print(root_template['uri'])\n",
    "\n",
    "options = {\n",
    "    \"name\": \"First Volume Template\",\n",
    "    \"description\": \"\",\n",
    "    \"rootTemplateUri\": root_template['uri'],\n",
    "    \"properties\": {\n",
    "        \"name\": {\n",
    "            \"meta\": {\n",
    "                \"locked\": False\n",
    "            },\n",
    "            \"type\": \"string\",\n",
    "            \"title\": \"Volume name\",\n",
    "            \"required\": True,\n",
    "            \"maxLength\": 100,\n",
    "            \"minLength\": 1,\n",
    "            \"description\": \"A volume name between 1 and 100 characters\"\n",
    "        },\n",
    "        \"size\": {\n",
    "            \"meta\": {\n",
    "                \"locked\": False,\n",
    "                \"semanticType\": \"capacity\"\n",
    "            },\n",
    "            \"type\": \"integer\",\n",
    "            \"title\": \"Capacity\",\n",
    "            \"default\": 1073741824,\n",
    "            \"maximum\": 17592186044416,\n",
    "            \"minimum\": 268435456,\n",
    "            \"required\": True,\n",
    "            \"description\": \"The capacity of the volume in bytes\"\n",
    "        },\n",
    "        \"description\": {\n",
    "            \"meta\": {\n",
    "                \"locked\": False\n",
    "            },\n",
    "            \"type\": \"string\",\n",
    "            \"title\": \"Description\",\n",
    "            \"default\": \"\",\n",
    "            \"maxLength\": 2000,\n",
    "            \"minLength\": 0,\n",
    "            \"description\": \"A description for the volume\"\n",
    "        },\n",
    "        \"isShareable\": {\n",
    "            \"meta\": {\n",
    "                \"locked\": False\n",
    "            },\n",
    "            \"type\": \"boolean\",\n",
    "            \"title\": \"Is Shareable\",\n",
    "            \"default\": False,\n",
    "            \"description\": \"The shareability of the volume\"\n",
    "        },\n",
    "        \"storagePool\": {\n",
    "            \"meta\": {\n",
    "                \"locked\": False,\n",
    "                \"createOnly\": True,\n",
    "                \"semanticType\": \"device-storage-pool\"\n",
    "            },\n",
    "            \"type\": \"string\",\n",
    "            \"title\": \"Storage Pool\",\n",
    "            \"format\": \"x-uri-reference\",\n",
    "            \"required\": True,\n",
    "            \"description\": \"A common provisioning group URI reference\",\n",
    "            \"default\": storage_pool['uri']\n",
    "        },\n",
    "        \"snapshotPool\": {\n",
    "            \"meta\": {\n",
    "                \"locked\": True,\n",
    "                \"semanticType\": \"device-snapshot-storage-pool\"\n",
    "            },\n",
    "            \"type\": \"string\",\n",
    "            \"title\": \"Snapshot Pool\",\n",
    "            \"format\": \"x-uri-reference\",\n",
    "            \"default\": storage_pool['uri'],\n",
    "            \"description\": \"A URI reference to the common provisioning group used to create snapshots\"\n",
    "        },\n",
    "        \"provisioningType\": {\n",
    "            \"enum\": [\n",
    "                \"Thin\",\n",
    "                \"Full\",\n",
    "                \"Thin Deduplication\"\n",
    "            ],\n",
    "            \"meta\": {\n",
    "                \"locked\": True,\n",
    "                \"createOnly\": True\n",
    "            },\n",
    "            \"type\": \"string\",\n",
    "            \"title\": \"Provisioning Type\",\n",
    "            \"default\": \"Thin\",\n",
    "            \"description\": \"The provisioning type for the volume\"\n",
    "        }\n",
    "    }\n",
    "}\n",
    "\n",
    "volume_template = oneview_client.storage_volume_templates.create(options)\n",
    "print(\"Storage volume created...\")"
   ]
  },
  {
   "cell_type": "markdown",
   "metadata": {},
   "source": [
    "## Delete storage template\n",
    "\"\"\" don´t use it, for the demo.. \"\"\""
   ]
  },
  {
   "cell_type": "code",
   "execution_count": 14,
   "metadata": {},
   "outputs": [],
   "source": [
    "storage_volume = oneview_client.storage_volume_templates.get_all(filter=\"\\\"name='Roundtable Volume Template'\\\"\")\n",
    "for storvol in storage_volume:\n",
    "    oneview_client.storage_volume_templates.delete(storvol)\n",
    "    "
   ]
  },
  {
   "cell_type": "markdown",
   "metadata": {},
   "source": [
    "## Show Enclosure / Server Hardware / Bay"
   ]
  },
  {
   "cell_type": "code",
   "execution_count": 15,
   "metadata": {},
   "outputs": [
    {
     "name": "stdout",
     "output_type": "stream",
     "text": [
      "show enclosure group (enclosure_group_uri)\n",
      "SY 3 Frame SAS FC VC /rest/enclosure-groups/73668dd8-d2cf-4004-b7df-8ca7cfeabbc0\n",
      "SY 1 Frame VC /rest/enclosure-groups/92e527ff-7129-489f-87dc-e7d5821f13c6\n",
      "SY 3 Frame SAS VC /rest/enclosure-groups/109eed5b-4cff-470e-b2ca-ffb26eb5c678\n",
      "\n",
      "show server hardware (server_hardware_type_uri)\n",
      "Synergy 660 Gen9 URI: /rest/server-hardware-types/A435F2DD-9EB9-4F98-B854-1A6B35140DC9\n",
      "Synergy 660 Gen10 URI: /rest/server-hardware-types/7AA9D8EE-C46A-4901-8D10-C252AF9DB1A4\n",
      "Synergy 480 Gen9 URI: /rest/server-hardware-types/860CAF19-0D67-401A-A1D2-536AA9356102\n",
      "Synergy 480 Gen9 URI: /rest/server-hardware-types/1131E4D0-9C51-4615-A20E-CCF00F02A94F\n",
      "Synergy 480 Gen10 URI: /rest/server-hardware-types/77E175FB-A4AA-4E95-8780-D1E9A40D3887\n",
      "Synergy 480 Gen10 URI: /rest/server-hardware-types/56C7D5F1-6221-4ACB-938B-21916B7DE5F3\n",
      "\n",
      "Enclosure/Bay (server_hardware_uri)\n",
      "CTC Synergy HE01, bay 1 Synergy 480 Gen10 /rest/server-hardware/39313738-3134-5A43-4A37-343030373531\n",
      "CTC Synergy HE01, bay 7 Synergy 480 Gen10 /rest/server-hardware/39313738-3134-5A43-4A37-343030373534\n",
      "CTC Synergy HE01, bay 2 Synergy 480 Gen10 /rest/server-hardware/39313738-3134-5A43-4A37-343030373535\n",
      "CTC Synergy HE01, bay 8 Synergy 480 Gen10 /rest/server-hardware/39313738-3134-5A43-4A37-343030373532\n",
      "CTC Synergy HE01, bay 3 Synergy 480 Gen10 /rest/server-hardware/39313738-3134-5A43-4A37-343030373536\n",
      "CTC Synergy HE11, bay 3 Synergy 480 Gen9 /rest/server-hardware/33323337-3235-5A43-3337-303948545332\n",
      "CTC Synergy HE11, bay 7 Synergy 480 Gen9 /rest/server-hardware/33323337-3235-5A43-3337-30394854544D\n",
      "CTC Synergy HE11, bay 5 Synergy 480 Gen9 /rest/server-hardware/33323337-3235-5A43-3337-303948545438\n",
      "CTC Synergy HE11, bay 8 Synergy 480 Gen9 /rest/server-hardware/33323337-3235-5A43-3337-303948545632\n",
      "CTC Synergy HE11, bay 4 Synergy 480 Gen9 /rest/server-hardware/33323337-3235-5A43-3337-303948545345\n",
      "CTC Synergy HE11, bay 10 Synergy 480 Gen9 /rest/server-hardware/33323337-3235-5A43-3337-303948545656\n",
      "CTC Synergy HE11, bay 9 Synergy 480 Gen9 /rest/server-hardware/33323337-3235-5A43-3337-303948545645\n",
      "CTC Synergy HE11, bay 2 Synergy 480 Gen9 /rest/server-hardware/33323337-3235-5A43-3337-30394854524D\n",
      "CTC Synergy HE21, bay 2 Synergy 480 Gen9 /rest/server-hardware/36343537-3338-4E43-3736-303230355931\n",
      "CTC Synergy HE11, bay 6 Synergy 480 Gen9 /rest/server-hardware/33323337-3235-5A43-3337-303948545356\n",
      "CTC Synergy HE21, bay 1 Synergy 480 Gen9 /rest/server-hardware/36343537-3338-4E43-3736-303230383144\n",
      "CTC Synergy HE21, bay 3 Synergy 480 Gen10 /rest/server-hardware/39313738-3234-5A43-4A37-343030373559\n",
      "CTC Synergy HE21, bay 10 Synergy 480 Gen9 /rest/server-hardware/33323337-3235-5A43-3337-303948545238\n",
      "CTC Synergy HE21, bay 6 Synergy 660 Gen9 /rest/server-hardware/30373737-3237-4E43-3735-353030335447\n",
      "CTC Synergy HE21, bay 4 Synergy 480 Gen10 /rest/server-hardware/39313738-3234-5A43-4A37-343030373558\n",
      "CTC Synergy HE21, bay 5 Synergy 660 Gen10 /rest/server-hardware/39313738-3133-5A43-4A37-343030373931\n",
      "CTC Synergy HE01, bay 9 Synergy 480 Gen10 /rest/server-hardware/39313738-3134-5A43-4A37-343030373533\n"
     ]
    }
   ],
   "source": [
    "print (\"show enclosure group (enclosure_group_uri)\")\n",
    "enclosure = oneview_client.enclosure_groups.get_all()\n",
    "for enc in enclosure:\n",
    "    print(enc['name'] + \" \" + enc['uri'])\n",
    "\n",
    "print(\"\\nshow server hardware (server_hardware_type_uri)\")\n",
    "server_hardware_types = oneview_client.server_hardware_types.get_all(sort='name:descending')\n",
    "# print(server_hardware_types)\n",
    "for serverhw in server_hardware_types:\n",
    "    # print(' %s ' % serverhw['model'])\n",
    "    print(serverhw['model'] + \" URI: \" + serverhw['uri'] )\n",
    "\n",
    "print(\"\\nEnclosure/Bay (server_hardware_uri)\")   \n",
    "server_hardware = oneview_client.server_hardware.get_all()\n",
    "for server in server_hardware:\n",
    "    print(server['name'] + \" \" + server['model'] + \" \" + server['uri'])"
   ]
  },
  {
   "cell_type": "markdown",
   "metadata": {},
   "source": [
    "<br>\n",
    "## Show Serverprofile\n"
   ]
  },
  {
   "cell_type": "code",
   "execution_count": 16,
   "metadata": {},
   "outputs": [
    {
     "name": "stdout",
     "output_type": "stream",
     "text": [
      "show server profile templates:\n",
      "SRT-Storage-BfS-W2k16   URI:   /rest/server-profile-templates/1df43d4a-76c3-4821-bff3-729446dc7231\n",
      "Roundtable - Python (DirkD)   URI:   /rest/server-profile-templates/1e2c29f5-e146-42d4-9f78-a057b41d3953\n",
      "SRT-LC-WIN-TP   URI:   /rest/server-profile-templates/308e1b0a-2e7c-40aa-bdf9-84eb87b42548\n",
      "SRT-StorageDemo-ESX   URI:   /rest/server-profile-templates/534d2abd-989c-456e-a84b-8c112ce3fcac\n",
      "Demo-CTC Windows2016-DC-byI3s   URI:   /rest/server-profile-templates/7a5d77bc-a372-4a44-8a52-b538ba703b97\n",
      "SRT-Storage-BfS-ESX   URI:   /rest/server-profile-templates/823883ee-0f0e-4554-8e00-a909001b28af\n",
      "Demo-CTC Windows2016-DC-byI3s_Gen10   URI:   /rest/server-profile-templates/894f818a-9604-48cb-ab9f-ea6c240a9381\n",
      "DEMO-CTC ESXi Server Template   URI:   /rest/server-profile-templates/ac2995c1-8b21-482b-80e8-7157f1984b75\n",
      "SRT-LC-WIN BfS   URI:   /rest/server-profile-templates/b18b3cf9-8f47-4a6a-be35-18bba3078acd\n",
      "DEMO-CTC Stratoscale Template   URI:   /rest/server-profile-templates/c8e28ad3-d764-441b-80ee-0280f72de850\n",
      "Roundtable - API Demo Template (DirkD)   URI:   /rest/server-profile-templates/cb62f9a2-5da4-49cc-896c-4d16fac04c1c\n",
      "Roundtable (DirkD)   URI:   /rest/server-profile-templates/cfe892e5-b775-46df-a36e-c65cf7e10100\n",
      "SRT-Lifecycle-ESX-TP   URI:   /rest/server-profile-templates/da1ba755-6033-4062-b3be-04d344b268e8\n",
      "\n",
      "show server profiles:\n",
      "DEMO Windwos 005   URI:  /rest/server-profile-templates/da1ba755-6033-4062-b3be-04d344b268e8\n",
      "Andreas   URI:  /rest/server-profile-templates/da1ba755-6033-4062-b3be-04d344b268e8\n",
      "SRT-LC-Win02   URI:  /rest/server-profile-templates/da1ba755-6033-4062-b3be-04d344b268e8\n",
      "SRTLCwin00   URI:  /rest/server-profile-templates/da1ba755-6033-4062-b3be-04d344b268e8\n",
      "SRT-LC-WIN01   URI:  /rest/server-profile-templates/da1ba755-6033-4062-b3be-04d344b268e8\n",
      "DEM05CTCCON01   URI:  /rest/server-profile-templates/da1ba755-6033-4062-b3be-04d344b268e8\n",
      "SRT-SmartCache-Demo   URI:  /rest/server-profile-templates/da1ba755-6033-4062-b3be-04d344b268e8\n",
      "SRT-SUO04SY2102   URI:  /rest/server-profile-templates/da1ba755-6033-4062-b3be-04d344b268e8\n",
      "DEM04CTCL0 CTC SAP HANA Demo   URI:  /rest/server-profile-templates/da1ba755-6033-4062-b3be-04d344b268e8\n",
      "DEMO-CTC ESX SUO04CTCD001   URI:  /rest/server-profile-templates/da1ba755-6033-4062-b3be-04d344b268e8\n",
      "CTC ESXi Reference Server GoldenImage   URI:  /rest/server-profile-templates/da1ba755-6033-4062-b3be-04d344b268e8\n",
      "CTC Windows2016 Reference Server GoldenImage für Gen10   URI:  /rest/server-profile-templates/da1ba755-6033-4062-b3be-04d344b268e8\n",
      "SUO04CTCSTRA1   URI:  /rest/server-profile-templates/da1ba755-6033-4062-b3be-04d344b268e8\n",
      "SRT-SUO04SY2110   URI:  /rest/server-profile-templates/da1ba755-6033-4062-b3be-04d344b268e8\n",
      "SUO04CTCSTRA3   URI:  /rest/server-profile-templates/da1ba755-6033-4062-b3be-04d344b268e8\n",
      "SUO04CTCSTRA5   URI:  /rest/server-profile-templates/da1ba755-6033-4062-b3be-04d344b268e8\n",
      "SUO04CTCSTRA4   URI:  /rest/server-profile-templates/da1ba755-6033-4062-b3be-04d344b268e8\n",
      "CTC Windows2016 Reference Server GoldenImage für Gen9   URI:  /rest/server-profile-templates/da1ba755-6033-4062-b3be-04d344b268e8\n",
      "SUO04CTCSTRA2   URI:  /rest/server-profile-templates/da1ba755-6033-4062-b3be-04d344b268e8\n",
      "SRT-SUO04SY2101   URI:  /rest/server-profile-templates/da1ba755-6033-4062-b3be-04d344b268e8\n",
      "SUO04CTCSTRA6   URI:  /rest/server-profile-templates/da1ba755-6033-4062-b3be-04d344b268e8\n"
     ]
    }
   ],
   "source": [
    "print(\"show server profile templates:\")\n",
    "all_srv_templates = oneview_client.server_profile_templates.get_all()\n",
    "for srv_tmp in all_srv_templates:\n",
    "    print(srv_tmp['name'] + \"   URI:   \" + srv_tmp['uri'])\n",
    "\n",
    "print(\"\\nshow server profiles:\")\n",
    "all_profiles = oneview_client.server_profiles.get_all()\n",
    "for profile in all_profiles:\n",
    "    print(profile['name']+ \"   URI:  \" + srv_tmp['uri'])\n",
    "\n",
    "# my_profile = oneview_client.server_profiles.get_by_name(\"Roundtable - API Demo Template (DirkD)\")"
   ]
  },
  {
   "cell_type": "markdown",
   "metadata": {},
   "source": [
    "<br><br>\n",
    "## Create server profile (takes 2-3 minutes)"
   ]
  },
  {
   "cell_type": "code",
   "execution_count": 17,
   "metadata": {
    "scrolled": false
   },
   "outputs": [
    {
     "name": "stdout",
     "output_type": "stream",
     "text": [
      "create server profile\n"
     ]
    }
   ],
   "source": [
    "powerOn = {\n",
    "    \"powerState\": \"On\",\n",
    "    \"powerControl\": \"MomentaryPress\"\n",
    "}\n",
    "\n",
    "powerOff = {\n",
    "    \"powerState\": \"Off\",\n",
    "    \"powerControl\": \"PressAndHold\"\n",
    "}\n",
    "\n",
    "#template_name = \"Roundtable - API Demo Template (DirkD)\"\n",
    "template_name = \"Roundtable - Python (DirkD)\"\n",
    "server_name = \"Roundtable - API Demo Server (DirkD)\"\n",
    "\n",
    "# server_hardware_uri = '/rest/server-hardware/39313738-3133-5A43-4A37-343030373931' # SY660 G10\n",
    "server_hardware_uri = '/rest/server-hardware/39313738-3134-5A43-4A37-343030373536' # SY480\n",
    "server_template_uri = oneview_client.server_profile_templates.get_by_name(template_name)\n",
    "\n",
    "server_power = oneview_client.server_hardware.update_power_state(powerOff, server_hardware_uri) # turn off server\n",
    "\n",
    "try:\n",
    "    print (\"create server profile\")\n",
    "    roundtable_server = oneview_client.server_profile_templates.get_new_profile(server_template_uri['uri'])\n",
    "    roundtable_server[\"name\"] = server_name\n",
    "    roundtable_server[\"serverHardwareUri\"] = server_hardware_uri\n",
    "\n",
    "    for name in roundtable_server[\"osDeploymentSettings\"][\"osCustomAttributes\"]:\n",
    "        if (name['name'] == \"NewUser\"):\n",
    "            name['value']= \"dirk\"\n",
    "        if (name['name'] == \"NewUserPassword\"):\n",
    "            name['value']= \"HalloRoundtable!\"   \n",
    "    profile = oneview_client.server_profiles.create(roundtable_server)\n",
    "\n",
    "    \n",
    "except:\n",
    "    print(server_name + \" Server already exists\")\n",
    "\n",
    "server_power = oneview_client.server_hardware.update_power_state(powerOn, server_hardware_uri) # turn on server\n"
   ]
  },
  {
   "cell_type": "markdown",
   "metadata": {},
   "source": [
    "### Show individual parameters from Image (Imagestreamer)"
   ]
  },
  {
   "cell_type": "code",
   "execution_count": 34,
   "metadata": {},
   "outputs": [
    {
     "ename": "NameError",
     "evalue": "name 'server_template_uri' is not defined",
     "output_type": "error",
     "traceback": [
      "\u001b[0;31m---------------------------------------------------------------------------\u001b[0m",
      "\u001b[0;31mNameError\u001b[0m                                 Traceback (most recent call last)",
      "\u001b[0;32m<ipython-input-34-58c9225d3a57>\u001b[0m in \u001b[0;36m<module>\u001b[0;34m\u001b[0m\n\u001b[1;32m      1\u001b[0m \u001b[0;31m#print (\"create server profile\")\u001b[0m\u001b[0;34m\u001b[0m\u001b[0;34m\u001b[0m\u001b[0;34m\u001b[0m\u001b[0m\n\u001b[0;32m----> 2\u001b[0;31m \u001b[0mmy_server\u001b[0m \u001b[0;34m=\u001b[0m \u001b[0mov\u001b[0m\u001b[0;34m.\u001b[0m\u001b[0mserver_profile_templates\u001b[0m\u001b[0;34m.\u001b[0m\u001b[0mget_new_profile\u001b[0m\u001b[0;34m(\u001b[0m\u001b[0mserver_template_uri\u001b[0m\u001b[0;34m[\u001b[0m\u001b[0;34m'uri'\u001b[0m\u001b[0;34m]\u001b[0m\u001b[0;34m)\u001b[0m\u001b[0;34m\u001b[0m\u001b[0;34m\u001b[0m\u001b[0m\n\u001b[0m\u001b[1;32m      3\u001b[0m \u001b[0mmy_server\u001b[0m\u001b[0;34m[\u001b[0m\u001b[0;34m\"name\"\u001b[0m\u001b[0;34m]\u001b[0m \u001b[0;34m=\u001b[0m \u001b[0mserver_name\u001b[0m\u001b[0;34m\u001b[0m\u001b[0;34m\u001b[0m\u001b[0m\n\u001b[1;32m      4\u001b[0m \u001b[0mmy_server\u001b[0m\u001b[0;34m[\u001b[0m\u001b[0;34m\"serverHardwareUri\"\u001b[0m\u001b[0;34m]\u001b[0m \u001b[0;34m=\u001b[0m \u001b[0mserver_hardware_uri\u001b[0m\u001b[0;34m\u001b[0m\u001b[0;34m\u001b[0m\u001b[0m\n\u001b[1;32m      5\u001b[0m \u001b[0;34m\u001b[0m\u001b[0m\n",
      "\u001b[0;31mNameError\u001b[0m: name 'server_template_uri' is not defined"
     ]
    }
   ],
   "source": [
    "    #print (\"create server profile\")\n",
    "    my_server = ov.server_profile_templates.get_new_profile(server_template_uri['uri'])\n",
    "    my_server[\"name\"] = server_name\n",
    "    my_server[\"serverHardwareUri\"] = server_hardware_uri\n",
    "\n",
    "    for name in my_server[\"osDeploymentSettings\"][\"osCustomAttributes\"]:\n",
    "        print(name['name'] + \": \" + str(name['value']))\n",
    "   \n"
   ]
  },
  {
   "cell_type": "markdown",
   "metadata": {},
   "source": [
    "## Delete server profile\n",
    "!!! do not use, if not necessary !!!"
   ]
  },
  {
   "cell_type": "code",
   "execution_count": null,
   "metadata": {},
   "outputs": [],
   "source": [
    "server_power = oneview_client.server_hardware.update_power_state(powerOff, server_hardware_uri) # turn on server\n",
    "oneview_client.server_profiles.delete(profile)"
   ]
  },
  {
   "cell_type": "markdown",
   "metadata": {},
   "source": [
    "### example: how to get the values from json"
   ]
  },
  {
   "cell_type": "code",
   "execution_count": null,
   "metadata": {},
   "outputs": [],
   "source": [
    "    server_hardware = oneview_client.server_hardware.get_all()\n",
    "   # print(server_hardware)\n",
    "    \n",
    "    for server in server_hardware:\n",
    "        for ports in server['portMap']['deviceSlots']:\n",
    "            for mac in ports['physicalPorts']: \n",
    "                for wwnn in mac['virtualPorts']:\n",
    "                    print(server['name']+ \" model:\" + server['model'] + \" \" + str(server['memoryMb']) + \" MB mac: \" + str(mac['mac']) + \" wwnn: \" + str(wwnn['wwnn'])) "
   ]
  },
  {
   "cell_type": "markdown",
   "metadata": {},
   "source": [
    "## Application deployment\n",
    "\n",
    "\n",
    "Webserver NGINX running on docker.\n",
    "\n",
    "##### What we need:\n",
    "\n",
    "IP address of deployed system.\n",
    "\n",
    "<br>\n",
    "<img src=\"Pictures/NGINX.png\" height=\"500\" width=\"500\" align=\"left\">\n"
   ]
  },
  {
   "cell_type": "code",
   "execution_count": 21,
   "metadata": {},
   "outputs": [
    {
     "name": "stdout",
     "output_type": "stream",
     "text": [
      "Login with user: root Server:10.0.20.85\n",
      "http://10.0.20.85\n"
     ]
    }
   ],
   "source": [
    "import os\n",
    "import paramiko\n",
    "import time\n",
    "\n",
    "ssh = paramiko.SSHClient()\n",
    "\n",
    "server_name = \"Roundtable - API Demo Server (DirkD)\"\n",
    "username = 'root'\n",
    "password = 'Compaq1!'\n",
    "\n",
    "deployed_server = oneview_client.server_profiles.get_by_name(server_name)\n",
    "\n",
    "for name in deployed_server[\"osDeploymentSettings\"][\"osCustomAttributes\"]:\n",
    "    if (name['name'] == \"Team0NIC1.ipaddress\"):\n",
    "        ip_address = name['value']\n",
    "\n",
    "        \n",
    "print(\"Login with user: \" + username + \" Server:\" + ip_address)        \n",
    "ssh.set_missing_host_key_policy(paramiko.AutoAddPolicy())         # add unknown Host-Keys\n",
    "ssh.connect(ip_address, username=username, password=password)     # login\n",
    "ssh.exec_command('docker run -d --name nginx -p 80:80 nginx')\n",
    "#time.sleep(10)\n",
    "stdin, stdout, stderr = ssh.exec_command(\"docker exec -it nginx sed -i '\\''s/nginx/the Synergy Roundtable/g'\\'' /usr/share/nginx/html/index.html\", get_pty=True)\n",
    "print(\"http://\" + ip_address)\n",
    "# print(stdout.read())\n",
    "# print(stderr.read())\n"
   ]
  },
  {
   "cell_type": "markdown",
   "metadata": {},
   "source": [
    "### Excel Export\n",
    "\n",
    "xlswriter:\n",
    "https://xlsxwriter.readthedocs.io/\n",
    "\n",
    "example: we extrace some data to excel XLS"
   ]
  },
  {
   "cell_type": "code",
   "execution_count": 32,
   "metadata": {
    "scrolled": false
   },
   "outputs": [
    {
     "ename": "ModuleNotFoundError",
     "evalue": "No module named 'xlsxwriter'",
     "output_type": "error",
     "traceback": [
      "\u001b[0;31m---------------------------------------------------------------------------\u001b[0m",
      "\u001b[0;31mModuleNotFoundError\u001b[0m                       Traceback (most recent call last)",
      "\u001b[0;32m<ipython-input-32-241c42132462>\u001b[0m in \u001b[0;36m<module>\u001b[0;34m\u001b[0m\n\u001b[0;32m----> 1\u001b[0;31m \u001b[0;32mimport\u001b[0m \u001b[0mxlsxwriter\u001b[0m\u001b[0;34m\u001b[0m\u001b[0;34m\u001b[0m\u001b[0m\n\u001b[0m\u001b[1;32m      2\u001b[0m \u001b[0mworkbook\u001b[0m \u001b[0;34m=\u001b[0m \u001b[0mxlsxwriter\u001b[0m\u001b[0;34m.\u001b[0m\u001b[0mWorkbook\u001b[0m\u001b[0;34m(\u001b[0m\u001b[0;34m'roundtable.xlsx'\u001b[0m\u001b[0;34m)\u001b[0m\u001b[0;34m\u001b[0m\u001b[0;34m\u001b[0m\u001b[0m\n\u001b[1;32m      3\u001b[0m \u001b[0mworksheet\u001b[0m \u001b[0;34m=\u001b[0m \u001b[0mworkbook\u001b[0m\u001b[0;34m.\u001b[0m\u001b[0madd_worksheet\u001b[0m\u001b[0;34m(\u001b[0m\u001b[0;34m)\u001b[0m\u001b[0;34m\u001b[0m\u001b[0;34m\u001b[0m\u001b[0m\n\u001b[1;32m      4\u001b[0m \u001b[0;34m\u001b[0m\u001b[0m\n\u001b[1;32m      5\u001b[0m \u001b[0;31m# Add a bold format to use to highlight cells.\u001b[0m\u001b[0;34m\u001b[0m\u001b[0;34m\u001b[0m\u001b[0;34m\u001b[0m\u001b[0m\n",
      "\u001b[0;31mModuleNotFoundError\u001b[0m: No module named 'xlsxwriter'"
     ]
    }
   ],
   "source": [
    "import xlsxwriter\n",
    "workbook = xlsxwriter.Workbook('roundtable.xlsx')\n",
    "worksheet = workbook.add_worksheet()\n",
    "\n",
    "# Add a bold format to use to highlight cells.\n",
    "bold = workbook.add_format({'bold': True})\n",
    "\n",
    "# Text with formatting.\n",
    "worksheet.write(0,0, 'Synergy Roundtable', bold)\n",
    "\n",
    "# Start from the first cell below the headers.\n",
    "row = 4\n",
    "worksheet.write(row, 0, \"Servername\", bold)\n",
    "worksheet.write(row, 1, \"Model\", bold)\n",
    "worksheet.write(row, 2, \"Memory\", bold)\n",
    "worksheet.write(row, 3, \"MAC address\", bold)\n",
    "worksheet.write(row, 4, \"WWN address\", bold)\n",
    "worksheet.write(row, 5, \"Status\", bold)\n",
    "row += 1\n",
    "\n",
    "server_hardware = oneview_client.server_hardware.get_all()\n",
    "#print(server_hardware)\n",
    "\n",
    "for server in server_hardware:\n",
    " col = 0\n",
    " for ports in server['portMap']['deviceSlots']:\n",
    "     for mac in ports['physicalPorts']: \n",
    "         for wwnn in mac['virtualPorts']:\n",
    "             # print(server['name']+ \" model:\" + server['model'] + \" \" + str(server['memoryMb']) + \" MB mac: \" + str(mac['mac']) + \" wwnn: \" + str(wwnn['wwnn']))\n",
    "             worksheet.write(row,col, server['name'])\n",
    "             worksheet.write(row,col+1, server['model'])\n",
    "             worksheet.write(row,col+2, server['memoryMb'])\n",
    "             worksheet.write(row,col+3, mac['mac'])\n",
    "             worksheet.write(row,col+4, wwnn['wwnn'])\n",
    "             worksheet.write(row,col+5, server['status'])\n",
    "             row += 1\n",
    "workbook.close()\n",
    "print ('Excel File roundtable.xlsx created')"
   ]
  },
  {
   "cell_type": "code",
   "execution_count": null,
   "metadata": {},
   "outputs": [],
   "source": []
  }
 ],
 "metadata": {
  "kernelspec": {
   "display_name": "Python 3",
   "language": "python",
   "name": "python3"
  },
  "language_info": {
   "codemirror_mode": {
    "name": "ipython",
    "version": 3
   },
   "file_extension": ".py",
   "mimetype": "text/x-python",
   "name": "python",
   "nbconvert_exporter": "python",
   "pygments_lexer": "ipython3",
   "version": "3.7.2"
  }
 },
 "nbformat": 4,
 "nbformat_minor": 2
}

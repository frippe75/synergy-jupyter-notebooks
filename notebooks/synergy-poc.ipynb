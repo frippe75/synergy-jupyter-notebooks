{
 "cells": [
  {
   "cell_type": "code",
   "execution_count": 1,
   "metadata": {},
   "outputs": [],
   "source": [
    "composer_ip = \"synergy.hpedemo.local\""
   ]
  },
  {
   "cell_type": "markdown",
   "metadata": {},
   "source": [
    "# Welcome to the Synergy Image Streamer POC\n",
    "Created by Fredrik Tärnell - 2019-02-20<br>\n",
    "\n",
    "Jupyter Notebooks can be found: https://github.com/frippe75/synergy-jupyter-notebooks<br>\n",
    "Together with a Docker image with all dependencies inluded and a quickstart guide.\n",
    "\n",
    "### Requirements\n",
    "Python + hpOneView Python Library (see: https://github.com/HewlettPackard/python-hpOneView/wiki/HPE-OneView-Python-Windows-Setup-Guide)\n",
    "\n",
    "### API information\n",
    "\n",
    "http://h17007.www1.hpe.com/docs/enterprise/servers/oneview4.1/cic-api/en/index.html <br>\n",
    "\n",
    "\n",
    "### Additional information\n",
    "\n",
    "On your HPE OneView appliance, or online<br>\n",
    "https://{{composer_ip}}/help/cic-rest/en/content/index.html#home.html<br>\n",
    "https://{{composer_ip}}/api-docs/current/ <br>\n",
    "http://www.hpe.com/info/oneview/docs <br>\n",
    "https://developer.hpe.com/\n",
    "\n",
    "### Python specific\n",
    "https://hewlettpackard.github.io/python-hpOneView/index.html<br>\n",
    "https://github.com/HewlettPackard/python-hpOneView<br>\n",
    "\n",
    "<br><br>\n",
    "# First section - Simple tasks via Python\n"
   ]
  },
  {
   "cell_type": "markdown",
   "metadata": {},
   "source": [
    "\n",
    "### Import the python OneView library with some additional dependencies for this playbook"
   ]
  },
  {
   "cell_type": "code",
   "execution_count": 2,
   "metadata": {},
   "outputs": [],
   "source": [
    "from hpOneView.oneview_client import OneViewClient\n",
    "import pandas\n",
    "from IPython.display import display, Markdown"
   ]
  },
  {
   "cell_type": "markdown",
   "metadata": {},
   "source": [
    "### Configure your environment"
   ]
  },
  {
   "cell_type": "code",
   "execution_count": 3,
   "metadata": {},
   "outputs": [],
   "source": [
    "config = {\n",
    "    \"api_version\": \"800\",\n",
    "    \"ip\": composer_ip,\n",
    "    \"credentials\": {\n",
    "        \"userName\": \"Administrator\",\n",
    "        \"authLoginDomain\": \"local\",\n",
    "        \"password\": \"HPEc0nverged!\"\n",
    "    }\n",
    "}"
   ]
  },
  {
   "cell_type": "markdown",
   "metadata": {},
   "source": [
    "<br><br>\n",
    "## Login against the Appliance / Composer instance:\n",
    "create new object \"ov\" with the config (see above) using the JSON config dict above"
   ]
  },
  {
   "cell_type": "code",
   "execution_count": 4,
   "metadata": {
    "scrolled": true
   },
   "outputs": [],
   "source": [
    "ov = OneViewClient(config)"
   ]
  },
  {
   "cell_type": "markdown",
   "metadata": {},
   "source": [
    "\n",
    "### ADVANCED: which functions are available?"
   ]
  },
  {
   "cell_type": "code",
   "execution_count": 6,
   "metadata": {},
   "outputs": [
    {
     "data": {
      "text/plain": [
       "['DEFAULT_API_VERSION',\n",
       " '_OneViewClient__alerts',\n",
       " '_OneViewClient__appliance_node_information',\n",
       " '_OneViewClient__appliance_time_and_locale_configuration',\n",
       " '_OneViewClient__backups',\n",
       " '_OneViewClient__certificate_authority',\n",
       " '_OneViewClient__certificate_rabbitmq',\n",
       " '_OneViewClient__connection',\n",
       " '_OneViewClient__connection_templates',\n",
       " '_OneViewClient__connections',\n",
       " '_OneViewClient__datacenters',\n",
       " '_OneViewClient__drive_enclures',\n",
       " '_OneViewClient__enclosure_groups',\n",
       " '_OneViewClient__enclosures',\n",
       " '_OneViewClient__endpoints',\n",
       " '_OneViewClient__ethernet_networks',\n",
       " '_OneViewClient__events',\n",
       " '_OneViewClient__fabrics',\n",
       " '_OneViewClient__fc_networks',\n",
       " '_OneViewClient__fcoe_networks',\n",
       " '_OneViewClient__firmware_bundles',\n",
       " '_OneViewClient__firmware_drivers',\n",
       " '_OneViewClient__id_pools',\n",
       " '_OneViewClient__id_pools_ipv4_ranges',\n",
       " '_OneViewClient__id_pools_ipv4_subnets',\n",
       " '_OneViewClient__id_pools_vmac_ranges',\n",
       " '_OneViewClient__id_pools_vsn_ranges',\n",
       " '_OneViewClient__id_pools_vwwn_ranges',\n",
       " '_OneViewClient__image_streamer_ip',\n",
       " '_OneViewClient__index_resources',\n",
       " '_OneViewClient__interconnect_link_topologies',\n",
       " '_OneViewClient__interconnect_types',\n",
       " '_OneViewClient__interconnects',\n",
       " '_OneViewClient__internal_link_sets',\n",
       " '_OneViewClient__labels',\n",
       " '_OneViewClient__licenses',\n",
       " '_OneViewClient__logical_downlinks',\n",
       " '_OneViewClient__logical_enclosures',\n",
       " '_OneViewClient__logical_interconnect_groups',\n",
       " '_OneViewClient__logical_interconnects',\n",
       " '_OneViewClient__logical_switch_groups',\n",
       " '_OneViewClient__logical_switches',\n",
       " '_OneViewClient__login_details',\n",
       " '_OneViewClient__managed_sans',\n",
       " '_OneViewClient__metric_streaming',\n",
       " '_OneViewClient__migratable_vc_domains',\n",
       " '_OneViewClient__network_sets',\n",
       " '_OneViewClient__os_deployment_plans',\n",
       " '_OneViewClient__os_deployment_servers',\n",
       " '_OneViewClient__power_devices',\n",
       " '_OneViewClient__racks',\n",
       " '_OneViewClient__restores',\n",
       " '_OneViewClient__roles',\n",
       " '_OneViewClient__san_managers',\n",
       " '_OneViewClient__sas_interconnect_types',\n",
       " '_OneViewClient__sas_interconnects',\n",
       " '_OneViewClient__sas_logical_interconnect_groups',\n",
       " '_OneViewClient__sas_logical_interconnects',\n",
       " '_OneViewClient__sas_logical_jbod_attachments',\n",
       " '_OneViewClient__sas_logical_jbods',\n",
       " '_OneViewClient__scopes',\n",
       " '_OneViewClient__server_hardware',\n",
       " '_OneViewClient__server_hardware_types',\n",
       " '_OneViewClient__server_profile_templates',\n",
       " '_OneViewClient__server_profiles',\n",
       " '_OneViewClient__set_proxy',\n",
       " '_OneViewClient__storage_pools',\n",
       " '_OneViewClient__storage_systems',\n",
       " '_OneViewClient__storage_volume_attachments',\n",
       " '_OneViewClient__storage_volume_templates',\n",
       " '_OneViewClient__switch_types',\n",
       " '_OneViewClient__switches',\n",
       " '_OneViewClient__tasks',\n",
       " '_OneViewClient__unmanaged_devices',\n",
       " '_OneViewClient__uplink_sets',\n",
       " '_OneViewClient__users',\n",
       " '_OneViewClient__versions',\n",
       " '_OneViewClient__volumes',\n",
       " '__class__',\n",
       " '__delattr__',\n",
       " '__dict__',\n",
       " '__dir__',\n",
       " '__doc__',\n",
       " '__eq__',\n",
       " '__format__',\n",
       " '__ge__',\n",
       " '__getattribute__',\n",
       " '__gt__',\n",
       " '__hash__',\n",
       " '__init__',\n",
       " '__init_subclass__',\n",
       " '__le__',\n",
       " '__lt__',\n",
       " '__module__',\n",
       " '__ne__',\n",
       " '__new__',\n",
       " '__reduce__',\n",
       " '__reduce_ex__',\n",
       " '__repr__',\n",
       " '__setattr__',\n",
       " '__sizeof__',\n",
       " '__str__',\n",
       " '__subclasshook__',\n",
       " '__weakref__',\n",
       " 'alerts',\n",
       " 'api_version',\n",
       " 'appliance_node_information',\n",
       " 'appliance_time_and_locale_configuration',\n",
       " 'backups',\n",
       " 'certificate_authority',\n",
       " 'certificate_rabbitmq',\n",
       " 'connection',\n",
       " 'connection_templates',\n",
       " 'connections',\n",
       " 'create_image_streamer_client',\n",
       " 'datacenters',\n",
       " 'drive_enclosures',\n",
       " 'enclosure_groups',\n",
       " 'enclosures',\n",
       " 'endpoints',\n",
       " 'ethernet_networks',\n",
       " 'events',\n",
       " 'fabrics',\n",
       " 'fc_networks',\n",
       " 'fcoe_networks',\n",
       " 'firmware_bundles',\n",
       " 'firmware_drivers',\n",
       " 'from_environment_variables',\n",
       " 'from_json_file',\n",
       " 'id_pools',\n",
       " 'id_pools_ipv4_ranges',\n",
       " 'id_pools_ipv4_subnets',\n",
       " 'id_pools_vmac_ranges',\n",
       " 'id_pools_vsn_ranges',\n",
       " 'id_pools_vwwn_ranges',\n",
       " 'index_resources',\n",
       " 'interconnect_link_topologies',\n",
       " 'interconnect_types',\n",
       " 'interconnects',\n",
       " 'internal_link_sets',\n",
       " 'labels',\n",
       " 'licenses',\n",
       " 'logical_downlinks',\n",
       " 'logical_enclosures',\n",
       " 'logical_interconnect_groups',\n",
       " 'logical_interconnects',\n",
       " 'logical_switch_groups',\n",
       " 'logical_switches',\n",
       " 'login_details',\n",
       " 'managed_sans',\n",
       " 'metric_streaming',\n",
       " 'migratable_vc_domains',\n",
       " 'network_sets',\n",
       " 'os_deployment_plans',\n",
       " 'os_deployment_servers',\n",
       " 'power_devices',\n",
       " 'racks',\n",
       " 'restores',\n",
       " 'roles',\n",
       " 'san_managers',\n",
       " 'sas_interconnect_types',\n",
       " 'sas_interconnects',\n",
       " 'sas_logical_interconnect_groups',\n",
       " 'sas_logical_interconnects',\n",
       " 'sas_logical_jbod_attachments',\n",
       " 'sas_logical_jbods',\n",
       " 'scopes',\n",
       " 'server_hardware',\n",
       " 'server_hardware_types',\n",
       " 'server_profile_templates',\n",
       " 'server_profiles',\n",
       " 'storage_pools',\n",
       " 'storage_systems',\n",
       " 'storage_volume_attachments',\n",
       " 'storage_volume_templates',\n",
       " 'switch_types',\n",
       " 'switches',\n",
       " 'tasks',\n",
       " 'unmanaged_devices',\n",
       " 'uplink_sets',\n",
       " 'users',\n",
       " 'versions',\n",
       " 'volumes']"
      ]
     },
     "execution_count": 6,
     "metadata": {},
     "output_type": "execute_result"
    }
   ],
   "source": [
    "dir(ov)\n",
    "# dir(ov.storage_volume_templates) # drill down "
   ]
  },
  {
   "cell_type": "markdown",
   "metadata": {},
   "source": [
    "<br><br>\n",
    "# Networking\n",
    "## Show existing networks\n",
    "This example uses Pandas dataframe to create the HTML table<br>\n",
    "https://pandas.pydata.org/pandas-docs/stable/reference/api/pandas.DataFrame.to_html.html?highlight=to_html#pandas.DataFrame.to_html\n"
   ]
  },
  {
   "cell_type": "code",
   "execution_count": 15,
   "metadata": {},
   "outputs": [
    {
     "data": {
      "text/markdown": [
       "<br>"
      ],
      "text/plain": [
       "<IPython.core.display.Markdown object>"
      ]
     },
     "metadata": {},
     "output_type": "display_data"
    },
    {
     "data": {
      "text/markdown": [
       "### Ethernet-Networks in Synergy Composer at https://synergy.hpedemo.local"
      ],
      "text/plain": [
       "<IPython.core.display.Markdown object>"
      ]
     },
     "metadata": {},
     "output_type": "display_data"
    },
    {
     "data": {
      "text/markdown": [
       "<table border=\"1\" class=\"dataframe\">\n",
       "  <thead>\n",
       "    <tr style=\"text-align: right;\">\n",
       "      <th>name</th>\n",
       "      <th>description</th>\n",
       "      <th>vlanId</th>\n",
       "      <th>uri</th>\n",
       "      <th>purpose</th>\n",
       "    </tr>\n",
       "  </thead>\n",
       "  <tbody>\n",
       "    <tr>\n",
       "      <td>Bulk-Ethernet_40</td>\n",
       "      <td>None</td>\n",
       "      <td>40</td>\n",
       "      <td>/rest/ethernet-networks/09a128df-5384-4435-aba...</td>\n",
       "      <td>General</td>\n",
       "    </tr>\n",
       "    <tr>\n",
       "      <td>VLAN2000_10.48.0</td>\n",
       "      <td>None</td>\n",
       "      <td>2000</td>\n",
       "      <td>/rest/ethernet-networks/17f7fa87-e305-440a-af1...</td>\n",
       "      <td>Management</td>\n",
       "    </tr>\n",
       "    <tr>\n",
       "      <td>Bulk-Ethernet_105</td>\n",
       "      <td>None</td>\n",
       "      <td>105</td>\n",
       "      <td>/rest/ethernet-networks/1e03f3ec-8799-4700-861...</td>\n",
       "      <td>General</td>\n",
       "    </tr>\n",
       "    <tr>\n",
       "      <td>Bulk-Ethernet_35</td>\n",
       "      <td>None</td>\n",
       "      <td>35</td>\n",
       "      <td>/rest/ethernet-networks/2f710f0b-139d-4c6c-890...</td>\n",
       "      <td>General</td>\n",
       "    </tr>\n",
       "    <tr>\n",
       "      <td>Bulk-Ethernet_109</td>\n",
       "      <td>None</td>\n",
       "      <td>109</td>\n",
       "      <td>/rest/ethernet-networks/323ad7de-d4dd-40c6-921...</td>\n",
       "      <td>General</td>\n",
       "    </tr>\n",
       "    <tr>\n",
       "      <td>Bulk-Ethernet_200</td>\n",
       "      <td>None</td>\n",
       "      <td>200</td>\n",
       "      <td>/rest/ethernet-networks/33ae6e9e-c4e6-4a5f-bc1...</td>\n",
       "      <td>General</td>\n",
       "    </tr>\n",
       "    <tr>\n",
       "      <td>Bulk-Ethernet_106</td>\n",
       "      <td>None</td>\n",
       "      <td>106</td>\n",
       "      <td>/rest/ethernet-networks/3b594e87-8b2b-4c69-8d4...</td>\n",
       "      <td>General</td>\n",
       "    </tr>\n",
       "    <tr>\n",
       "      <td>Bulk-Ethernet_36</td>\n",
       "      <td>None</td>\n",
       "      <td>36</td>\n",
       "      <td>/rest/ethernet-networks/55ae3a94-26c0-4640-8ff...</td>\n",
       "      <td>General</td>\n",
       "    </tr>\n",
       "    <tr>\n",
       "      <td>VLAN400_10.2</td>\n",
       "      <td>None</td>\n",
       "      <td>400</td>\n",
       "      <td>/rest/ethernet-networks/5b5eaa7e-7302-429b-a99...</td>\n",
       "      <td>General</td>\n",
       "    </tr>\n",
       "    <tr>\n",
       "      <td>Bulk-Ethernet_103</td>\n",
       "      <td>None</td>\n",
       "      <td>103</td>\n",
       "      <td>/rest/ethernet-networks/6b10240f-3919-4b9b-bd0...</td>\n",
       "      <td>General</td>\n",
       "    </tr>\n",
       "    <tr>\n",
       "      <td>Bulk-Ethernet_34</td>\n",
       "      <td>None</td>\n",
       "      <td>34</td>\n",
       "      <td>/rest/ethernet-networks/72bf172a-88df-4f2d-949...</td>\n",
       "      <td>General</td>\n",
       "    </tr>\n",
       "    <tr>\n",
       "      <td>Bulk-Ethernet_31</td>\n",
       "      <td>None</td>\n",
       "      <td>31</td>\n",
       "      <td>/rest/ethernet-networks/75ecf717-2c2e-4484-882...</td>\n",
       "      <td>General</td>\n",
       "    </tr>\n",
       "    <tr>\n",
       "      <td>VLAN402_10.3</td>\n",
       "      <td>None</td>\n",
       "      <td>402</td>\n",
       "      <td>/rest/ethernet-networks/7a0c835d-288d-4e59-ac1...</td>\n",
       "      <td>General</td>\n",
       "    </tr>\n",
       "    <tr>\n",
       "      <td>Bulk-Ethernet_33</td>\n",
       "      <td>None</td>\n",
       "      <td>33</td>\n",
       "      <td>/rest/ethernet-networks/7ccba565-96b1-42b1-8c2...</td>\n",
       "      <td>General</td>\n",
       "    </tr>\n",
       "    <tr>\n",
       "      <td>VLAN2001_10.48.10</td>\n",
       "      <td>None</td>\n",
       "      <td>2001</td>\n",
       "      <td>/rest/ethernet-networks/81416f83-4442-4991-b16...</td>\n",
       "      <td>Management</td>\n",
       "    </tr>\n",
       "    <tr>\n",
       "      <td>Bulk-Ethernet_38</td>\n",
       "      <td>None</td>\n",
       "      <td>38</td>\n",
       "      <td>/rest/ethernet-networks/86451626-6435-43fb-992...</td>\n",
       "      <td>General</td>\n",
       "    </tr>\n",
       "    <tr>\n",
       "      <td>NFS-Simplivity</td>\n",
       "      <td>None</td>\n",
       "      <td>2010</td>\n",
       "      <td>/rest/ethernet-networks/93636543-b1da-49ca-8bc...</td>\n",
       "      <td>General</td>\n",
       "    </tr>\n",
       "    <tr>\n",
       "      <td>Bulk-Ethernet_39</td>\n",
       "      <td>None</td>\n",
       "      <td>39</td>\n",
       "      <td>/rest/ethernet-networks/98fb5ca5-6675-4ef7-9e9...</td>\n",
       "      <td>General</td>\n",
       "    </tr>\n",
       "    <tr>\n",
       "      <td>Bulk-Ethernet_102</td>\n",
       "      <td>None</td>\n",
       "      <td>102</td>\n",
       "      <td>/rest/ethernet-networks/a5652198-dda2-45f0-811...</td>\n",
       "      <td>General</td>\n",
       "    </tr>\n",
       "    <tr>\n",
       "      <td>Bulk-Ethernet_100</td>\n",
       "      <td>None</td>\n",
       "      <td>100</td>\n",
       "      <td>/rest/ethernet-networks/b428e181-fccd-430d-ae5...</td>\n",
       "      <td>General</td>\n",
       "    </tr>\n",
       "    <tr>\n",
       "      <td>Bulk-Ethernet_37</td>\n",
       "      <td>None</td>\n",
       "      <td>37</td>\n",
       "      <td>/rest/ethernet-networks/b5ccc270-20ac-4607-af5...</td>\n",
       "      <td>General</td>\n",
       "    </tr>\n",
       "    <tr>\n",
       "      <td>ImageStreamer-Boot</td>\n",
       "      <td>None</td>\n",
       "      <td>1001</td>\n",
       "      <td>/rest/ethernet-networks/ba7f6aa4-e949-430c-a94...</td>\n",
       "      <td>ISCSI</td>\n",
       "    </tr>\n",
       "    <tr>\n",
       "      <td>ESX_vMotion_FrameInternal</td>\n",
       "      <td>None</td>\n",
       "      <td>1000</td>\n",
       "      <td>/rest/ethernet-networks/ba8ba7c1-58c8-4739-af7...</td>\n",
       "      <td>VMMigration</td>\n",
       "    </tr>\n",
       "    <tr>\n",
       "      <td>Bulk-Ethernet_32</td>\n",
       "      <td>None</td>\n",
       "      <td>32</td>\n",
       "      <td>/rest/ethernet-networks/c486d648-9077-457e-a6c...</td>\n",
       "      <td>General</td>\n",
       "    </tr>\n",
       "    <tr>\n",
       "      <td>Bulk-Ethernet_101</td>\n",
       "      <td>None</td>\n",
       "      <td>101</td>\n",
       "      <td>/rest/ethernet-networks/c49474e0-e603-4e3d-945...</td>\n",
       "      <td>General</td>\n",
       "    </tr>\n",
       "    <tr>\n",
       "      <td>Bulk-Ethernet_108</td>\n",
       "      <td>None</td>\n",
       "      <td>108</td>\n",
       "      <td>/rest/ethernet-networks/cb82353e-32bd-4b13-990...</td>\n",
       "      <td>General</td>\n",
       "    </tr>\n",
       "    <tr>\n",
       "      <td>Bulk-Ethernet_104</td>\n",
       "      <td>None</td>\n",
       "      <td>104</td>\n",
       "      <td>/rest/ethernet-networks/d7f0229b-b8bb-4f7c-bf5...</td>\n",
       "      <td>General</td>\n",
       "    </tr>\n",
       "    <tr>\n",
       "      <td>Bulk-Ethernet_50</td>\n",
       "      <td>None</td>\n",
       "      <td>50</td>\n",
       "      <td>/rest/ethernet-networks/e605a60a-b2dd-414b-a7a...</td>\n",
       "      <td>General</td>\n",
       "    </tr>\n",
       "    <tr>\n",
       "      <td>Bulk-Ethernet_107</td>\n",
       "      <td>None</td>\n",
       "      <td>107</td>\n",
       "      <td>/rest/ethernet-networks/ef685ff6-dac3-414b-93e...</td>\n",
       "      <td>General</td>\n",
       "    </tr>\n",
       "    <tr>\n",
       "      <td>Bulk-Ethernet_30</td>\n",
       "      <td>None</td>\n",
       "      <td>30</td>\n",
       "      <td>/rest/ethernet-networks/fbea227c-1096-465a-81f...</td>\n",
       "      <td>General</td>\n",
       "    </tr>\n",
       "  </tbody>\n",
       "</table>"
      ],
      "text/plain": [
       "<IPython.core.display.Markdown object>"
      ]
     },
     "metadata": {},
     "output_type": "display_data"
    }
   ],
   "source": [
    "poc_networks = ov.ethernet_networks.get_all()\n",
    "\n",
    "#print(poc_networks)\n",
    "\n",
    "data = pandas.DataFrame.from_dict(poc_networks)\n",
    "table = data.to_html(index=False,header=True,columns=['name','description','vlanId','uri','purpose'])\n",
    "\n",
    "display(Markdown('<br>'))\n",
    "display(Markdown('### Ethernet-Networks in Synergy Composer at https://' + config['ip']))\n",
    "display(Markdown(table))\n"
   ]
  },
  {
   "cell_type": "markdown",
   "metadata": {},
   "source": [
    "<br><br>\n",
    "## Create a POC network "
   ]
  },
  {
   "cell_type": "code",
   "execution_count": 10,
   "metadata": {},
   "outputs": [
    {
     "ename": "HPOneViewException",
     "evalue": "('A network with the name POC net already exists.', {'errorCode': 'CRM_DUPLICATE_NETWORK_NAME', 'message': 'A network with the name POC net already exists.', 'details': '', 'recommendedActions': [''], 'errorSource': 'ethernet-networks', 'nestedErrors': [], 'data': {}})",
     "output_type": "error",
     "traceback": [
      "\u001b[0;31m---------------------------------------------------------------------------\u001b[0m",
      "\u001b[0;31mHPOneViewException\u001b[0m                        Traceback (most recent call last)",
      "\u001b[0;32m<ipython-input-10-cfc62b4e5974>\u001b[0m in \u001b[0;36m<module>\u001b[0;34m\u001b[0m\n\u001b[1;32m     10\u001b[0m }\n\u001b[1;32m     11\u001b[0m \u001b[0;34m\u001b[0m\u001b[0m\n\u001b[0;32m---> 12\u001b[0;31m \u001b[0methernet_network\u001b[0m \u001b[0;34m=\u001b[0m \u001b[0mov\u001b[0m\u001b[0;34m.\u001b[0m\u001b[0methernet_networks\u001b[0m\u001b[0;34m.\u001b[0m\u001b[0mcreate\u001b[0m\u001b[0;34m(\u001b[0m\u001b[0moptions\u001b[0m\u001b[0;34m)\u001b[0m\u001b[0;34m\u001b[0m\u001b[0;34m\u001b[0m\u001b[0m\n\u001b[0m\u001b[1;32m     13\u001b[0m \u001b[0mprint\u001b[0m\u001b[0;34m(\u001b[0m\u001b[0;34m\"Created ethernet-network \"\u001b[0m \u001b[0;34m+\u001b[0m \u001b[0methernet_network\u001b[0m\u001b[0;34m[\u001b[0m\u001b[0;34m'name'\u001b[0m\u001b[0;34m]\u001b[0m \u001b[0;34m+\u001b[0m \u001b[0;34m\"   URI: \"\u001b[0m \u001b[0;34m+\u001b[0m \u001b[0methernet_network\u001b[0m\u001b[0;34m[\u001b[0m\u001b[0;34m'uri'\u001b[0m\u001b[0;34m]\u001b[0m \u001b[0;34m+\u001b[0m \u001b[0;34m\"\\nsuccessfully.\"\u001b[0m\u001b[0;34m)\u001b[0m\u001b[0;34m\u001b[0m\u001b[0;34m\u001b[0m\u001b[0m\n",
      "\u001b[0;32m/opt/conda/lib/python3.6/site-packages/hpOneView/resources/networking/ethernet_networks.py\u001b[0m in \u001b[0;36mcreate\u001b[0;34m(self, resource, timeout)\u001b[0m\n\u001b[1;32m    131\u001b[0m \u001b[0;34m\u001b[0m\u001b[0m\n\u001b[1;32m    132\u001b[0m         \"\"\"\n\u001b[0;32m--> 133\u001b[0;31m         \u001b[0;32mreturn\u001b[0m \u001b[0mself\u001b[0m\u001b[0;34m.\u001b[0m\u001b[0m_client\u001b[0m\u001b[0;34m.\u001b[0m\u001b[0mcreate\u001b[0m\u001b[0;34m(\u001b[0m\u001b[0mresource\u001b[0m\u001b[0;34m,\u001b[0m \u001b[0mtimeout\u001b[0m\u001b[0;34m=\u001b[0m\u001b[0mtimeout\u001b[0m\u001b[0;34m,\u001b[0m \u001b[0mdefault_values\u001b[0m\u001b[0;34m=\u001b[0m\u001b[0mself\u001b[0m\u001b[0;34m.\u001b[0m\u001b[0mDEFAULT_VALUES\u001b[0m\u001b[0;34m)\u001b[0m\u001b[0;34m\u001b[0m\u001b[0;34m\u001b[0m\u001b[0m\n\u001b[0m\u001b[1;32m    134\u001b[0m \u001b[0;34m\u001b[0m\u001b[0m\n\u001b[1;32m    135\u001b[0m     \u001b[0;32mdef\u001b[0m \u001b[0mcreate_bulk\u001b[0m\u001b[0;34m(\u001b[0m\u001b[0mself\u001b[0m\u001b[0;34m,\u001b[0m \u001b[0mresource\u001b[0m\u001b[0;34m,\u001b[0m \u001b[0mtimeout\u001b[0m\u001b[0;34m=\u001b[0m\u001b[0;34m-\u001b[0m\u001b[0;36m1\u001b[0m\u001b[0;34m)\u001b[0m\u001b[0;34m:\u001b[0m\u001b[0;34m\u001b[0m\u001b[0;34m\u001b[0m\u001b[0m\n",
      "\u001b[0;32m/opt/conda/lib/python3.6/site-packages/hpOneView/resources/resource.py\u001b[0m in \u001b[0;36mcreate\u001b[0;34m(self, resource, uri, timeout, custom_headers, default_values)\u001b[0m\n\u001b[1;32m    448\u001b[0m         \u001b[0mresource\u001b[0m \u001b[0;34m=\u001b[0m \u001b[0mself\u001b[0m\u001b[0;34m.\u001b[0m\u001b[0mmerge_default_values\u001b[0m\u001b[0;34m(\u001b[0m\u001b[0mresource\u001b[0m\u001b[0;34m,\u001b[0m \u001b[0mdefault_values\u001b[0m\u001b[0;34m)\u001b[0m\u001b[0;34m\u001b[0m\u001b[0;34m\u001b[0m\u001b[0m\n\u001b[1;32m    449\u001b[0m \u001b[0;34m\u001b[0m\u001b[0m\n\u001b[0;32m--> 450\u001b[0;31m         \u001b[0;32mreturn\u001b[0m \u001b[0mself\u001b[0m\u001b[0;34m.\u001b[0m\u001b[0m__do_post\u001b[0m\u001b[0;34m(\u001b[0m\u001b[0muri\u001b[0m\u001b[0;34m,\u001b[0m \u001b[0mresource\u001b[0m\u001b[0;34m,\u001b[0m \u001b[0mtimeout\u001b[0m\u001b[0;34m,\u001b[0m \u001b[0mcustom_headers\u001b[0m\u001b[0;34m)\u001b[0m\u001b[0;34m\u001b[0m\u001b[0;34m\u001b[0m\u001b[0m\n\u001b[0m\u001b[1;32m    451\u001b[0m \u001b[0;34m\u001b[0m\u001b[0m\n\u001b[1;32m    452\u001b[0m     \u001b[0;32mdef\u001b[0m \u001b[0mupload\u001b[0m\u001b[0;34m(\u001b[0m\u001b[0mself\u001b[0m\u001b[0;34m,\u001b[0m \u001b[0mfile_path\u001b[0m\u001b[0;34m,\u001b[0m \u001b[0muri\u001b[0m\u001b[0;34m=\u001b[0m\u001b[0;32mNone\u001b[0m\u001b[0;34m,\u001b[0m \u001b[0mtimeout\u001b[0m\u001b[0;34m=\u001b[0m\u001b[0;34m-\u001b[0m\u001b[0;36m1\u001b[0m\u001b[0;34m)\u001b[0m\u001b[0;34m:\u001b[0m\u001b[0;34m\u001b[0m\u001b[0;34m\u001b[0m\u001b[0m\n",
      "\u001b[0;32m/opt/conda/lib/python3.6/site-packages/hpOneView/resources/resource.py\u001b[0m in \u001b[0;36m__do_post\u001b[0;34m(self, uri, resource, timeout, custom_headers)\u001b[0m\n\u001b[1;32m    757\u001b[0m \u001b[0;34m\u001b[0m\u001b[0m\n\u001b[1;32m    758\u001b[0m     \u001b[0;32mdef\u001b[0m \u001b[0m__do_post\u001b[0m\u001b[0;34m(\u001b[0m\u001b[0mself\u001b[0m\u001b[0;34m,\u001b[0m \u001b[0muri\u001b[0m\u001b[0;34m,\u001b[0m \u001b[0mresource\u001b[0m\u001b[0;34m,\u001b[0m \u001b[0mtimeout\u001b[0m\u001b[0;34m,\u001b[0m \u001b[0mcustom_headers\u001b[0m\u001b[0;34m)\u001b[0m\u001b[0;34m:\u001b[0m\u001b[0;34m\u001b[0m\u001b[0;34m\u001b[0m\u001b[0m\n\u001b[0;32m--> 759\u001b[0;31m         \u001b[0mtask\u001b[0m\u001b[0;34m,\u001b[0m \u001b[0mentity\u001b[0m \u001b[0;34m=\u001b[0m \u001b[0mself\u001b[0m\u001b[0;34m.\u001b[0m\u001b[0m_connection\u001b[0m\u001b[0;34m.\u001b[0m\u001b[0mpost\u001b[0m\u001b[0;34m(\u001b[0m\u001b[0muri\u001b[0m\u001b[0;34m,\u001b[0m \u001b[0mresource\u001b[0m\u001b[0;34m,\u001b[0m \u001b[0mcustom_headers\u001b[0m\u001b[0;34m=\u001b[0m\u001b[0mcustom_headers\u001b[0m\u001b[0;34m)\u001b[0m\u001b[0;34m\u001b[0m\u001b[0;34m\u001b[0m\u001b[0m\n\u001b[0m\u001b[1;32m    760\u001b[0m \u001b[0;34m\u001b[0m\u001b[0m\n\u001b[1;32m    761\u001b[0m         \u001b[0;32mif\u001b[0m \u001b[0;32mnot\u001b[0m \u001b[0mtask\u001b[0m\u001b[0;34m:\u001b[0m\u001b[0;34m\u001b[0m\u001b[0;34m\u001b[0m\u001b[0m\n",
      "\u001b[0;32m/opt/conda/lib/python3.6/site-packages/hpOneView/connection.py\u001b[0m in \u001b[0;36mpost\u001b[0;34m(self, uri, body, custom_headers)\u001b[0m\n\u001b[1;32m    375\u001b[0m \u001b[0;34m\u001b[0m\u001b[0m\n\u001b[1;32m    376\u001b[0m     \u001b[0;32mdef\u001b[0m \u001b[0mpost\u001b[0m\u001b[0;34m(\u001b[0m\u001b[0mself\u001b[0m\u001b[0;34m,\u001b[0m \u001b[0muri\u001b[0m\u001b[0;34m,\u001b[0m \u001b[0mbody\u001b[0m\u001b[0;34m,\u001b[0m \u001b[0mcustom_headers\u001b[0m\u001b[0;34m=\u001b[0m\u001b[0;32mNone\u001b[0m\u001b[0;34m)\u001b[0m\u001b[0;34m:\u001b[0m\u001b[0;34m\u001b[0m\u001b[0;34m\u001b[0m\u001b[0m\n\u001b[0;32m--> 377\u001b[0;31m         \u001b[0;32mreturn\u001b[0m \u001b[0mself\u001b[0m\u001b[0;34m.\u001b[0m\u001b[0m__do_rest_call\u001b[0m\u001b[0;34m(\u001b[0m\u001b[0;34m'POST'\u001b[0m\u001b[0;34m,\u001b[0m \u001b[0muri\u001b[0m\u001b[0;34m,\u001b[0m \u001b[0mbody\u001b[0m\u001b[0;34m,\u001b[0m \u001b[0mcustom_headers\u001b[0m\u001b[0;34m=\u001b[0m\u001b[0mcustom_headers\u001b[0m\u001b[0;34m)\u001b[0m\u001b[0;34m\u001b[0m\u001b[0;34m\u001b[0m\u001b[0m\n\u001b[0m\u001b[1;32m    378\u001b[0m \u001b[0;34m\u001b[0m\u001b[0m\n\u001b[1;32m    379\u001b[0m     \u001b[0;32mdef\u001b[0m \u001b[0mpatch\u001b[0m\u001b[0;34m(\u001b[0m\u001b[0mself\u001b[0m\u001b[0;34m,\u001b[0m \u001b[0muri\u001b[0m\u001b[0;34m,\u001b[0m \u001b[0mbody\u001b[0m\u001b[0;34m,\u001b[0m \u001b[0mcustom_headers\u001b[0m\u001b[0;34m=\u001b[0m\u001b[0;32mNone\u001b[0m\u001b[0;34m)\u001b[0m\u001b[0;34m:\u001b[0m\u001b[0;34m\u001b[0m\u001b[0;34m\u001b[0m\u001b[0m\n",
      "\u001b[0;32m/opt/conda/lib/python3.6/site-packages/hpOneView/connection.py\u001b[0m in \u001b[0;36m__do_rest_call\u001b[0;34m(self, http_method, uri, body, custom_headers)\u001b[0m\n\u001b[1;32m    402\u001b[0m                                   custom_headers=custom_headers)\n\u001b[1;32m    403\u001b[0m         \u001b[0;32mif\u001b[0m \u001b[0mresp\u001b[0m\u001b[0;34m.\u001b[0m\u001b[0mstatus\u001b[0m \u001b[0;34m>=\u001b[0m \u001b[0;36m400\u001b[0m\u001b[0;34m:\u001b[0m\u001b[0;34m\u001b[0m\u001b[0;34m\u001b[0m\u001b[0m\n\u001b[0;32m--> 404\u001b[0;31m             \u001b[0;32mraise\u001b[0m \u001b[0mHPOneViewException\u001b[0m\u001b[0;34m(\u001b[0m\u001b[0mbody\u001b[0m\u001b[0;34m)\u001b[0m\u001b[0;34m\u001b[0m\u001b[0;34m\u001b[0m\u001b[0m\n\u001b[0m\u001b[1;32m    405\u001b[0m \u001b[0;34m\u001b[0m\u001b[0m\n\u001b[1;32m    406\u001b[0m         \u001b[0;32mif\u001b[0m \u001b[0mresp\u001b[0m\u001b[0;34m.\u001b[0m\u001b[0mstatus\u001b[0m \u001b[0;34m==\u001b[0m \u001b[0;36m304\u001b[0m\u001b[0;34m:\u001b[0m\u001b[0;34m\u001b[0m\u001b[0;34m\u001b[0m\u001b[0m\n",
      "\u001b[0;31mHPOneViewException\u001b[0m: ('A network with the name POC net already exists.', {'errorCode': 'CRM_DUPLICATE_NETWORK_NAME', 'message': 'A network with the name POC net already exists.', 'details': '', 'recommendedActions': [''], 'errorSource': 'ethernet-networks', 'nestedErrors': [], 'data': {}})"
     ]
    }
   ],
   "source": [
    "options = {\n",
    "    \"name\": \"POC net\",\n",
    "    \"vlanId\": 3000,\n",
    "    \"ethernetNetworkType\": \"Tagged\",\n",
    "    \"purpose\": \"General\",\n",
    "    \"smartLink\": False,\n",
    "    \"privateNetwork\": False,\n",
    "    \"type\" : \"ethernet-networkV4\",\n",
    "    \"connectionTemplateUri\": None\n",
    "}\n",
    "\n",
    "ethernet_network = ov.ethernet_networks.create(options)\n",
    "print(\"Created ethernet-network \" + ethernet_network['name'] + \"   URI: \" + ethernet_network['uri'] + \"\\nsuccessfully.\")\n"
   ]
  },
  {
   "cell_type": "markdown",
   "metadata": {},
   "source": [
    "<br><br>\n",
    "## Delete the POC network "
   ]
  },
  {
   "cell_type": "code",
   "execution_count": 12,
   "metadata": {},
   "outputs": [
    {
     "name": "stdout",
     "output_type": "stream",
     "text": [
      "delete network: POC net\n"
     ]
    }
   ],
   "source": [
    "ov.ethernet_networks.delete(ethernet_network)\n",
    "print(\"delete network: \" + ethernet_network['name'])"
   ]
  },
  {
   "cell_type": "markdown",
   "metadata": {},
   "source": [
    "<br><br>\n",
    "## Create bulk networks\n",
    "How to set up multiple networks at once."
   ]
  },
  {
   "cell_type": "code",
   "execution_count": 14,
   "metadata": {
    "scrolled": false
   },
   "outputs": [
    {
     "name": "stdout",
     "output_type": "stream",
     "text": [
      "created network: Bulk-Ethernet_30 URI: /rest/ethernet-networks/fbea227c-1096-465a-81fc-3589ff30a070\n",
      "created network: Bulk-Ethernet_31 URI: /rest/ethernet-networks/75ecf717-2c2e-4484-882e-580ab7effbf3\n",
      "created network: Bulk-Ethernet_32 URI: /rest/ethernet-networks/c486d648-9077-457e-a6c6-bac7f5c1829d\n",
      "created network: Bulk-Ethernet_33 URI: /rest/ethernet-networks/7ccba565-96b1-42b1-8c2f-cd6cecf7d346\n",
      "created network: Bulk-Ethernet_34 URI: /rest/ethernet-networks/72bf172a-88df-4f2d-9498-37f6326f60db\n",
      "created network: Bulk-Ethernet_35 URI: /rest/ethernet-networks/2f710f0b-139d-4c6c-890f-6f229c9e822f\n",
      "created network: Bulk-Ethernet_36 URI: /rest/ethernet-networks/55ae3a94-26c0-4640-8ff3-665e8ec0af24\n",
      "created network: Bulk-Ethernet_37 URI: /rest/ethernet-networks/b5ccc270-20ac-4607-af59-1e612d243c4d\n",
      "created network: Bulk-Ethernet_38 URI: /rest/ethernet-networks/86451626-6435-43fb-9927-4d9558a007c1\n",
      "created network: Bulk-Ethernet_39 URI: /rest/ethernet-networks/98fb5ca5-6675-4ef7-9e9b-376cc7bc8bad\n",
      "created network: Bulk-Ethernet_40 URI: /rest/ethernet-networks/09a128df-5384-4435-aba6-7f83be2d35b6\n",
      "created network: Bulk-Ethernet_50 URI: /rest/ethernet-networks/e605a60a-b2dd-414b-a7ad-b5d1de4c1f99\n",
      "created network: Bulk-Ethernet_100 URI: /rest/ethernet-networks/b428e181-fccd-430d-ae5c-7e5a960e62b7\n",
      "created network: Bulk-Ethernet_101 URI: /rest/ethernet-networks/c49474e0-e603-4e3d-9454-8e9f2cf86fe2\n",
      "created network: Bulk-Ethernet_102 URI: /rest/ethernet-networks/a5652198-dda2-45f0-811f-3330462d8d40\n",
      "created network: Bulk-Ethernet_103 URI: /rest/ethernet-networks/6b10240f-3919-4b9b-bd03-f6814c8a04e7\n",
      "created network: Bulk-Ethernet_104 URI: /rest/ethernet-networks/d7f0229b-b8bb-4f7c-bf50-824cea90e8d5\n",
      "created network: Bulk-Ethernet_105 URI: /rest/ethernet-networks/1e03f3ec-8799-4700-8616-2ab4bc7c14b3\n",
      "created network: Bulk-Ethernet_106 URI: /rest/ethernet-networks/3b594e87-8b2b-4c69-8d40-8402edade31e\n",
      "created network: Bulk-Ethernet_107 URI: /rest/ethernet-networks/ef685ff6-dac3-414b-93e7-81779cb04bb2\n",
      "created network: Bulk-Ethernet_108 URI: /rest/ethernet-networks/cb82353e-32bd-4b13-990a-d02f2aab750a\n",
      "created network: Bulk-Ethernet_109 URI: /rest/ethernet-networks/323ad7de-d4dd-40c6-9216-d505eb3a85cc\n",
      "created network: Bulk-Ethernet_200 URI: /rest/ethernet-networks/33ae6e9e-c4e6-4a5f-bc1e-fd8e74bc95fb\n"
     ]
    }
   ],
   "source": [
    "options_bulk = {\n",
    "    \"vlanIdRange\": \"30-40,50,100-109,200\",\n",
    "    \"purpose\": \"General\",\n",
    "    \"namePrefix\": \"Bulk-Ethernet\",\n",
    "    \"smartLink\": False,\n",
    "    \"privateNetwork\": False,\n",
    "    \"type\": \"bulk-ethernet-networkV1\",\n",
    "    \"bandwidth\": {\n",
    "        \"maximumBandwidth\": 10000,\n",
    "        \"typicalBandwidth\": 2000\n",
    "    }\n",
    "}\n",
    "\n",
    "# create the networks\n",
    "ethernet_nets_bulk = ov.ethernet_networks.create_bulk(options_bulk)\n",
    "\n",
    "# simply display whats exepected\n",
    "for net in ethernet_nets_bulk: \n",
    "  print(\"created network: \" + net['name'] + \" URI: \" + net['uri'])"
   ]
  },
  {
   "cell_type": "markdown",
   "metadata": {},
   "source": [
    "<br><br>\n",
    "## Delete bulk network\n",
    "As they are not needed for this demo"
   ]
  },
  {
   "cell_type": "code",
   "execution_count": 16,
   "metadata": {},
   "outputs": [
    {
     "name": "stdout",
     "output_type": "stream",
     "text": [
      "delete network: Bulk-Ethernet_30\n",
      "delete network: Bulk-Ethernet_31\n",
      "delete network: Bulk-Ethernet_32\n",
      "delete network: Bulk-Ethernet_33\n",
      "delete network: Bulk-Ethernet_34\n",
      "delete network: Bulk-Ethernet_35\n",
      "delete network: Bulk-Ethernet_36\n",
      "delete network: Bulk-Ethernet_37\n",
      "delete network: Bulk-Ethernet_38\n",
      "delete network: Bulk-Ethernet_39\n",
      "delete network: Bulk-Ethernet_40\n",
      "delete network: Bulk-Ethernet_50\n",
      "delete network: Bulk-Ethernet_100\n",
      "delete network: Bulk-Ethernet_101\n",
      "delete network: Bulk-Ethernet_102\n",
      "delete network: Bulk-Ethernet_103\n",
      "delete network: Bulk-Ethernet_104\n",
      "delete network: Bulk-Ethernet_105\n",
      "delete network: Bulk-Ethernet_106\n",
      "delete network: Bulk-Ethernet_107\n",
      "delete network: Bulk-Ethernet_108\n",
      "delete network: Bulk-Ethernet_109\n",
      "delete network: Bulk-Ethernet_200\n"
     ]
    }
   ],
   "source": [
    "for net in ethernet_nets_bulk:\n",
    "    ov.ethernet_networks.delete(net)\n",
    "    print(\"delete network: \" + net['name'])"
   ]
  },
  {
   "cell_type": "markdown",
   "metadata": {},
   "source": [
    "<br><br>\n",
    "# Storage operations\n",
    "## Show configured / existing storage (systems and pools)"
   ]
  },
  {
   "cell_type": "code",
   "execution_count": 56,
   "metadata": {
    "scrolled": true
   },
   "outputs": [
    {
     "name": "stdout",
     "output_type": "stream",
     "text": [
      "Storage Systems:\n",
      "None defined!\n",
      "\n",
      "Storage Pools:\n",
      "None defined!\n"
     ]
    }
   ],
   "source": [
    "storage_systems = ov.storage_systems.get_all()\n",
    "storage_pools = ov.storage_pools.get_all()\n",
    "\n",
    "# storage_pool_name = 'FC_r1'\n",
    "# storage_pools = oneview_client.storage_pools.get_by('name', storage_pool_name)[0]\n",
    "\n",
    "print(\"Storage Systems:\")\n",
    "if storage_systems:\n",
    "    for stor in storage_systems: \n",
    "        print(stor['displayName'] + \"    URI: \" + stor['uri'])\n",
    "else:\n",
    "    print(\"None defined!\")\n",
    "    \n",
    "print(\"\\nStorage Pools:\")\n",
    "if storage_pools:\n",
    "    for storpool in storage_pools:\n",
    "        print(storpool['name'] + \"    URI: \" + stor['uri'])\n",
    "else:\n",
    "    print(\"None defined!\")"
   ]
  },
  {
   "cell_type": "code",
   "execution_count": 57,
   "metadata": {},
   "outputs": [
    {
     "ename": "NameError",
     "evalue": "name 'storpool' is not defined",
     "output_type": "error",
     "traceback": [
      "\u001b[0;31m---------------------------------------------------------------------------\u001b[0m",
      "\u001b[0;31mNameError\u001b[0m                                 Traceback (most recent call last)",
      "\u001b[0;32m<ipython-input-57-164fdba27f1b>\u001b[0m in \u001b[0;36m<module>\u001b[0;34m\u001b[0m\n\u001b[0;32m----> 1\u001b[0;31m \u001b[0;32mif\u001b[0m \u001b[0mstorpool\u001b[0m \u001b[0;32mis\u001b[0m \u001b[0;32mnot\u001b[0m \u001b[0;32mNone\u001b[0m\u001b[0;34m:\u001b[0m\u001b[0;34m\u001b[0m\u001b[0;34m\u001b[0m\u001b[0m\n\u001b[0m\u001b[1;32m      2\u001b[0m     \u001b[0mprint\u001b[0m \u001b[0;34m(\u001b[0m\u001b[0mstorpool\u001b[0m\u001b[0;34m)\u001b[0m\u001b[0;34m\u001b[0m\u001b[0;34m\u001b[0m\u001b[0m\n",
      "\u001b[0;31mNameError\u001b[0m: name 'storpool' is not defined"
     ]
    }
   ],
   "source": [
    "if storpool is not None: \n",
    "    print (storpool)"
   ]
  },
  {
   "cell_type": "markdown",
   "metadata": {},
   "source": [
    "<br><br>\n",
    "## Add Storage Systems"
   ]
  },
  {
   "cell_type": "code",
   "execution_count": null,
   "metadata": {},
   "outputs": [],
   "source": []
  },
  {
   "cell_type": "markdown",
   "metadata": {},
   "source": [
    "<br><br>\n",
    "## Show volume templates"
   ]
  },
  {
   "cell_type": "code",
   "execution_count": 31,
   "metadata": {
    "scrolled": true
   },
   "outputs": [
    {
     "name": "stdout",
     "output_type": "stream",
     "text": [
      "No storage volumes exists!\n"
     ]
    }
   ],
   "source": [
    "storage_volume = ov.storage_volume_templates.get_all(filter=\"\\\"isRoot='False'\\\"\")\n",
    "if storage_volume:\n",
    "    for storvol in storage_volume:\n",
    "        print(storvol['name'])\n",
    "else:\n",
    "    print (\"No storage volumes exists!\")"
   ]
  },
  {
   "cell_type": "markdown",
   "metadata": {},
   "source": [
    "<br><br>\n",
    "## Create volume template"
   ]
  },
  {
   "cell_type": "code",
   "execution_count": 13,
   "metadata": {},
   "outputs": [
    {
     "name": "stdout",
     "output_type": "stream",
     "text": [
      "/rest/storage-volume-templates/bf62b10a-7a6c-4c7a-ba1d-a8c800809aaa\n",
      "Storage volume created...\n"
     ]
    }
   ],
   "source": [
    "storage_pool_name = 'FC_r5'\n",
    "\n",
    "# Get the storage pool by name to use in options\n",
    "storage_pool = ov.storage_pools.get_by('name', storage_pool_name)[0]\n",
    "\n",
    "# Gets the first Root Storage Volume Template available to use in options\n",
    "root_template = ov.storage_volume_templates.get_all(filter=\"\\\"isRoot='True'\\\"\")[0]\n",
    "print(root_template['uri'])\n",
    "\n",
    "options = {\n",
    "    \"name\": \"First Volume Template\",\n",
    "    \"description\": \"\",\n",
    "    \"rootTemplateUri\": root_template['uri'],\n",
    "    \"properties\": {\n",
    "        \"name\": {\n",
    "            \"meta\": {\n",
    "                \"locked\": False\n",
    "            },\n",
    "            \"type\": \"string\",\n",
    "            \"title\": \"Volume name\",\n",
    "            \"required\": True,\n",
    "            \"maxLength\": 100,\n",
    "            \"minLength\": 1,\n",
    "            \"description\": \"A volume name between 1 and 100 characters\"\n",
    "        },\n",
    "        \"size\": {\n",
    "            \"meta\": {\n",
    "                \"locked\": False,\n",
    "                \"semanticType\": \"capacity\"\n",
    "            },\n",
    "            \"type\": \"integer\",\n",
    "            \"title\": \"Capacity\",\n",
    "            \"default\": 1073741824,\n",
    "            \"maximum\": 17592186044416,\n",
    "            \"minimum\": 268435456,\n",
    "            \"required\": True,\n",
    "            \"description\": \"The capacity of the volume in bytes\"\n",
    "        },\n",
    "        \"description\": {\n",
    "            \"meta\": {\n",
    "                \"locked\": False\n",
    "            },\n",
    "            \"type\": \"string\",\n",
    "            \"title\": \"Description\",\n",
    "            \"default\": \"\",\n",
    "            \"maxLength\": 2000,\n",
    "            \"minLength\": 0,\n",
    "            \"description\": \"A description for the volume\"\n",
    "        },\n",
    "        \"isShareable\": {\n",
    "            \"meta\": {\n",
    "                \"locked\": False\n",
    "            },\n",
    "            \"type\": \"boolean\",\n",
    "            \"title\": \"Is Shareable\",\n",
    "            \"default\": False,\n",
    "            \"description\": \"The shareability of the volume\"\n",
    "        },\n",
    "        \"storagePool\": {\n",
    "            \"meta\": {\n",
    "                \"locked\": False,\n",
    "                \"createOnly\": True,\n",
    "                \"semanticType\": \"device-storage-pool\"\n",
    "            },\n",
    "            \"type\": \"string\",\n",
    "            \"title\": \"Storage Pool\",\n",
    "            \"format\": \"x-uri-reference\",\n",
    "            \"required\": True,\n",
    "            \"description\": \"A common provisioning group URI reference\",\n",
    "            \"default\": storage_pool['uri']\n",
    "        },\n",
    "        \"snapshotPool\": {\n",
    "            \"meta\": {\n",
    "                \"locked\": True,\n",
    "                \"semanticType\": \"device-snapshot-storage-pool\"\n",
    "            },\n",
    "            \"type\": \"string\",\n",
    "            \"title\": \"Snapshot Pool\",\n",
    "            \"format\": \"x-uri-reference\",\n",
    "            \"default\": storage_pool['uri'],\n",
    "            \"description\": \"A URI reference to the common provisioning group used to create snapshots\"\n",
    "        },\n",
    "        \"provisioningType\": {\n",
    "            \"enum\": [\n",
    "                \"Thin\",\n",
    "                \"Full\",\n",
    "                \"Thin Deduplication\"\n",
    "            ],\n",
    "            \"meta\": {\n",
    "                \"locked\": True,\n",
    "                \"createOnly\": True\n",
    "            },\n",
    "            \"type\": \"string\",\n",
    "            \"title\": \"Provisioning Type\",\n",
    "            \"default\": \"Thin\",\n",
    "            \"description\": \"The provisioning type for the volume\"\n",
    "        }\n",
    "    }\n",
    "}\n",
    "\n",
    "volume_template = oneview_client.storage_volume_templates.create(options)\n",
    "print(\"Storage volume created...\")"
   ]
  },
  {
   "cell_type": "markdown",
   "metadata": {},
   "source": [
    "## Delete storage template\n",
    "\"\"\" don´t use it, for the demo.. \"\"\""
   ]
  },
  {
   "cell_type": "code",
   "execution_count": 14,
   "metadata": {},
   "outputs": [],
   "source": [
    "storage_volume = oneview_client.storage_volume_templates.get_all(filter=\"\\\"name='Roundtable Volume Template'\\\"\")\n",
    "for storvol in storage_volume:\n",
    "    oneview_client.storage_volume_templates.delete(storvol)\n",
    "    "
   ]
  },
  {
   "cell_type": "markdown",
   "metadata": {},
   "source": [
    "## Show Enclosure / Server Hardware / Bay"
   ]
  },
  {
   "cell_type": "code",
   "execution_count": 15,
   "metadata": {},
   "outputs": [
    {
     "name": "stdout",
     "output_type": "stream",
     "text": [
      "show enclosure group (enclosure_group_uri)\n",
      "SY 3 Frame SAS FC VC /rest/enclosure-groups/73668dd8-d2cf-4004-b7df-8ca7cfeabbc0\n",
      "SY 1 Frame VC /rest/enclosure-groups/92e527ff-7129-489f-87dc-e7d5821f13c6\n",
      "SY 3 Frame SAS VC /rest/enclosure-groups/109eed5b-4cff-470e-b2ca-ffb26eb5c678\n",
      "\n",
      "show server hardware (server_hardware_type_uri)\n",
      "Synergy 660 Gen9 URI: /rest/server-hardware-types/A435F2DD-9EB9-4F98-B854-1A6B35140DC9\n",
      "Synergy 660 Gen10 URI: /rest/server-hardware-types/7AA9D8EE-C46A-4901-8D10-C252AF9DB1A4\n",
      "Synergy 480 Gen9 URI: /rest/server-hardware-types/860CAF19-0D67-401A-A1D2-536AA9356102\n",
      "Synergy 480 Gen9 URI: /rest/server-hardware-types/1131E4D0-9C51-4615-A20E-CCF00F02A94F\n",
      "Synergy 480 Gen10 URI: /rest/server-hardware-types/77E175FB-A4AA-4E95-8780-D1E9A40D3887\n",
      "Synergy 480 Gen10 URI: /rest/server-hardware-types/56C7D5F1-6221-4ACB-938B-21916B7DE5F3\n",
      "\n",
      "Enclosure/Bay (server_hardware_uri)\n",
      "CTC Synergy HE01, bay 1 Synergy 480 Gen10 /rest/server-hardware/39313738-3134-5A43-4A37-343030373531\n",
      "CTC Synergy HE01, bay 7 Synergy 480 Gen10 /rest/server-hardware/39313738-3134-5A43-4A37-343030373534\n",
      "CTC Synergy HE01, bay 2 Synergy 480 Gen10 /rest/server-hardware/39313738-3134-5A43-4A37-343030373535\n",
      "CTC Synergy HE01, bay 8 Synergy 480 Gen10 /rest/server-hardware/39313738-3134-5A43-4A37-343030373532\n",
      "CTC Synergy HE01, bay 3 Synergy 480 Gen10 /rest/server-hardware/39313738-3134-5A43-4A37-343030373536\n",
      "CTC Synergy HE11, bay 3 Synergy 480 Gen9 /rest/server-hardware/33323337-3235-5A43-3337-303948545332\n",
      "CTC Synergy HE11, bay 7 Synergy 480 Gen9 /rest/server-hardware/33323337-3235-5A43-3337-30394854544D\n",
      "CTC Synergy HE11, bay 5 Synergy 480 Gen9 /rest/server-hardware/33323337-3235-5A43-3337-303948545438\n",
      "CTC Synergy HE11, bay 8 Synergy 480 Gen9 /rest/server-hardware/33323337-3235-5A43-3337-303948545632\n",
      "CTC Synergy HE11, bay 4 Synergy 480 Gen9 /rest/server-hardware/33323337-3235-5A43-3337-303948545345\n",
      "CTC Synergy HE11, bay 10 Synergy 480 Gen9 /rest/server-hardware/33323337-3235-5A43-3337-303948545656\n",
      "CTC Synergy HE11, bay 9 Synergy 480 Gen9 /rest/server-hardware/33323337-3235-5A43-3337-303948545645\n",
      "CTC Synergy HE11, bay 2 Synergy 480 Gen9 /rest/server-hardware/33323337-3235-5A43-3337-30394854524D\n",
      "CTC Synergy HE21, bay 2 Synergy 480 Gen9 /rest/server-hardware/36343537-3338-4E43-3736-303230355931\n",
      "CTC Synergy HE11, bay 6 Synergy 480 Gen9 /rest/server-hardware/33323337-3235-5A43-3337-303948545356\n",
      "CTC Synergy HE21, bay 1 Synergy 480 Gen9 /rest/server-hardware/36343537-3338-4E43-3736-303230383144\n",
      "CTC Synergy HE21, bay 3 Synergy 480 Gen10 /rest/server-hardware/39313738-3234-5A43-4A37-343030373559\n",
      "CTC Synergy HE21, bay 10 Synergy 480 Gen9 /rest/server-hardware/33323337-3235-5A43-3337-303948545238\n",
      "CTC Synergy HE21, bay 6 Synergy 660 Gen9 /rest/server-hardware/30373737-3237-4E43-3735-353030335447\n",
      "CTC Synergy HE21, bay 4 Synergy 480 Gen10 /rest/server-hardware/39313738-3234-5A43-4A37-343030373558\n",
      "CTC Synergy HE21, bay 5 Synergy 660 Gen10 /rest/server-hardware/39313738-3133-5A43-4A37-343030373931\n",
      "CTC Synergy HE01, bay 9 Synergy 480 Gen10 /rest/server-hardware/39313738-3134-5A43-4A37-343030373533\n"
     ]
    }
   ],
   "source": [
    "print (\"show enclosure group (enclosure_group_uri)\")\n",
    "enclosure = oneview_client.enclosure_groups.get_all()\n",
    "for enc in enclosure:\n",
    "    print(enc['name'] + \" \" + enc['uri'])\n",
    "\n",
    "print(\"\\nshow server hardware (server_hardware_type_uri)\")\n",
    "server_hardware_types = oneview_client.server_hardware_types.get_all(sort='name:descending')\n",
    "# print(server_hardware_types)\n",
    "for serverhw in server_hardware_types:\n",
    "    # print(' %s ' % serverhw['model'])\n",
    "    print(serverhw['model'] + \" URI: \" + serverhw['uri'] )\n",
    "\n",
    "print(\"\\nEnclosure/Bay (server_hardware_uri)\")   \n",
    "server_hardware = oneview_client.server_hardware.get_all()\n",
    "for server in server_hardware:\n",
    "    print(server['name'] + \" \" + server['model'] + \" \" + server['uri'])"
   ]
  },
  {
   "cell_type": "markdown",
   "metadata": {},
   "source": [
    "<br>\n",
    "## Show Serverprofile\n"
   ]
  },
  {
   "cell_type": "code",
   "execution_count": 16,
   "metadata": {},
   "outputs": [
    {
     "name": "stdout",
     "output_type": "stream",
     "text": [
      "show server profile templates:\n",
      "SRT-Storage-BfS-W2k16   URI:   /rest/server-profile-templates/1df43d4a-76c3-4821-bff3-729446dc7231\n",
      "Roundtable - Python (DirkD)   URI:   /rest/server-profile-templates/1e2c29f5-e146-42d4-9f78-a057b41d3953\n",
      "SRT-LC-WIN-TP   URI:   /rest/server-profile-templates/308e1b0a-2e7c-40aa-bdf9-84eb87b42548\n",
      "SRT-StorageDemo-ESX   URI:   /rest/server-profile-templates/534d2abd-989c-456e-a84b-8c112ce3fcac\n",
      "Demo-CTC Windows2016-DC-byI3s   URI:   /rest/server-profile-templates/7a5d77bc-a372-4a44-8a52-b538ba703b97\n",
      "SRT-Storage-BfS-ESX   URI:   /rest/server-profile-templates/823883ee-0f0e-4554-8e00-a909001b28af\n",
      "Demo-CTC Windows2016-DC-byI3s_Gen10   URI:   /rest/server-profile-templates/894f818a-9604-48cb-ab9f-ea6c240a9381\n",
      "DEMO-CTC ESXi Server Template   URI:   /rest/server-profile-templates/ac2995c1-8b21-482b-80e8-7157f1984b75\n",
      "SRT-LC-WIN BfS   URI:   /rest/server-profile-templates/b18b3cf9-8f47-4a6a-be35-18bba3078acd\n",
      "DEMO-CTC Stratoscale Template   URI:   /rest/server-profile-templates/c8e28ad3-d764-441b-80ee-0280f72de850\n",
      "Roundtable - API Demo Template (DirkD)   URI:   /rest/server-profile-templates/cb62f9a2-5da4-49cc-896c-4d16fac04c1c\n",
      "Roundtable (DirkD)   URI:   /rest/server-profile-templates/cfe892e5-b775-46df-a36e-c65cf7e10100\n",
      "SRT-Lifecycle-ESX-TP   URI:   /rest/server-profile-templates/da1ba755-6033-4062-b3be-04d344b268e8\n",
      "\n",
      "show server profiles:\n",
      "DEMO Windwos 005   URI:  /rest/server-profile-templates/da1ba755-6033-4062-b3be-04d344b268e8\n",
      "Andreas   URI:  /rest/server-profile-templates/da1ba755-6033-4062-b3be-04d344b268e8\n",
      "SRT-LC-Win02   URI:  /rest/server-profile-templates/da1ba755-6033-4062-b3be-04d344b268e8\n",
      "SRTLCwin00   URI:  /rest/server-profile-templates/da1ba755-6033-4062-b3be-04d344b268e8\n",
      "SRT-LC-WIN01   URI:  /rest/server-profile-templates/da1ba755-6033-4062-b3be-04d344b268e8\n",
      "DEM05CTCCON01   URI:  /rest/server-profile-templates/da1ba755-6033-4062-b3be-04d344b268e8\n",
      "SRT-SmartCache-Demo   URI:  /rest/server-profile-templates/da1ba755-6033-4062-b3be-04d344b268e8\n",
      "SRT-SUO04SY2102   URI:  /rest/server-profile-templates/da1ba755-6033-4062-b3be-04d344b268e8\n",
      "DEM04CTCL0 CTC SAP HANA Demo   URI:  /rest/server-profile-templates/da1ba755-6033-4062-b3be-04d344b268e8\n",
      "DEMO-CTC ESX SUO04CTCD001   URI:  /rest/server-profile-templates/da1ba755-6033-4062-b3be-04d344b268e8\n",
      "CTC ESXi Reference Server GoldenImage   URI:  /rest/server-profile-templates/da1ba755-6033-4062-b3be-04d344b268e8\n",
      "CTC Windows2016 Reference Server GoldenImage für Gen10   URI:  /rest/server-profile-templates/da1ba755-6033-4062-b3be-04d344b268e8\n",
      "SUO04CTCSTRA1   URI:  /rest/server-profile-templates/da1ba755-6033-4062-b3be-04d344b268e8\n",
      "SRT-SUO04SY2110   URI:  /rest/server-profile-templates/da1ba755-6033-4062-b3be-04d344b268e8\n",
      "SUO04CTCSTRA3   URI:  /rest/server-profile-templates/da1ba755-6033-4062-b3be-04d344b268e8\n",
      "SUO04CTCSTRA5   URI:  /rest/server-profile-templates/da1ba755-6033-4062-b3be-04d344b268e8\n",
      "SUO04CTCSTRA4   URI:  /rest/server-profile-templates/da1ba755-6033-4062-b3be-04d344b268e8\n",
      "CTC Windows2016 Reference Server GoldenImage für Gen9   URI:  /rest/server-profile-templates/da1ba755-6033-4062-b3be-04d344b268e8\n",
      "SUO04CTCSTRA2   URI:  /rest/server-profile-templates/da1ba755-6033-4062-b3be-04d344b268e8\n",
      "SRT-SUO04SY2101   URI:  /rest/server-profile-templates/da1ba755-6033-4062-b3be-04d344b268e8\n",
      "SUO04CTCSTRA6   URI:  /rest/server-profile-templates/da1ba755-6033-4062-b3be-04d344b268e8\n"
     ]
    }
   ],
   "source": [
    "print(\"show server profile templates:\")\n",
    "all_srv_templates = oneview_client.server_profile_templates.get_all()\n",
    "for srv_tmp in all_srv_templates:\n",
    "    print(srv_tmp['name'] + \"   URI:   \" + srv_tmp['uri'])\n",
    "\n",
    "print(\"\\nshow server profiles:\")\n",
    "all_profiles = oneview_client.server_profiles.get_all()\n",
    "for profile in all_profiles:\n",
    "    print(profile['name']+ \"   URI:  \" + srv_tmp['uri'])\n",
    "\n",
    "# my_profile = oneview_client.server_profiles.get_by_name(\"Roundtable - API Demo Template (DirkD)\")"
   ]
  },
  {
   "cell_type": "markdown",
   "metadata": {},
   "source": [
    "<br><br>\n",
    "## Create server profile (takes 2-3 minutes)"
   ]
  },
  {
   "cell_type": "code",
   "execution_count": 17,
   "metadata": {
    "scrolled": false
   },
   "outputs": [
    {
     "name": "stdout",
     "output_type": "stream",
     "text": [
      "create server profile\n"
     ]
    }
   ],
   "source": [
    "powerOn = {\n",
    "    \"powerState\": \"On\",\n",
    "    \"powerControl\": \"MomentaryPress\"\n",
    "}\n",
    "\n",
    "powerOff = {\n",
    "    \"powerState\": \"Off\",\n",
    "    \"powerControl\": \"PressAndHold\"\n",
    "}\n",
    "\n",
    "#template_name = \"Roundtable - API Demo Template (DirkD)\"\n",
    "template_name = \"Roundtable - Python (DirkD)\"\n",
    "server_name = \"Roundtable - API Demo Server (DirkD)\"\n",
    "\n",
    "# server_hardware_uri = '/rest/server-hardware/39313738-3133-5A43-4A37-343030373931' # SY660 G10\n",
    "server_hardware_uri = '/rest/server-hardware/39313738-3134-5A43-4A37-343030373536' # SY480\n",
    "server_template_uri = oneview_client.server_profile_templates.get_by_name(template_name)\n",
    "\n",
    "server_power = oneview_client.server_hardware.update_power_state(powerOff, server_hardware_uri) # turn off server\n",
    "\n",
    "try:\n",
    "    print (\"create server profile\")\n",
    "    roundtable_server = oneview_client.server_profile_templates.get_new_profile(server_template_uri['uri'])\n",
    "    roundtable_server[\"name\"] = server_name\n",
    "    roundtable_server[\"serverHardwareUri\"] = server_hardware_uri\n",
    "\n",
    "    for name in roundtable_server[\"osDeploymentSettings\"][\"osCustomAttributes\"]:\n",
    "        if (name['name'] == \"NewUser\"):\n",
    "            name['value']= \"dirk\"\n",
    "        if (name['name'] == \"NewUserPassword\"):\n",
    "            name['value']= \"HalloRoundtable!\"   \n",
    "    profile = oneview_client.server_profiles.create(roundtable_server)\n",
    "\n",
    "    \n",
    "except:\n",
    "    print(server_name + \" Server already exists\")\n",
    "\n",
    "server_power = oneview_client.server_hardware.update_power_state(powerOn, server_hardware_uri) # turn on server\n"
   ]
  },
  {
   "cell_type": "markdown",
   "metadata": {},
   "source": [
    "### Show individual parameters from Image (Imagestreamer)"
   ]
  },
  {
   "cell_type": "code",
   "execution_count": 34,
   "metadata": {},
   "outputs": [
    {
     "ename": "NameError",
     "evalue": "name 'server_template_uri' is not defined",
     "output_type": "error",
     "traceback": [
      "\u001b[0;31m---------------------------------------------------------------------------\u001b[0m",
      "\u001b[0;31mNameError\u001b[0m                                 Traceback (most recent call last)",
      "\u001b[0;32m<ipython-input-34-58c9225d3a57>\u001b[0m in \u001b[0;36m<module>\u001b[0;34m\u001b[0m\n\u001b[1;32m      1\u001b[0m \u001b[0;31m#print (\"create server profile\")\u001b[0m\u001b[0;34m\u001b[0m\u001b[0;34m\u001b[0m\u001b[0;34m\u001b[0m\u001b[0m\n\u001b[0;32m----> 2\u001b[0;31m \u001b[0mmy_server\u001b[0m \u001b[0;34m=\u001b[0m \u001b[0mov\u001b[0m\u001b[0;34m.\u001b[0m\u001b[0mserver_profile_templates\u001b[0m\u001b[0;34m.\u001b[0m\u001b[0mget_new_profile\u001b[0m\u001b[0;34m(\u001b[0m\u001b[0mserver_template_uri\u001b[0m\u001b[0;34m[\u001b[0m\u001b[0;34m'uri'\u001b[0m\u001b[0;34m]\u001b[0m\u001b[0;34m)\u001b[0m\u001b[0;34m\u001b[0m\u001b[0;34m\u001b[0m\u001b[0m\n\u001b[0m\u001b[1;32m      3\u001b[0m \u001b[0mmy_server\u001b[0m\u001b[0;34m[\u001b[0m\u001b[0;34m\"name\"\u001b[0m\u001b[0;34m]\u001b[0m \u001b[0;34m=\u001b[0m \u001b[0mserver_name\u001b[0m\u001b[0;34m\u001b[0m\u001b[0;34m\u001b[0m\u001b[0m\n\u001b[1;32m      4\u001b[0m \u001b[0mmy_server\u001b[0m\u001b[0;34m[\u001b[0m\u001b[0;34m\"serverHardwareUri\"\u001b[0m\u001b[0;34m]\u001b[0m \u001b[0;34m=\u001b[0m \u001b[0mserver_hardware_uri\u001b[0m\u001b[0;34m\u001b[0m\u001b[0;34m\u001b[0m\u001b[0m\n\u001b[1;32m      5\u001b[0m \u001b[0;34m\u001b[0m\u001b[0m\n",
      "\u001b[0;31mNameError\u001b[0m: name 'server_template_uri' is not defined"
     ]
    }
   ],
   "source": [
    "    #print (\"create server profile\")\n",
    "    my_server = ov.server_profile_templates.get_new_profile(server_template_uri['uri'])\n",
    "    my_server[\"name\"] = server_name\n",
    "    my_server[\"serverHardwareUri\"] = server_hardware_uri\n",
    "\n",
    "    for name in my_server[\"osDeploymentSettings\"][\"osCustomAttributes\"]:\n",
    "        print(name['name'] + \": \" + str(name['value']))\n",
    "   \n"
   ]
  },
  {
   "cell_type": "markdown",
   "metadata": {},
   "source": [
    "## Delete server profile\n",
    "!!! do not use, if not necessary !!!"
   ]
  },
  {
   "cell_type": "code",
   "execution_count": null,
   "metadata": {},
   "outputs": [],
   "source": [
    "server_power = oneview_client.server_hardware.update_power_state(powerOff, server_hardware_uri) # turn on server\n",
    "oneview_client.server_profiles.delete(profile)"
   ]
  },
  {
   "cell_type": "markdown",
   "metadata": {},
   "source": [
    "### example: how to get the values from json"
   ]
  },
  {
   "cell_type": "code",
   "execution_count": null,
   "metadata": {},
   "outputs": [],
   "source": [
    "    server_hardware = oneview_client.server_hardware.get_all()\n",
    "   # print(server_hardware)\n",
    "    \n",
    "    for server in server_hardware:\n",
    "        for ports in server['portMap']['deviceSlots']:\n",
    "            for mac in ports['physicalPorts']: \n",
    "                for wwnn in mac['virtualPorts']:\n",
    "                    print(server['name']+ \" model:\" + server['model'] + \" \" + str(server['memoryMb']) + \" MB mac: \" + str(mac['mac']) + \" wwnn: \" + str(wwnn['wwnn'])) "
   ]
  },
  {
   "cell_type": "markdown",
   "metadata": {},
   "source": [
    "## Application deployment\n",
    "\n",
    "\n",
    "Webserver NGINX running on docker.\n",
    "\n",
    "##### What we need:\n",
    "\n",
    "IP address of deployed system.\n",
    "\n",
    "<br>\n",
    "<img src=\"Pictures/NGINX.png\" height=\"500\" width=\"500\" align=\"left\">\n"
   ]
  },
  {
   "cell_type": "code",
   "execution_count": 21,
   "metadata": {},
   "outputs": [
    {
     "name": "stdout",
     "output_type": "stream",
     "text": [
      "Login with user: root Server:10.0.20.85\n",
      "http://10.0.20.85\n"
     ]
    }
   ],
   "source": [
    "import os\n",
    "import paramiko\n",
    "import time\n",
    "\n",
    "ssh = paramiko.SSHClient()\n",
    "\n",
    "server_name = \"Roundtable - API Demo Server (DirkD)\"\n",
    "username = 'root'\n",
    "password = 'Compaq1!'\n",
    "\n",
    "deployed_server = oneview_client.server_profiles.get_by_name(server_name)\n",
    "\n",
    "for name in deployed_server[\"osDeploymentSettings\"][\"osCustomAttributes\"]:\n",
    "    if (name['name'] == \"Team0NIC1.ipaddress\"):\n",
    "        ip_address = name['value']\n",
    "\n",
    "        \n",
    "print(\"Login with user: \" + username + \" Server:\" + ip_address)        \n",
    "ssh.set_missing_host_key_policy(paramiko.AutoAddPolicy())         # add unknown Host-Keys\n",
    "ssh.connect(ip_address, username=username, password=password)     # login\n",
    "ssh.exec_command('docker run -d --name nginx -p 80:80 nginx')\n",
    "#time.sleep(10)\n",
    "stdin, stdout, stderr = ssh.exec_command(\"docker exec -it nginx sed -i '\\''s/nginx/the Synergy Roundtable/g'\\'' /usr/share/nginx/html/index.html\", get_pty=True)\n",
    "print(\"http://\" + ip_address)\n",
    "# print(stdout.read())\n",
    "# print(stderr.read())\n"
   ]
  },
  {
   "cell_type": "markdown",
   "metadata": {},
   "source": [
    "### Excel Export\n",
    "\n",
    "xlswriter:\n",
    "https://xlsxwriter.readthedocs.io/\n",
    "\n",
    "example: we extrace some data to excel XLS"
   ]
  },
  {
   "cell_type": "code",
   "execution_count": 32,
   "metadata": {
    "scrolled": false
   },
   "outputs": [
    {
     "ename": "ModuleNotFoundError",
     "evalue": "No module named 'xlsxwriter'",
     "output_type": "error",
     "traceback": [
      "\u001b[0;31m---------------------------------------------------------------------------\u001b[0m",
      "\u001b[0;31mModuleNotFoundError\u001b[0m                       Traceback (most recent call last)",
      "\u001b[0;32m<ipython-input-32-241c42132462>\u001b[0m in \u001b[0;36m<module>\u001b[0;34m\u001b[0m\n\u001b[0;32m----> 1\u001b[0;31m \u001b[0;32mimport\u001b[0m \u001b[0mxlsxwriter\u001b[0m\u001b[0;34m\u001b[0m\u001b[0;34m\u001b[0m\u001b[0m\n\u001b[0m\u001b[1;32m      2\u001b[0m \u001b[0mworkbook\u001b[0m \u001b[0;34m=\u001b[0m \u001b[0mxlsxwriter\u001b[0m\u001b[0;34m.\u001b[0m\u001b[0mWorkbook\u001b[0m\u001b[0;34m(\u001b[0m\u001b[0;34m'roundtable.xlsx'\u001b[0m\u001b[0;34m)\u001b[0m\u001b[0;34m\u001b[0m\u001b[0;34m\u001b[0m\u001b[0m\n\u001b[1;32m      3\u001b[0m \u001b[0mworksheet\u001b[0m \u001b[0;34m=\u001b[0m \u001b[0mworkbook\u001b[0m\u001b[0;34m.\u001b[0m\u001b[0madd_worksheet\u001b[0m\u001b[0;34m(\u001b[0m\u001b[0;34m)\u001b[0m\u001b[0;34m\u001b[0m\u001b[0;34m\u001b[0m\u001b[0m\n\u001b[1;32m      4\u001b[0m \u001b[0;34m\u001b[0m\u001b[0m\n\u001b[1;32m      5\u001b[0m \u001b[0;31m# Add a bold format to use to highlight cells.\u001b[0m\u001b[0;34m\u001b[0m\u001b[0;34m\u001b[0m\u001b[0;34m\u001b[0m\u001b[0m\n",
      "\u001b[0;31mModuleNotFoundError\u001b[0m: No module named 'xlsxwriter'"
     ]
    }
   ],
   "source": [
    "import xlsxwriter\n",
    "workbook = xlsxwriter.Workbook('roundtable.xlsx')\n",
    "worksheet = workbook.add_worksheet()\n",
    "\n",
    "# Add a bold format to use to highlight cells.\n",
    "bold = workbook.add_format({'bold': True})\n",
    "\n",
    "# Text with formatting.\n",
    "worksheet.write(0,0, 'Synergy Roundtable', bold)\n",
    "\n",
    "# Start from the first cell below the headers.\n",
    "row = 4\n",
    "worksheet.write(row, 0, \"Servername\", bold)\n",
    "worksheet.write(row, 1, \"Model\", bold)\n",
    "worksheet.write(row, 2, \"Memory\", bold)\n",
    "worksheet.write(row, 3, \"MAC address\", bold)\n",
    "worksheet.write(row, 4, \"WWN address\", bold)\n",
    "worksheet.write(row, 5, \"Status\", bold)\n",
    "row += 1\n",
    "\n",
    "server_hardware = oneview_client.server_hardware.get_all()\n",
    "#print(server_hardware)\n",
    "\n",
    "for server in server_hardware:\n",
    " col = 0\n",
    " for ports in server['portMap']['deviceSlots']:\n",
    "     for mac in ports['physicalPorts']: \n",
    "         for wwnn in mac['virtualPorts']:\n",
    "             # print(server['name']+ \" model:\" + server['model'] + \" \" + str(server['memoryMb']) + \" MB mac: \" + str(mac['mac']) + \" wwnn: \" + str(wwnn['wwnn']))\n",
    "             worksheet.write(row,col, server['name'])\n",
    "             worksheet.write(row,col+1, server['model'])\n",
    "             worksheet.write(row,col+2, server['memoryMb'])\n",
    "             worksheet.write(row,col+3, mac['mac'])\n",
    "             worksheet.write(row,col+4, wwnn['wwnn'])\n",
    "             worksheet.write(row,col+5, server['status'])\n",
    "             row += 1\n",
    "workbook.close()\n",
    "print ('Excel File roundtable.xlsx created')"
   ]
  },
  {
   "cell_type": "code",
   "execution_count": null,
   "metadata": {},
   "outputs": [],
   "source": []
  }
 ],
 "metadata": {
  "kernelspec": {
   "display_name": "Python 3",
   "language": "python",
   "name": "python3"
  },
  "language_info": {
   "codemirror_mode": {
    "name": "ipython",
    "version": 3
   },
   "file_extension": ".py",
   "mimetype": "text/x-python",
   "name": "python",
   "nbconvert_exporter": "python",
   "pygments_lexer": "ipython3",
   "version": "3.6.8"
  }
 },
 "nbformat": 4,
 "nbformat_minor": 2
}

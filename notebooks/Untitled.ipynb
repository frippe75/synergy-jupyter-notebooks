{
 "cells": [
  {
   "cell_type": "code",
   "execution_count": 3,
   "metadata": {},
   "outputs": [
    {
     "name": "stdout",
     "output_type": "stream",
     "text": [
      "\n"
     ]
    }
   ],
   "source": [
    "#play\n",
    "hosts: localhost\n",
    "gather_facts: false"
   ]
  },
  {
   "cell_type": "code",
   "execution_count": null,
   "metadata": {},
   "outputs": [],
   "source": [
    "- name: Gather facts about the FCoE Network with name 'FCoE Network Test'\n",
    "  oneview_fcoe_network_facts:\n",
    "    name: \"FCoE Network Test\""
   ]
  },
  {
   "cell_type": "code",
   "execution_count": null,
   "metadata": {},
   "outputs": [],
   "source": [
    "- name: Create a Fibre Channel Network\n",
    "  oneview_fc_network:\n",
    "    hostname: synergy.hpedemo.local\n",
    "    username: administrator\n",
    "    password: HPEc0nverged!\n",
    "    api_version: 600\n",
    "    state: present\n",
    "    data:\n",
    "      name: \"{{ network_name }}\"\n",
    "      fabricType: 'FabricAttach'\n",
    "      linkStabilityTime: '30'\n",
    "      autoLoginRedistribution: true\n",
    "  no_log: true\n",
    "  delegate_to: localhost"
   ]
  }
 ],
 "metadata": {
  "kernelspec": {
   "display_name": "Ansible",
   "language": "ansible",
   "name": "ansible"
  },
  "language_info": {
   "codemirror_mode": "yaml",
   "file_extension": ".yml",
   "mimetype": "text/yaml",
   "name": "ansible"
  }
 },
 "nbformat": 4,
 "nbformat_minor": 2
}

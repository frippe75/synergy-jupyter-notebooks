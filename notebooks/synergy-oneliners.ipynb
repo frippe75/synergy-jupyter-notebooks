{
 "cells": [
  {
   "cell_type": "markdown",
   "metadata": {},
   "source": [
    "# Welcome to the Synergy Oneliners\n",
    "Created by Fredrik Tärnell - 2019-02-20<br>\n",
    "\n",
    "This notebook contains useful oneliners for particular occations.<br>\n",
    "**Don't use them without fully understanding them**.<br> Some will wipe resources away no questions asked.\n",
    "\n",
    "Jupyter Notebooks can be found: https://github.com/frippe75/synergy-jupyter-notebooks<br>\n",
    "Together with a Docker image with all dependencies included and a quickstart guide.\n",
    "\n",
    "\n",
    "### API information\n",
    "\n",
    "http://h17007.www1.hpe.com/docs/enterprise/servers/oneview4.1/cic-api/en/index.html <br>\n",
    "\n",
    "\n",
    "\n",
    "### Python specific\n",
    "https://hewlettpackard.github.io/python-hpOneView/index.html<br>\n",
    "https://github.com/HewlettPackard/python-hpOneView<br>\n",
    "\n",
    "<br>\n",
    "\n",
    "## Table of content\n",
    "\n",
    "- **[Networks](#Network)**<br>\n",
    "   + [List all networks](#Network-show)<br>\n",
    "   + [Create a single network](#Network-create)<br>\n",
    "   + [Delete a single network](#Network-delete)<br>\n",
    "   + [Create multiple networks](#Network-bulk-create)<br>\n",
    "   + [Delete multiple networks](#Network-bulk-delete)<br>\n",
    "   + [Delete ALL networks](#Network-delete-all)<br>\n",
    "   + [Create the netop user](#Netop)<br>\n",
    "- **[Server Profiles](#SP)**<br>\n",
    "   + [Power On/Off all Profiles](#SP-power)<br>\n",
    "   + [Delete all Profiles](#SP-delete)<br>\n",
    "   + [Server Profile Mobility](#SP-mobility)<br>\n",
    "- **[Server Profiles Templates](#SPT)**<br>\n",
    "   + [Delete all Profiles Templates](#SPT-delete)<br>\n",
    "- **[Volume Templates](#VolumeTemplates)**<br>\n",
    "   + [Delete all volume templates](#VolumeTemplates-deleteall)<br>\n",
    "- **[Volumes](#Volumes)**<br>\n",
    "   + [Delete all volumes](#Volume-deleteall)<br>\n",
    "- **[Appliances](#Appliances)**<br>\n",
    "   + [eFuse Composer / Image Streamer](#Appliance-efuse)<br>\n",
    "   + [eFuse Compute module](#Appliance-efuse-compute)<br>\n",
    "<br><br>\n",
    "# First section - Simple tasks via Python\n"
   ]
  },
  {
   "cell_type": "markdown",
   "metadata": {},
   "source": [
    "\n",
    "### Import the python OneView library with some additional dependencies for this playbook"
   ]
  },
  {
   "cell_type": "code",
   "execution_count": 17,
   "metadata": {
    "code_folding": [
     7,
     14
    ]
   },
   "outputs": [],
   "source": [
    "from hpOneView.oneview_client import OneViewClient\n",
    "import pandas, paramiko\n",
    "from IPython.display import display, Markdown, Javascript\n",
    "from pprint import pprint\n",
    "\n",
    "# Simple helper function to make nicer tables using markdown and the pandas lib\n",
    "# TODO: get it into helper module that gets imported above \n",
    "def my_table(source=dict(), resource=\"Resource\", columns='name'):\n",
    "    data = pandas.DataFrame.from_dict(source)\n",
    "    table = data.to_html(index=False,header=True,columns=columns)\n",
    "    \n",
    "    display(Markdown('### ' + resource + ' in Synergy Composer at https://' + config['ip']))\n",
    "    display(Markdown(table))\n",
    "    \n",
    "def ssh_command(self, command):\n",
    "    client = paramiko.SSHClient()\n",
    "    client.set_missing_host_key_policy(paramiko.AutoAddPolicy())\n",
    "\n",
    "    # Make connection and create shell.\n",
    "    client.connect(self.ipaddr, self._sshtun_port, self.ssh_user, self.ssh_user_pass)\n",
    "    shell = client.invoke_shell()\n",
    "\n",
    "    # Execute command and get results.\n",
    "    _, stdout, stderr = client.exec_command(command)\n",
    "    data = self._read_command_output(stdout, stderr, 'both')\n",
    "\n",
    "    # Close connection.\n",
    "    shell.close()\n",
    "    client.close()\n",
    "\n",
    "    return data "
   ]
  },
  {
   "cell_type": "markdown",
   "metadata": {},
   "source": [
    "### Configure your environment"
   ]
  },
  {
   "cell_type": "code",
   "execution_count": 3,
   "metadata": {
    "code_folding": []
   },
   "outputs": [
    {
     "name": "stdout",
     "output_type": "stream",
     "text": [
      "{'api_version': '1000',\n",
      " 'credentials': {'authLoginDomain': 'local',\n",
      "                 'password': 'HPEc0nverged!',\n",
      "                 'userName': 'Administrator'},\n",
      " 'ip': 'synergy.hpedemo.local'}\n"
     ]
    }
   ],
   "source": [
    "composer_ip = \"synergy.hpedemo.local\"\n",
    "\n",
    "config = {\n",
    "    \"api_version\": \"1000\",\n",
    "    \"ip\": composer_ip,\n",
    "    \"credentials\": {\n",
    "        \"userName\": \"Administrator\",\n",
    "        \"authLoginDomain\": \"local\",\n",
    "        \"password\": '********'\n",
    "    }\n",
    "}\n",
    "pprint(config)"
   ]
  },
  {
   "cell_type": "markdown",
   "metadata": {},
   "source": [
    "<br><br>\n",
    "## Login against the Appliance / Composer instance:\n",
    "Create new object \"ov\" with the config (see above) using the JSON config dict above"
   ]
  },
  {
   "cell_type": "code",
   "execution_count": 4,
   "metadata": {
    "scrolled": true
   },
   "outputs": [
    {
     "name": "stdout",
     "output_type": "stream",
     "text": [
      "\n",
      "Logged in against synergy.hpedemo.local successfully\n",
      "\n"
     ]
    }
   ],
   "source": [
    "try:\n",
    "    ov = OneViewClient(config)\n",
    "    print(\"\\nLogged in against \" + config['ip'] + \" successfully\\n\")\n",
    "except HPOneViewException as e:\n",
    "    print(\"\\nLogged in failed:\")\n",
    "    print(e.msg)"
   ]
  },
  {
   "cell_type": "markdown",
   "metadata": {},
   "source": [
    "<br><br>\n",
    "# Networking  <a name=\"Network\"></a>\n",
    "## Show existing networks  <a name=\"Network-show\"></a>\n",
    "This example uses Pandas dataframe to create the HTML table<br>\n",
    "https://pandas.pydata.org/pandas-docs/stable/reference/api/pandas.DataFrame.to_html.html?highlight=to_html#pandas.DataFrame.to_html\n"
   ]
  },
  {
   "cell_type": "code",
   "execution_count": null,
   "metadata": {},
   "outputs": [],
   "source": [
    "poc_networks = ov.ethernet_networks.get_all()\n",
    "\n",
    "#print(poc_networks)\n",
    "\n",
    "if poc_networks:\n",
    "    my_table(poc_networks, resource=\"Subnets\", columns=['name','description','vlanId','uri','purpose'])\n"
   ]
  },
  {
   "cell_type": "markdown",
   "metadata": {},
   "source": [
    "<br><br>\n",
    "## Create a network  <a name=\"Network-create\"></a>"
   ]
  },
  {
   "cell_type": "code",
   "execution_count": null,
   "metadata": {},
   "outputs": [],
   "source": [
    "options = {\n",
    "    \"name\": \"New network\",\n",
    "    \"vlanId\": 3000,\n",
    "    \"ethernetNetworkType\": \"Tagged\",\n",
    "    \"purpose\": \"General\",\n",
    "    \"smartLink\": False,\n",
    "    \"privateNetwork\": False,\n",
    "    \"type\" : \"ethernet-networkV4\",\n",
    "    \"connectionTemplateUri\": None\n",
    "}\n",
    "\n",
    "ethernet_network = ov.ethernet_networks.create(options)\n",
    "print(\"Created ethernet-network \" + ethernet_network['name'] + \"   URI: \" + ethernet_network['uri'] + \"\\nsuccessfully.\")"
   ]
  },
  {
   "cell_type": "markdown",
   "metadata": {},
   "source": [
    "<br><br>\n",
    "## Delete a network  <a name=\"Network-delete\"></a>"
   ]
  },
  {
   "cell_type": "code",
   "execution_count": null,
   "metadata": {},
   "outputs": [],
   "source": [
    "ov.ethernet_networks.delete(ethernet_network)\n",
    "print(\"Delete the network created above: \" + ethernet_network['name'])"
   ]
  },
  {
   "cell_type": "markdown",
   "metadata": {},
   "source": [
    "<br><br>\n",
    "## Create bulk networks <a name=\"Network-bulk-create\"></a>"
   ]
  },
  {
   "cell_type": "code",
   "execution_count": 12,
   "metadata": {},
   "outputs": [
    {
     "name": "stdout",
     "output_type": "stream",
     "text": [
      "created network: Net_11 URI: /rest/ethernet-networks/c5e06b30-38ce-4610-aba5-e87ee9be90bc\n",
      "created network: Net_12 URI: /rest/ethernet-networks/5d06575a-43d6-4a94-8880-1c0bb0f518c1\n",
      "created network: Net_13 URI: /rest/ethernet-networks/04587364-71bc-4123-825f-a1c63a972103\n",
      "created network: Net_14 URI: /rest/ethernet-networks/1ba54684-2385-4602-a8a7-64d77d03aa2f\n",
      "created network: Net_15 URI: /rest/ethernet-networks/a247beb9-218f-43c9-8704-e8352564aad9\n",
      "created network: Net_16 URI: /rest/ethernet-networks/9a696465-363a-4c36-b169-d58b8e7d2b00\n",
      "created network: Net_17 URI: /rest/ethernet-networks/aa27fcef-1fc3-4d9c-aa16-89eaaa9c59c2\n",
      "created network: Net_18 URI: /rest/ethernet-networks/98803094-1ddf-4b39-98ee-bc47b79fc444\n",
      "created network: Net_19 URI: /rest/ethernet-networks/374ec04d-822e-4fbb-9cb0-d1bfe73660fb\n",
      "created network: Net_20 URI: /rest/ethernet-networks/0af1a292-3e3a-4153-9663-065f70e7fa51\n"
     ]
    }
   ],
   "source": [
    "options_bulk = {\n",
    "    \"vlanIdRange\": \"11-20\",\n",
    "    \"purpose\": \"General\",\n",
    "    \"namePrefix\": \"Net\",\n",
    "    \"smartLink\": False,\n",
    "    \"privateNetwork\": False,\n",
    "    \"type\": \"bulk-ethernet-networkV1\",\n",
    "    \"bandwidth\": {\n",
    "        \"maximumBandwidth\": 10000,\n",
    "        \"typicalBandwidth\": 2000\n",
    "    }\n",
    "}\n",
    "\n",
    "# create the networks\n",
    "ethernet_nets_bulk = ov.ethernet_networks.create_bulk(options_bulk)\n",
    "\n",
    "# simply display whats exepected\n",
    "for net in ethernet_nets_bulk: \n",
    "  print(\"created network: \" + net['name'] + \" URI: \" + net['uri'])"
   ]
  },
  {
   "cell_type": "markdown",
   "metadata": {},
   "source": [
    "<br><br>\n",
    "## Delete the bulks network above  <a name=\"Network-bulk-delete\"></a>"
   ]
  },
  {
   "cell_type": "code",
   "execution_count": 5,
   "metadata": {},
   "outputs": [
    {
     "ename": "NameError",
     "evalue": "name 'ethernet_nets_bulk' is not defined",
     "output_type": "error",
     "traceback": [
      "\u001b[0;31m---------------------------------------------------------------------------\u001b[0m",
      "\u001b[0;31mNameError\u001b[0m                                 Traceback (most recent call last)",
      "\u001b[0;32m<ipython-input-5-715bca098ced>\u001b[0m in \u001b[0;36m<module>\u001b[0;34m\u001b[0m\n\u001b[0;32m----> 1\u001b[0;31m \u001b[0;32mfor\u001b[0m \u001b[0mnet\u001b[0m \u001b[0;32min\u001b[0m \u001b[0methernet_nets_bulk\u001b[0m\u001b[0;34m:\u001b[0m\u001b[0;34m\u001b[0m\u001b[0;34m\u001b[0m\u001b[0m\n\u001b[0m\u001b[1;32m      2\u001b[0m     \u001b[0mov\u001b[0m\u001b[0;34m.\u001b[0m\u001b[0methernet_networks\u001b[0m\u001b[0;34m.\u001b[0m\u001b[0mdelete\u001b[0m\u001b[0;34m(\u001b[0m\u001b[0mnet\u001b[0m\u001b[0;34m)\u001b[0m\u001b[0;34m\u001b[0m\u001b[0;34m\u001b[0m\u001b[0m\n\u001b[1;32m      3\u001b[0m     \u001b[0mprint\u001b[0m\u001b[0;34m(\u001b[0m\u001b[0;34m\"delete network: \"\u001b[0m \u001b[0;34m+\u001b[0m \u001b[0mnet\u001b[0m\u001b[0;34m[\u001b[0m\u001b[0;34m'name'\u001b[0m\u001b[0;34m]\u001b[0m\u001b[0;34m)\u001b[0m\u001b[0;34m\u001b[0m\u001b[0;34m\u001b[0m\u001b[0m\n",
      "\u001b[0;31mNameError\u001b[0m: name 'ethernet_nets_bulk' is not defined"
     ]
    }
   ],
   "source": [
    "for net in ethernet_nets_bulk:\n",
    "    ov.ethernet_networks.delete(net)\n",
    "    print(\"delete network: \" + net['name'])"
   ]
  },
  {
   "cell_type": "markdown",
   "metadata": {},
   "source": [
    "<br><br>\n",
    "## Delete ALL networks in Oneview  <a name=\"Network-delete-all\"></a>\n",
    "This will **delete ALL networks off all types** so don't run unless you mean it!"
   ]
  },
  {
   "cell_type": "code",
   "execution_count": 11,
   "metadata": {},
   "outputs": [],
   "source": [
    "all_nets = ov.ethernet_networks.get_all()\n",
    "#pprint(all_nets)\n",
    "\n",
    "for net in all_nets:\n",
    "    # If the ov command below is commented out it's safe to give a try as a dry-run\n",
    "    ov.ethernet_networks.delete(net)\n",
    "    print(\"Deleting network: \" + net['name'])"
   ]
  },
  {
   "cell_type": "markdown",
   "metadata": {},
   "source": [
    "<br><br>\n",
    "## Create the netop user which was removed part of 4.2 release  <a name=\"Netop\"></a>\n"
   ]
  },
  {
   "cell_type": "code",
   "execution_count": 23,
   "metadata": {},
   "outputs": [
    {
     "name": "stdout",
     "output_type": "stream",
     "text": [
      "Connecting via ssh\n",
      "Executing command \n",
      "command executed\n",
      "0\n",
      "b'\\r\\n\\r\\x1b[100B\\r\\n\\t\\t \\r\\n\\t\\t    Virtual Connect SE 40Gb F8 Module for Synergy\\r\\n\\t\\tType \"show system acknowledgement\" to see the licenses\\r\\n\\t\\tfor the open source software used by this product.\\r\\n\\t\\t \\r\\n\\r\\n\\rOneView# \\r\\nIdle Timer expired, Timing Out !!!\\n\\x1b[27m\\r                       \\rConnection closed by foreign host\\r\\n\\r\\nEntering character mode\\r\\nEscape character is \\'^]\\'.\\r\\n'\n",
      "command executed\n"
     ]
    }
   ],
   "source": [
    "client = paramiko.SSHClient()\n",
    "client.set_missing_host_key_policy(paramiko.AutoAddPolicy())\n",
    "\n",
    "# https://github.com/paramiko/paramiko/issues/1386\n",
    "import warnings\n",
    "warnings.filterwarnings(action='ignore',module='.*paramiko.*')\n",
    "\n",
    "# Make connection and create shell.\n",
    "print(\"Connecting via ssh\")\n",
    "try:\n",
    "    client.connect(\"10.10.20.141\", 22, 'netop', \"netoppwd\")\n",
    "    #client.connect(\"10.0.2.15\", 22, 'frta', \"frippe75\")\n",
    "    #shell = client.invoke_shell()\n",
    "except Exception as e:\n",
    "    print('Connection Failed')\n",
    "    print(e)\n",
    "\n",
    "# Execute command and get results.\n",
    "print(\"Executing command \")\n",
    "_, stdout, stderr = client.exec_command(\"show serial-number\")\n",
    "_, stdout, stderr = client.exec_command(\"show serial-number\")\n",
    "print(\"command executed\")\n",
    "print(len(stdout.channel.in_buffer))\n",
    "stdout_str = (stdout.channel.recv(len(stdout.channel.in_buffer)))\n",
    "#exit_status = stdout.channel.recv_exit_status()\n",
    "print(stdout.read())\n",
    "_, stdout, stderr = client.exec_command(\"show serial-number; exit\")\n",
    "print(\"command executed\")\n",
    "#for line in stdout.readlines():\n",
    "#    print(line)\n",
    "#data = self._read_command_output(stdout, stderr, 'both')"
   ]
  },
  {
   "cell_type": "code",
   "execution_count": 4,
   "metadata": {},
   "outputs": [
    {
     "name": "stdout",
     "output_type": "stream",
     "text": [
      "Going to add the netop user on the interconnect with uri /rest/interconnects/1385b2a6-9c01-4577-b841-c8e4dbf7b16c\n",
      "Ip address of the VC module is: 10.10.20.141\n",
      "Connecting via ssh to run \"show serial-number\"\n"
     ]
    },
    {
     "name": "stderr",
     "output_type": "stream",
     "text": [
      "Exception: Error reading SSH protocol banner[Errno 104] Connection reset by peer\n",
      "Traceback (most recent call last):\n",
      "  File \"/opt/conda/lib/python3.7/site-packages/paramiko/transport.py\", line 2138, in _check_banner\n",
      "    buf = self.packetizer.readline(timeout)\n",
      "  File \"/opt/conda/lib/python3.7/site-packages/paramiko/packet.py\", line 367, in readline\n",
      "    buf += self._read_timeout(timeout)\n",
      "  File \"/opt/conda/lib/python3.7/site-packages/paramiko/packet.py\", line 561, in _read_timeout\n",
      "    x = self.__socket.recv(128)\n",
      "ConnectionResetError: [Errno 104] Connection reset by peer\n",
      "\n",
      "During handling of the above exception, another exception occurred:\n",
      "\n",
      "Traceback (most recent call last):\n",
      "  File \"/opt/conda/lib/python3.7/site-packages/paramiko/transport.py\", line 1966, in run\n",
      "    self._check_banner()\n",
      "  File \"/opt/conda/lib/python3.7/site-packages/paramiko/transport.py\", line 2143, in _check_banner\n",
      "    \"Error reading SSH protocol banner\" + str(e)\n",
      "paramiko.ssh_exception.SSHException: Error reading SSH protocol banner[Errno 104] Connection reset by peer\n",
      "\n"
     ]
    },
    {
     "name": "stdout",
     "output_type": "stream",
     "text": [
      "Connection Failed\n",
      "Error reading SSH protocol banner[Errno 104] Connection reset by peer\n",
      "Executing command \"show serial-number\"\n"
     ]
    },
    {
     "ename": "SSHException",
     "evalue": "SSH session not active",
     "output_type": "error",
     "traceback": [
      "\u001b[0;31m---------------------------------------------------------------------------\u001b[0m",
      "\u001b[0;31mSSHException\u001b[0m                              Traceback (most recent call last)",
      "\u001b[0;32m<ipython-input-4-92ed18edd0bd>\u001b[0m in \u001b[0;36m<module>\u001b[0;34m\u001b[0m\n\u001b[1;32m     36\u001b[0m                 \u001b[0;31m# Execute command and get results.\u001b[0m\u001b[0;34m\u001b[0m\u001b[0;34m\u001b[0m\u001b[0;34m\u001b[0m\u001b[0m\n\u001b[1;32m     37\u001b[0m                 \u001b[0mprint\u001b[0m\u001b[0;34m(\u001b[0m\u001b[0;34m\"Executing command \"\u001b[0m \u001b[0;34m+\u001b[0m \u001b[0mssh_cmd\u001b[0m\u001b[0;34m)\u001b[0m\u001b[0;34m\u001b[0m\u001b[0;34m\u001b[0m\u001b[0m\n\u001b[0;32m---> 38\u001b[0;31m                 \u001b[0m_\u001b[0m\u001b[0;34m,\u001b[0m \u001b[0mstdout\u001b[0m\u001b[0;34m,\u001b[0m \u001b[0mstderr\u001b[0m \u001b[0;34m=\u001b[0m \u001b[0mclient\u001b[0m\u001b[0;34m.\u001b[0m\u001b[0mexec_command\u001b[0m\u001b[0;34m(\u001b[0m\u001b[0mssh_cmd\u001b[0m\u001b[0;34m)\u001b[0m\u001b[0;34m\u001b[0m\u001b[0;34m\u001b[0m\u001b[0m\n\u001b[0m\u001b[1;32m     39\u001b[0m                 \u001b[0;32mfor\u001b[0m \u001b[0mline\u001b[0m \u001b[0;32min\u001b[0m \u001b[0mstdout\u001b[0m\u001b[0;34m.\u001b[0m\u001b[0mreadlines\u001b[0m\u001b[0;34m(\u001b[0m\u001b[0;34m)\u001b[0m\u001b[0;34m:\u001b[0m\u001b[0;34m\u001b[0m\u001b[0;34m\u001b[0m\u001b[0m\n\u001b[1;32m     40\u001b[0m                     \u001b[0mprint\u001b[0m\u001b[0;34m(\u001b[0m\u001b[0mline\u001b[0m\u001b[0;34m)\u001b[0m\u001b[0;34m\u001b[0m\u001b[0;34m\u001b[0m\u001b[0m\n",
      "\u001b[0;32m/opt/conda/lib/python3.7/site-packages/paramiko/client.py\u001b[0m in \u001b[0;36mexec_command\u001b[0;34m(self, command, bufsize, timeout, get_pty, environment)\u001b[0m\n\u001b[1;32m    491\u001b[0m         \u001b[0;34m:\u001b[0m\u001b[0mraises\u001b[0m\u001b[0;34m:\u001b[0m\u001b[0;31m \u001b[0m\u001b[0;31m`\u001b[0m\u001b[0;34m.\u001b[0m\u001b[0mSSHException\u001b[0m\u001b[0;31m`\u001b[0m \u001b[0;34m-\u001b[0m\u001b[0;34m-\u001b[0m \u001b[0;32mif\u001b[0m \u001b[0mthe\u001b[0m \u001b[0mserver\u001b[0m \u001b[0mfails\u001b[0m \u001b[0mto\u001b[0m \u001b[0mexecute\u001b[0m \u001b[0mthe\u001b[0m \u001b[0mcommand\u001b[0m\u001b[0;34m\u001b[0m\u001b[0;34m\u001b[0m\u001b[0m\n\u001b[1;32m    492\u001b[0m         \"\"\"\n\u001b[0;32m--> 493\u001b[0;31m         \u001b[0mchan\u001b[0m \u001b[0;34m=\u001b[0m \u001b[0mself\u001b[0m\u001b[0;34m.\u001b[0m\u001b[0m_transport\u001b[0m\u001b[0;34m.\u001b[0m\u001b[0mopen_session\u001b[0m\u001b[0;34m(\u001b[0m\u001b[0mtimeout\u001b[0m\u001b[0;34m=\u001b[0m\u001b[0mtimeout\u001b[0m\u001b[0;34m)\u001b[0m\u001b[0;34m\u001b[0m\u001b[0;34m\u001b[0m\u001b[0m\n\u001b[0m\u001b[1;32m    494\u001b[0m         \u001b[0;32mif\u001b[0m \u001b[0mget_pty\u001b[0m\u001b[0;34m:\u001b[0m\u001b[0;34m\u001b[0m\u001b[0;34m\u001b[0m\u001b[0m\n\u001b[1;32m    495\u001b[0m             \u001b[0mchan\u001b[0m\u001b[0;34m.\u001b[0m\u001b[0mget_pty\u001b[0m\u001b[0;34m(\u001b[0m\u001b[0;34m)\u001b[0m\u001b[0;34m\u001b[0m\u001b[0;34m\u001b[0m\u001b[0m\n",
      "\u001b[0;32m/opt/conda/lib/python3.7/site-packages/paramiko/transport.py\u001b[0m in \u001b[0;36mopen_session\u001b[0;34m(self, window_size, max_packet_size, timeout)\u001b[0m\n\u001b[1;32m    804\u001b[0m             \u001b[0mwindow_size\u001b[0m\u001b[0;34m=\u001b[0m\u001b[0mwindow_size\u001b[0m\u001b[0;34m,\u001b[0m\u001b[0;34m\u001b[0m\u001b[0;34m\u001b[0m\u001b[0m\n\u001b[1;32m    805\u001b[0m             \u001b[0mmax_packet_size\u001b[0m\u001b[0;34m=\u001b[0m\u001b[0mmax_packet_size\u001b[0m\u001b[0;34m,\u001b[0m\u001b[0;34m\u001b[0m\u001b[0;34m\u001b[0m\u001b[0m\n\u001b[0;32m--> 806\u001b[0;31m             \u001b[0mtimeout\u001b[0m\u001b[0;34m=\u001b[0m\u001b[0mtimeout\u001b[0m\u001b[0;34m,\u001b[0m\u001b[0;34m\u001b[0m\u001b[0;34m\u001b[0m\u001b[0m\n\u001b[0m\u001b[1;32m    807\u001b[0m         )\n\u001b[1;32m    808\u001b[0m \u001b[0;34m\u001b[0m\u001b[0m\n",
      "\u001b[0;32m/opt/conda/lib/python3.7/site-packages/paramiko/transport.py\u001b[0m in \u001b[0;36mopen_channel\u001b[0;34m(self, kind, dest_addr, src_addr, window_size, max_packet_size, timeout)\u001b[0m\n\u001b[1;32m    894\u001b[0m         \"\"\"\n\u001b[1;32m    895\u001b[0m         \u001b[0;32mif\u001b[0m \u001b[0;32mnot\u001b[0m \u001b[0mself\u001b[0m\u001b[0;34m.\u001b[0m\u001b[0mactive\u001b[0m\u001b[0;34m:\u001b[0m\u001b[0;34m\u001b[0m\u001b[0;34m\u001b[0m\u001b[0m\n\u001b[0;32m--> 896\u001b[0;31m             \u001b[0;32mraise\u001b[0m \u001b[0mSSHException\u001b[0m\u001b[0;34m(\u001b[0m\u001b[0;34m\"SSH session not active\"\u001b[0m\u001b[0;34m)\u001b[0m\u001b[0;34m\u001b[0m\u001b[0;34m\u001b[0m\u001b[0m\n\u001b[0m\u001b[1;32m    897\u001b[0m         \u001b[0mtimeout\u001b[0m \u001b[0;34m=\u001b[0m \u001b[0;36m3600\u001b[0m \u001b[0;32mif\u001b[0m \u001b[0mtimeout\u001b[0m \u001b[0;32mis\u001b[0m \u001b[0;32mNone\u001b[0m \u001b[0;32melse\u001b[0m \u001b[0mtimeout\u001b[0m\u001b[0;34m\u001b[0m\u001b[0;34m\u001b[0m\u001b[0m\n\u001b[1;32m    898\u001b[0m         \u001b[0mself\u001b[0m\u001b[0;34m.\u001b[0m\u001b[0mlock\u001b[0m\u001b[0;34m.\u001b[0m\u001b[0macquire\u001b[0m\u001b[0;34m(\u001b[0m\u001b[0;34m)\u001b[0m\u001b[0;34m\u001b[0m\u001b[0;34m\u001b[0m\u001b[0m\n",
      "\u001b[0;31mSSHException\u001b[0m: SSH session not active"
     ]
    }
   ],
   "source": [
    "# set the password\n",
    "netop_pwd = 'netoppwd'\n",
    "ssh_cmd = '\"show serial-number\"'\n",
    "\n",
    "# https://github.com/paramiko/paramiko/issues/1386\n",
    "import warnings\n",
    "warnings.filterwarnings(action='ignore',module='.*paramiko.*')\n",
    "    \n",
    "# loop over all VC40F8 modules\n",
    "ics = ov.interconnects.get_all()\n",
    "for ic in ics:\n",
    "    if ic['model'] == \"Virtual Connect SE 40Gb F8 Module for Synergy\":\n",
    "        print(\"Going to add the netop user on the interconnect with uri \" + ic['uri'])\n",
    "        #print(ic['uri'])\n",
    "        updated_interconnect = ov.interconnects.patch(ic['uri'],\n",
    "                                                        'replace',\n",
    "                                                        '/netOpPasswd',\n",
    "                                                        netop_pwd)\n",
    "        for ip in ic['ipAddressList']:\n",
    "            if ip['ipAddressType'] == 'Ipv4Static': \n",
    "                ipv4 = ip['ipAddress']\n",
    "                \n",
    "                print(\"Ip address of the VC module is: \" + ipv4)\n",
    "                client = paramiko.SSHClient()\n",
    "                client.set_missing_host_key_policy(paramiko.AutoAddPolicy())\n",
    "\n",
    "                # Make connection and create shell.\n",
    "                print(\"Connecting via ssh to run \" + ssh_cmd + \"\")\n",
    "                try:\n",
    "                    client.connect(ipv4, 22, 'netop', netop_pwd)\n",
    "                    #shell = client.invoke_shell()\n",
    "                except Exception as e:\n",
    "                    print('Connection Failed')\n",
    "                    print(e)\n",
    "\n",
    "                # Execute command and get results.\n",
    "                print(\"Executing command \" + ssh_cmd)\n",
    "                _, stdout, stderr = client.exec_command(ssh_cmd)\n",
    "                for line in stdout.readlines():\n",
    "                    print(line)\n",
    "                #data = self._read_command_output(stdout, stderr, 'both')\n",
    "\n",
    "                # Close connection.\n",
    "                #shell.close()\n",
    "                client.close()\n"
   ]
  },
  {
   "cell_type": "markdown",
   "metadata": {},
   "source": [
    "<br><br>\n",
    "## Server Profile Templates <a name=\"SPT\"></a>"
   ]
  },
  {
   "cell_type": "markdown",
   "metadata": {},
   "source": [
    "### Delete ALL existing Server Profile Templates <a name=\"SPT-delete\"></a>"
   ]
  },
  {
   "cell_type": "markdown",
   "metadata": {},
   "source": [
    "WARNING: Will delete ALL profiles templates unconditionally!"
   ]
  },
  {
   "cell_type": "code",
   "execution_count": null,
   "metadata": {},
   "outputs": [],
   "source": [
    "# get a list of all the spts\n",
    "spts = ov.server_profile_templates.get_all()\n",
    "\n",
    "# delete them one-by-one\n",
    "for spt in spts: \n",
    "  print(\"Deleting the Server Profile Template: \" + spt['name'] )\n",
    "  ov.server_profile_templates.delete(spt)\n"
   ]
  },
  {
   "cell_type": "markdown",
   "metadata": {},
   "source": [
    "<br><br>\n",
    "## Server Profiles <a name=\"SP\"></a>"
   ]
  },
  {
   "cell_type": "markdown",
   "metadata": {},
   "source": [
    "### Delete ALL existing Server Profiles <a name=\"SP-delete\"></a>"
   ]
  },
  {
   "cell_type": "markdown",
   "metadata": {},
   "source": [
    "WARNING: Will delete ALL profiles unconditionally!"
   ]
  },
  {
   "cell_type": "code",
   "execution_count": null,
   "metadata": {},
   "outputs": [],
   "source": [
    "# get a list of all the sp's\n",
    "sps = ov.server_profiles.get_all()\n",
    "\n",
    "# delete them one-by-one\n",
    "for sp in sps: \n",
    "  print(\"Deleting the Server Profile: \" + sp['name'] )\n",
    "  ov.server_profiles.delete(sp)\n"
   ]
  },
  {
   "cell_type": "markdown",
   "metadata": {},
   "source": [
    "### Power on/off  ALL existing Server Profiles <a name=\"SP-power\"></a>\n",
    "Function power_off_profile is a helper function since it will be used for both powering off all servers as well as for the server profile mobility use case."
   ]
  },
  {
   "cell_type": "code",
   "execution_count": 29,
   "metadata": {
    "code_folding": []
   },
   "outputs": [],
   "source": [
    "# takes a server profile and a 'On' or 'Off' for new_state as input \n",
    "def change_profile_power(sp, new_state):\n",
    "    configuration = {\n",
    "            \"powerState\": new_state,\n",
    "            \"powerControl\": \"MomentaryPress\"\n",
    "    }\n",
    "    # print them nicely\n",
    "    # pprint(sp)\n",
    "    sp_uri = sp['serverHardwareUri']\n",
    "    sp_name = sp['name']\n",
    "    # remember some profiles be unassigned. i.e they dont have a hardware uri\n",
    "    if sp_uri is not None:\n",
    "      print(\"Powering \" + new_state + \" the Server Profile: \" + sp_name + \" using ServerHardwareUri \" +  sp_uri ) \n",
    "      try:\n",
    "          ov.server_hardware.update_power_state(configuration,  sp_uri)\n",
    "          print(\"Successfully changed the power state of '\" + sp_name + \"' to \" + configuration['powerState'])\n",
    "      except HPOneViewException as e:\n",
    "          print(e.msg)\n",
    "    else:\n",
    "      print(\"Server Profile: \" + sp_name + \" is unassigned\")"
   ]
  },
  {
   "cell_type": "markdown",
   "metadata": {},
   "source": [
    "**Warning:** Will power on or off all profiles depending on the new_state variable.<br>\n",
    "The actual command is commented out for safety reasons."
   ]
  },
  {
   "cell_type": "code",
   "execution_count": 28,
   "metadata": {},
   "outputs": [
    {
     "name": "stdout",
     "output_type": "stream",
     "text": [
      "Powering On the Server Profile: CentOS-Golden using ServerHardwareUri /rest/server-hardware/36343537-3338-4E43-3736-303230355A46\n",
      "Successfully changed the power state of 'CentOS-Golden' to On\n",
      "Powering On the Server Profile: Syn-Cluster1 using ServerHardwareUri /rest/server-hardware/39313738-3534-5A43-4A38-343330373357\n",
      "Successfully changed the power state of 'Syn-Cluster1' to On\n",
      "Powering On the Server Profile: Syn-Cluster2 using ServerHardwareUri /rest/server-hardware/39313738-3534-5A43-4A38-343330373356\n",
      "Successfully changed the power state of 'Syn-Cluster2' to On\n"
     ]
    }
   ],
   "source": [
    "# what powerstate to achieve\n",
    "new_state = \"On\" # it's either \"On\" or \"Off\"\n",
    "\n",
    "# get a list of all the sp's\n",
    "sps = ov.server_profiles.get_all()\n",
    "\n",
    "# power them OFF them one-by-one\n",
    "for sp in sps: \n",
    "    # change_profile_power(sp, new_state)\n",
    "      "
   ]
  },
  {
   "cell_type": "code",
   "execution_count": 18,
   "metadata": {},
   "outputs": [
    {
     "data": {
      "application/javascript": [
       "Jupyter.notebook.execute_cells(IPython.notebook.get_selected_index()-1)"
      ],
      "text/plain": [
       "<IPython.core.display.Javascript object>"
      ]
     },
     "execution_count": 18,
     "metadata": {},
     "output_type": "execute_result"
    }
   ],
   "source": [
    "# trick to run the cell above via code. To included a needed function for instance\n",
    "Javascript(\"Jupyter.notebook.execute_cells(IPython.notebook.get_selected_index()-1)\")"
   ]
  },
  {
   "cell_type": "markdown",
   "metadata": {},
   "source": [
    "### Server Profile Mobility <a name=\"SP-mobility\"></a>\n",
    "**Warning:** Will power off the profile depending on current state"
   ]
  },
  {
   "cell_type": "code",
   "execution_count": 39,
   "metadata": {},
   "outputs": [
    {
     "name": "stdout",
     "output_type": "stream",
     "text": [
      "Profile CentOS-Golden is currently assigned will unassign it.\n",
      "Powering Off the Server Profile: CentOS-Golden using ServerHardwareUri /rest/server-hardware/36343537-3338-4E43-3736-303230383036\n",
      "Successfully changed the power state of 'CentOS-Golden' to Off\n",
      "Assigning profile CentOS-Golden to hardware HPEDemo-POCframe01, bay 3\n"
     ]
    }
   ],
   "source": [
    "# Move profile CentOs-Golden from existing hardware to new_server\n",
    "sp_name = 'CentOS-Golden'\n",
    "new_server = 'HPEDemo-POCframe01, bay 3'\n",
    "force_power_off = True\n",
    "\n",
    "sp = ov.server_profiles.get_by_name(sp_name)\n",
    "# check that the profile is currently assigned\n",
    "if sp['serverHardwareUri'] is not None:\n",
    "    print(\"Profile \" + sp_name + \" is currently assigned will unassign it.\")\n",
    "    if force_power_off:\n",
    "        change_profile_power(sp,\"Off\")\n",
    "        #pprint(profile)\n",
    "    sp['serverHardwareUri'] = None # unassign\n",
    "    sp = ov.server_profiles.update(resource=sp, id_or_uri=sp[\"uri\"])\n",
    "    \n",
    "server = ov.server_hardware.get_by('name', new_server)[0]\n",
    "# pprint(server)\n",
    "if server['serverProfileUri'] is None:\n",
    "    print(\"Assigning profile \" + sp_name + \" to hardware \" + new_server)\n",
    "    sp['serverHardwareUri'] = server['uri'] # assign\n",
    "    sp = ov.server_profiles.update(resource=sp, id_or_uri=sp[\"uri\"])\n",
    "else:\n",
    "    print(\"Server hardware \" + new_server + \" is already assigned to profile\")"
   ]
  },
  {
   "cell_type": "markdown",
   "metadata": {},
   "source": [
    "<br><br>\n",
    "## Volumes <a name=\"Volumes\"></a>"
   ]
  },
  {
   "cell_type": "markdown",
   "metadata": {},
   "source": [
    "### Delete all Volumes <a name=\"Volume-deleteall\"></a><br>\n",
    "**WARNING**: This really deletes all volumes, actual command commented out."
   ]
  },
  {
   "cell_type": "code",
   "execution_count": null,
   "metadata": {},
   "outputs": [],
   "source": [
    "# get a list of all the storage templates\n",
    "volumes = ov.volumes.get_all()\n",
    "# pprint(volumes)\n",
    "\n",
    "# delete them one-by-one\n",
    "for volume in volumes: \n",
    "  print(\"Deleting the Volume: \" + volume['name'] )\n",
    "  # ov.volumes.delete(volume)"
   ]
  },
  {
   "cell_type": "markdown",
   "metadata": {},
   "source": [
    "<br><br>\n",
    "## Volume Templates <a name=\"VolumeTemplate\"></a>"
   ]
  },
  {
   "cell_type": "markdown",
   "metadata": {},
   "source": [
    "### Delete all Volume Templates <a name=\"VolumeTemplate-deleteall\"></a><br>"
   ]
  },
  {
   "cell_type": "code",
   "execution_count": null,
   "metadata": {},
   "outputs": [],
   "source": [
    "# get a list of all the storage templates\n",
    "vol_temps = ov.storage_volume_templates.get_all()\n",
    "\n",
    "# delete them one-by-one\n",
    "for vol_temp in vol_temps: \n",
    "  print(\"Deleting the Volume Template: \" + vol_temp['name'] )\n",
    "  # ov.storage_volume_templates.delete(vol_temp)"
   ]
  },
  {
   "cell_type": "markdown",
   "metadata": {},
   "source": [
    "<br><br>\n",
    "## Logical Interconnect Groups <a name=\"LIG\"></a>"
   ]
  },
  {
   "cell_type": "markdown",
   "metadata": {},
   "source": [
    "### Add a network to an existing LIGs uplinkset <a name=\"LIG-uplink-network\"></a><br>"
   ]
  },
  {
   "cell_type": "code",
   "execution_count": null,
   "metadata": {},
   "outputs": [],
   "source": [
    "lig_name = \"VC-LIG01\"\n",
    "lig_uplink_name = \"Test\"\n",
    "eth_name = \"VLAN400_10.2\"\n",
    "\n",
    "# Get the network\n",
    "eth = ov.ethernet_networks.get_by('name', eth_name)[0]\n",
    "\n",
    "# Get Logical Interconnect Group by property\n",
    "lig = ov.logical_interconnect_groups.get_by('name', lig_name)[0]\n",
    "\n",
    "lig_uplinksets = lig['uplinkSets']\n",
    "for uplinkset in lig_uplinksets:\n",
    "    #pprint(uplinkset)\n",
    "    if uplinkset['name'] == lig_uplink_name:\n",
    "        uplinkset['networkUris'].append(eth['uri'])\n",
    "        ov.logical_interconnect_groups.update(lig)\n",
    "    else:\n",
    "        print(\"Could not find the uplinkset (by_name)\")     \n",
    "\n",
    "\"\"\"   \n",
    "# Get an uplink set resource by name\n",
    "print(\"\\nGet uplink set by name\")\n",
    "uplink_set = ov.uplink_sets.get_by('name', 'Test')\n",
    "pprint(uplink_set)\n",
    "\n",
    "# Add an ethernet network to the uplink set\n",
    "# To run this example you must define an ethernet network uri or ID below\n",
    "ethernet_network_id = None\n",
    "if ethernet_network_id:\n",
    "    print(\"\\nAdd an ethernet network to the uplink set\")\n",
    "    uplink_set = ov.uplink_sets.add_ethernet_networks(created_uplink_set['uri'], ethernet_network_id)\n",
    "    print(\"The uplink set with name = '{name}' have now the networkUris:\\n {networkUris}\".format(**uplink_set))\n",
    "\n",
    "\"\"\""
   ]
  },
  {
   "cell_type": "markdown",
   "metadata": {},
   "source": [
    "<br><br>\n",
    "## Appliances <a name=\"Appliances\"></a>"
   ]
  },
  {
   "cell_type": "markdown",
   "metadata": {},
   "source": [
    "### eFuse an Appliance in bay 1/2 example <a name=\"Appliance-efuse\"></a><br>\n",
    "Table from 4.1 API spec on how to target different resources within the enclosure.<br>\n",
    "http://h17007.www1.hpe.com/docs/enterprise/servers/oneview4.1/cic-api/en/index.html#rest/enclosures\n",
    "<img src=\"images/EnclosurePatchTable.PNG\" height=\"600\" width=\"800\" align=\"left\">"
   ]
  },
  {
   "cell_type": "code",
   "execution_count": null,
   "metadata": {},
   "outputs": [],
   "source": [
    "# WARNINIG: Make sure you target the correct enclosure as well as the operation you want! Pay attention to the table above\n",
    "#           The actual patch request is commented out below for safety.\n",
    "#           This is not something you normally do, only on request from support\n",
    "\n",
    "enc_name = \"HPEDemo-POCframe01\"\n",
    "\n",
    "# Get the Enclosure\n",
    "efuse_enc = ov.enclosures.get_by('name', enc_name)\n",
    "\n",
    "# If needed pretty print the entire JSON \n",
    "#pprint (efuse_enc)\n",
    "\n",
    "# Grab the first enclosure uri\n",
    "enc_uri = efuse_enc[0]['uri']\n",
    "\n",
    "# Setup your patch request\n",
    "patch_op = \"replace\"\n",
    "#patch_path = \"/applianceBays/1/bayPowerState\"  # In a single POC frame this would be the Composer i.e Bay1\n",
    "patch_path = \"/applianceBays/2/bayPowerState\"   # In a single POC frame this would be the Image Streamer i.e Bay2\n",
    "patch_value = \"E-Fuse\" # Not the same for all paths\n",
    "\n",
    "print(\"Request a PATCH on resource \" + enc_uri + \" using \" + \"op=\" + patch_op + \" path=\" + patch_path + \" val=\" + patch_value)\n",
    "#patched_end = ov.enclosures.patch(enc_uri, patch_op, patch_path, patch_value)\n"
   ]
  },
  {
   "cell_type": "markdown",
   "metadata": {},
   "source": [
    "<br><br>\n",
    "### eFuse a compute module in bay6 in a particular frame <a name=\"Appliance-efuse-compute\"></a><br>"
   ]
  },
  {
   "cell_type": "code",
   "execution_count": null,
   "metadata": {},
   "outputs": [],
   "source": [
    "# WARNINIG: Make sure you target the correct enclosure as well as the operation you want! Pay attention to the table above\n",
    "#           The actual patch is commented out below for safety.\n",
    "#           This is not something you normally do, only on request from support\n",
    "\n",
    "enc_name = \"HPEDemo-POCframe01\"\n",
    "\n",
    "# Get the Enclosure\n",
    "efuse_enc = ov.enclosures.get_by('name', enc_name)\n",
    "\n",
    "# If needed pretty print the entire JSON \n",
    "#pprint (efuse_enc)\n",
    "\n",
    "# Grab the first enclosure uri\n",
    "enc_uri = efuse_enc[0]['uri']\n",
    "\n",
    "# Setup your patch request\n",
    "patch_op = \"replace\"\n",
    "patch_path = \"/deviceBays/6/bayPowerState\"   # In a single POC frame this would be the Computemodule in Bay6\n",
    "patch_value = \"E-Fuse\" # Not the same for all paths\n",
    "\n",
    "print(\"Request a PATCH on resource \" + enc_uri + \" using \" + \"op=\" + patch_op + \" path=\" + patch_path + \" val=\" + patch_value)\n",
    "#patched_end = ov.enclosures.patch(enc_uri, patch_op, patch_path, patch_value)"
   ]
  },
  {
   "cell_type": "code",
   "execution_count": null,
   "metadata": {},
   "outputs": [],
   "source": []
  }
 ],
 "metadata": {
  "kernelspec": {
   "display_name": "Python 3",
   "language": "python",
   "name": "python3"
  },
  "language_info": {
   "codemirror_mode": {
    "name": "ipython",
    "version": 3
   },
   "file_extension": ".py",
   "mimetype": "text/x-python",
   "name": "python",
   "nbconvert_exporter": "python",
   "pygments_lexer": "ipython3",
   "version": "3.7.2"
  }
 },
 "nbformat": 4,
 "nbformat_minor": 2
}

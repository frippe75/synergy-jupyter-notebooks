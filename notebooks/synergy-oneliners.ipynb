{
 "cells": [
  {
   "cell_type": "markdown",
   "metadata": {},
   "source": [
    "# Welcome to the Synergy Oneliners\n",
    "Created by Fredrik Tärnell - 2019-02-20<br>\n",
    "\n",
    "This notebook contains useful oneliners for particular occations.<br>\n",
    "**Don't use them without fully understanding them**.<br> Some will wipe resources away no questions asked.\n",
    "\n",
    "Jupyter Notebooks can be found: https://github.com/frippe75/synergy-jupyter-notebooks<br>\n",
    "Together with a Docker image with all dependencies inluded and a quickstart guide.\n",
    "\n",
    "\n",
    "### API information\n",
    "\n",
    "http://h17007.www1.hpe.com/docs/enterprise/servers/oneview4.1/cic-api/en/index.html <br>\n",
    "\n",
    "\n",
    "\n",
    "### Python specific\n",
    "https://hewlettpackard.github.io/python-hpOneView/index.html<br>\n",
    "https://github.com/HewlettPackard/python-hpOneView<br>\n",
    "\n",
    "<br>\n",
    "\n",
    "## Table of content\n",
    "\n",
    "- **[Networks](#Network)**<br>\n",
    "   + [List all networks](#Network-show)<br>\n",
    "   + [Create a single network](#Network-create)<br>\n",
    "   + [Delete a single network](#Network-delete)<br>\n",
    "   + [Create multiple networks](#Network-bulk-create)<br>\n",
    "   + [Delete multiple networks](#Network-bulk-delete)<br>\n",
    "   + [Delete ALL networks](#Network-delete-all)<br>\n",
    "   + [Create the netop user](#Netop)<br>\n",
    "- **[Server Profiles](#SP)**<br>\n",
    "   + [Power On/Off all Profiles](#SP-power)<br>\n",
    "   + [Delete all Profiles](#SP-delete)<br>\n",
    "- **[Server Profiles Templates](#SPT)**<br>\n",
    "   + [Delete all Profiles Templates](#SPT-delete)<br>\n",
    "- **[Volume Templates](#VolumeTemplates)**<br>\n",
    "   + [Delete all volume templates](#VolumeTemplates-deleteall)<br>\n",
    "- **[Volumes](#Volumes)**<br>\n",
    "   + [Delete all volumes](#Volume-deleteall)<br>\n",
    "- **[Appliances](#Appliances)**<br>\n",
    "   + [eFuse Composer / Image Streamer](#Appliance-efuse)<br>\n",
    "   + [eFuse Compute module](#Appliance-efuse-compute)<br>\n",
    "<br><br>\n",
    "# First section - Simple tasks via Python\n"
   ]
  },
  {
   "cell_type": "markdown",
   "metadata": {},
   "source": [
    "\n",
    "### Import the python OneView library with some additional dependencies for this playbook"
   ]
  },
  {
   "cell_type": "code",
   "execution_count": 1,
   "metadata": {
    "code_folding": [
     7
    ]
   },
   "outputs": [],
   "source": [
    "from hpOneView.oneview_client import OneViewClient\n",
    "import pandas\n",
    "from IPython.display import display, Markdown\n",
    "from pprint import pprint\n",
    "\n",
    "# Simple helper function to make nicer tables using markdown and the pandas lib\n",
    "# TODO: get it into helper module that gets imported above \n",
    "def my_table(source=dict(), resource=\"Resource\", columns='name'):\n",
    "    data = pandas.DataFrame.from_dict(source)\n",
    "    table = data.to_html(index=False,header=True,columns=columns)\n",
    "    \n",
    "    display(Markdown('### ' + resource + ' in Synergy Composer at https://' + config['ip']))\n",
    "    display(Markdown(table))"
   ]
  },
  {
   "cell_type": "markdown",
   "metadata": {},
   "source": [
    "### Configure your environment"
   ]
  },
  {
   "cell_type": "code",
   "execution_count": 2,
   "metadata": {},
   "outputs": [
    {
     "name": "stdout",
     "output_type": "stream",
     "text": [
      "{'api_version': '1000',\n",
      " 'credentials': {'authLoginDomain': 'local',\n",
      "                 'password': 'HP3!nv3nt',\n",
      "                 'userName': 'Administrator'},\n",
      " 'ip': '10.10.21.110'}\n"
     ]
    }
   ],
   "source": [
    "#composer_ip = \"syn420-dcs.hpedemo.local\"\n",
    "composer_ip = \"10.10.21.110\"\n",
    "\n",
    "config = {\n",
    "    \"api_version\": \"1000\",\n",
    "    \"ip\": composer_ip,\n",
    "    \"credentials\": {\n",
    "        \"userName\": \"Administrator\",\n",
    "        \"authLoginDomain\": \"local\",\n",
    "        \"password\": 'HP3!nv3nt'\n",
    "    }\n",
    "}\n",
    "pprint(config)"
   ]
  },
  {
   "cell_type": "markdown",
   "metadata": {},
   "source": [
    "<br><br>\n",
    "## Login against the Appliance / Composer instance:\n",
    "create new object \"ov\" with the config (see above) using the JSON config dict above"
   ]
  },
  {
   "cell_type": "code",
   "execution_count": 3,
   "metadata": {
    "scrolled": true
   },
   "outputs": [
    {
     "name": "stdout",
     "output_type": "stream",
     "text": [
      "\n",
      "Logged in against 10.10.21.110 successfully\n",
      "\n"
     ]
    }
   ],
   "source": [
    "try:\n",
    "    ov = OneViewClient(config)\n",
    "    print(\"\\nLogged in against \" + config['ip'] + \" successfully\\n\")\n",
    "except HPOneViewException as e:\n",
    "    print(\"\\nLogged in failed:\")\n",
    "    print(e.msg)"
   ]
  },
  {
   "cell_type": "markdown",
   "metadata": {},
   "source": [
    "<br><br>\n",
    "# Networking  <a name=\"Network\"></a>\n",
    "## Show existing networks  <a name=\"Network-show\"></a>\n",
    "This example uses Pandas dataframe to create the HTML table<br>\n",
    "https://pandas.pydata.org/pandas-docs/stable/reference/api/pandas.DataFrame.to_html.html?highlight=to_html#pandas.DataFrame.to_html\n"
   ]
  },
  {
   "cell_type": "code",
   "execution_count": null,
   "metadata": {},
   "outputs": [],
   "source": [
    "poc_networks = ov.ethernet_networks.get_all()\n",
    "\n",
    "#print(poc_networks)\n",
    "\n",
    "if poc_networks:\n",
    "    my_table(poc_networks, resource=\"Subnets\", columns=['name','description','vlanId','uri','purpose'])\n"
   ]
  },
  {
   "cell_type": "markdown",
   "metadata": {},
   "source": [
    "<br><br>\n",
    "## Create a network  <a name=\"Network-create\"></a>"
   ]
  },
  {
   "cell_type": "code",
   "execution_count": null,
   "metadata": {},
   "outputs": [],
   "source": [
    "options = {\n",
    "    \"name\": \"New network\",\n",
    "    \"vlanId\": 3000,\n",
    "    \"ethernetNetworkType\": \"Tagged\",\n",
    "    \"purpose\": \"General\",\n",
    "    \"smartLink\": False,\n",
    "    \"privateNetwork\": False,\n",
    "    \"type\" : \"ethernet-networkV4\",\n",
    "    \"connectionTemplateUri\": None\n",
    "}\n",
    "\n",
    "ethernet_network = ov.ethernet_networks.create(options)\n",
    "print(\"Created ethernet-network \" + ethernet_network['name'] + \"   URI: \" + ethernet_network['uri'] + \"\\nsuccessfully.\")"
   ]
  },
  {
   "cell_type": "markdown",
   "metadata": {},
   "source": [
    "<br><br>\n",
    "## Delete a network  <a name=\"Network-delete\"></a>"
   ]
  },
  {
   "cell_type": "code",
   "execution_count": null,
   "metadata": {},
   "outputs": [],
   "source": [
    "ov.ethernet_networks.delete(ethernet_network)\n",
    "print(\"Delete the network created above: \" + ethernet_network['name'])"
   ]
  },
  {
   "cell_type": "markdown",
   "metadata": {},
   "source": [
    "<br><br>\n",
    "## Create bulk networks <a name=\"Network-bulk-create\"></a>"
   ]
  },
  {
   "cell_type": "code",
   "execution_count": 12,
   "metadata": {},
   "outputs": [
    {
     "name": "stdout",
     "output_type": "stream",
     "text": [
      "created network: Net_11 URI: /rest/ethernet-networks/c5e06b30-38ce-4610-aba5-e87ee9be90bc\n",
      "created network: Net_12 URI: /rest/ethernet-networks/5d06575a-43d6-4a94-8880-1c0bb0f518c1\n",
      "created network: Net_13 URI: /rest/ethernet-networks/04587364-71bc-4123-825f-a1c63a972103\n",
      "created network: Net_14 URI: /rest/ethernet-networks/1ba54684-2385-4602-a8a7-64d77d03aa2f\n",
      "created network: Net_15 URI: /rest/ethernet-networks/a247beb9-218f-43c9-8704-e8352564aad9\n",
      "created network: Net_16 URI: /rest/ethernet-networks/9a696465-363a-4c36-b169-d58b8e7d2b00\n",
      "created network: Net_17 URI: /rest/ethernet-networks/aa27fcef-1fc3-4d9c-aa16-89eaaa9c59c2\n",
      "created network: Net_18 URI: /rest/ethernet-networks/98803094-1ddf-4b39-98ee-bc47b79fc444\n",
      "created network: Net_19 URI: /rest/ethernet-networks/374ec04d-822e-4fbb-9cb0-d1bfe73660fb\n",
      "created network: Net_20 URI: /rest/ethernet-networks/0af1a292-3e3a-4153-9663-065f70e7fa51\n"
     ]
    }
   ],
   "source": [
    "options_bulk = {\n",
    "    \"vlanIdRange\": \"11-20\",\n",
    "    \"purpose\": \"General\",\n",
    "    \"namePrefix\": \"Net\",\n",
    "    \"smartLink\": False,\n",
    "    \"privateNetwork\": False,\n",
    "    \"type\": \"bulk-ethernet-networkV1\",\n",
    "    \"bandwidth\": {\n",
    "        \"maximumBandwidth\": 10000,\n",
    "        \"typicalBandwidth\": 2000\n",
    "    }\n",
    "}\n",
    "\n",
    "# create the networks\n",
    "ethernet_nets_bulk = ov.ethernet_networks.create_bulk(options_bulk)\n",
    "\n",
    "# simply display whats exepected\n",
    "for net in ethernet_nets_bulk: \n",
    "  print(\"created network: \" + net['name'] + \" URI: \" + net['uri'])"
   ]
  },
  {
   "cell_type": "markdown",
   "metadata": {},
   "source": [
    "<br><br>\n",
    "## Delete the bulks network above  <a name=\"Network-bulk-delete\"></a>"
   ]
  },
  {
   "cell_type": "code",
   "execution_count": 5,
   "metadata": {},
   "outputs": [
    {
     "ename": "NameError",
     "evalue": "name 'ethernet_nets_bulk' is not defined",
     "output_type": "error",
     "traceback": [
      "\u001b[0;31m---------------------------------------------------------------------------\u001b[0m",
      "\u001b[0;31mNameError\u001b[0m                                 Traceback (most recent call last)",
      "\u001b[0;32m<ipython-input-5-715bca098ced>\u001b[0m in \u001b[0;36m<module>\u001b[0;34m\u001b[0m\n\u001b[0;32m----> 1\u001b[0;31m \u001b[0;32mfor\u001b[0m \u001b[0mnet\u001b[0m \u001b[0;32min\u001b[0m \u001b[0methernet_nets_bulk\u001b[0m\u001b[0;34m:\u001b[0m\u001b[0;34m\u001b[0m\u001b[0;34m\u001b[0m\u001b[0m\n\u001b[0m\u001b[1;32m      2\u001b[0m     \u001b[0mov\u001b[0m\u001b[0;34m.\u001b[0m\u001b[0methernet_networks\u001b[0m\u001b[0;34m.\u001b[0m\u001b[0mdelete\u001b[0m\u001b[0;34m(\u001b[0m\u001b[0mnet\u001b[0m\u001b[0;34m)\u001b[0m\u001b[0;34m\u001b[0m\u001b[0;34m\u001b[0m\u001b[0m\n\u001b[1;32m      3\u001b[0m     \u001b[0mprint\u001b[0m\u001b[0;34m(\u001b[0m\u001b[0;34m\"delete network: \"\u001b[0m \u001b[0;34m+\u001b[0m \u001b[0mnet\u001b[0m\u001b[0;34m[\u001b[0m\u001b[0;34m'name'\u001b[0m\u001b[0;34m]\u001b[0m\u001b[0;34m)\u001b[0m\u001b[0;34m\u001b[0m\u001b[0;34m\u001b[0m\u001b[0m\n",
      "\u001b[0;31mNameError\u001b[0m: name 'ethernet_nets_bulk' is not defined"
     ]
    }
   ],
   "source": [
    "for net in ethernet_nets_bulk:\n",
    "    ov.ethernet_networks.delete(net)\n",
    "    print(\"delete network: \" + net['name'])"
   ]
  },
  {
   "cell_type": "markdown",
   "metadata": {},
   "source": [
    "<br><br>\n",
    "## Delete ALL networks in Oneview  <a name=\"Network-delete-all\"></a>\n",
    "This will **delete ALL networks off all types** so don't run unless you mean it!"
   ]
  },
  {
   "cell_type": "code",
   "execution_count": 11,
   "metadata": {},
   "outputs": [],
   "source": [
    "all_nets = ov.ethernet_networks.get_all()\n",
    "#pprint(all_nets)\n",
    "\n",
    "for net in all_nets:\n",
    "    # If the ov command below is commented out it's safe to give a try as a dry-run\n",
    "    ov.ethernet_networks.delete(net)\n",
    "    print(\"Deleting network: \" + net['name'])"
   ]
  },
  {
   "cell_type": "markdown",
   "metadata": {},
   "source": [
    "<br><br>\n",
    "## Create the netop user which was removed part of 4.2 release  <a name=\"Netop\"></a>\n"
   ]
  },
  {
   "cell_type": "code",
   "execution_count": 56,
   "metadata": {},
   "outputs": [
    {
     "name": "stdout",
     "output_type": "stream",
     "text": [
      "Going to add the netop user on the interconnect with uri /rest/interconnects/2f0f6513-9602-42cf-acc8-9832e7aaf437\n",
      "Going to add the netop user on the interconnect with uri /rest/interconnects/b2d4c3bb-aadc-408b-be98-1023bc2563de\n"
     ]
    }
   ],
   "source": [
    "\n",
    "ics = ov.interconnects.get_all()\n",
    "for ic in ics:\n",
    "    if ic['model'] == \"Virtual Connect SE 40Gb F8 Module for Synergy\":\n",
    "        print(\"Going to add the netop user on the interconnect with uri \" + ic['uri'])\n",
    "        #print(ic['uri'])\n",
    "        updated_interconnect = ov.interconnects.patch(ic['uri'],\n",
    "                                                        'replace',\n",
    "                                                        '/netOpPasswd',\n",
    "                                                        'netoppwd')\n",
    "    "
   ]
  },
  {
   "cell_type": "markdown",
   "metadata": {},
   "source": [
    "<br><br>\n",
    "## Server Profile Templates <a name=\"SPT\"></a>"
   ]
  },
  {
   "cell_type": "markdown",
   "metadata": {},
   "source": [
    "### Delete ALL existing Server Profile Templates <a name=\"SPT-delete\"></a>"
   ]
  },
  {
   "cell_type": "markdown",
   "metadata": {},
   "source": [
    "WARNING: Will delete ALL profiles templates unconditionally!"
   ]
  },
  {
   "cell_type": "code",
   "execution_count": null,
   "metadata": {},
   "outputs": [],
   "source": [
    "# get a list of all the spts\n",
    "spts = ov.server_profile_templates.get_all()\n",
    "\n",
    "# delete them one-by-one\n",
    "for spt in spts: \n",
    "  print(\"Deleting the Server Profile Template: \" + spt['name'] )\n",
    "  ov.server_profile_templates.delete(spt)\n"
   ]
  },
  {
   "cell_type": "markdown",
   "metadata": {},
   "source": [
    "<br><br>\n",
    "## Server Profiles <a name=\"SP\"></a>"
   ]
  },
  {
   "cell_type": "markdown",
   "metadata": {},
   "source": [
    "### Delete ALL existing Server Profiles <a name=\"SP-delete\"></a>"
   ]
  },
  {
   "cell_type": "markdown",
   "metadata": {},
   "source": [
    "WARNING: Will delete ALL profiles unconditionally!"
   ]
  },
  {
   "cell_type": "code",
   "execution_count": null,
   "metadata": {},
   "outputs": [],
   "source": [
    "# get a list of all the sp's\n",
    "sps = ov.server_profiles.get_all()\n",
    "\n",
    "# delete them one-by-one\n",
    "for sp in sps: \n",
    "  print(\"Deleting the Server Profile: \" + sp['name'] )\n",
    "  ov.server_profiles.delete(sp)\n"
   ]
  },
  {
   "cell_type": "markdown",
   "metadata": {},
   "source": [
    "### Power on/off  ALL existing Server Profiles <a name=\"SP-power\"></a>"
   ]
  },
  {
   "cell_type": "markdown",
   "metadata": {},
   "source": [
    "**Warning:** Will power on or off all profiles depending on the new_state variable"
   ]
  },
  {
   "cell_type": "code",
   "execution_count": null,
   "metadata": {},
   "outputs": [],
   "source": [
    "# what powerstate to achieve\n",
    "new_state = \"Off\" # it's either \"On\" or \"Off\"\n",
    "\n",
    "# get a list of all the sp's\n",
    "sps = ov.server_profiles.get_all()\n",
    "\n",
    "# same config for all hardware\n",
    "configuration = {\n",
    "        \"powerState\": new_state,\n",
    "        \"powerControl\": \"MomentaryPress\"\n",
    "    }\n",
    "\n",
    "# power them OFF them one-by-one\n",
    "for sp in sps: \n",
    "  # print them nicely\n",
    "  # pprint(sp)\n",
    "  sp_uri = sp['serverHardwareUri']\n",
    "  sp_name = sp['name']\n",
    "  # remember some profiles be unassigned. i.e they dont have a hardware uri\n",
    "  if sp_uri is not None:\n",
    "      print(\"Powering OFF the Server Profile: \" + sp_name + \" using ServerHardwareUri \" +  sp_uri ) \n",
    "      try:\n",
    "          ov.server_hardware.update_power_state(configuration,  sp_uri)\n",
    "          print(\"Successfully changed the power state of '\" + sp_name + \"' to \" + configuration['powerState'])\n",
    "      except HPOneViewException as e:\n",
    "          print(e.msg)\n",
    "  else:\n",
    "      print(\"Server Profile: \" + sp_name + \" is unassigned\")\n",
    "      "
   ]
  },
  {
   "cell_type": "markdown",
   "metadata": {},
   "source": [
    "<br><br>\n",
    "## Volumes <a name=\"Volumes\"></a>"
   ]
  },
  {
   "cell_type": "markdown",
   "metadata": {},
   "source": [
    "### Delete all Volumes <a name=\"Volume-deleteall\"></a><br>\n",
    "**WARNING**: This really deletes all volumes, actual command commented out."
   ]
  },
  {
   "cell_type": "code",
   "execution_count": null,
   "metadata": {},
   "outputs": [],
   "source": [
    "# get a list of all the storage templates\n",
    "volumes = ov.volumes.get_all()\n",
    "# pprint(volumes)\n",
    "\n",
    "# delete them one-by-one\n",
    "for volume in volumes: \n",
    "  print(\"Deleting the Volume: \" + volume['name'] )\n",
    "  # ov.volumes.delete(volume)"
   ]
  },
  {
   "cell_type": "markdown",
   "metadata": {},
   "source": [
    "<br><br>\n",
    "## Volume Templates <a name=\"VolumeTemplate\"></a>"
   ]
  },
  {
   "cell_type": "markdown",
   "metadata": {},
   "source": [
    "### Delete all Volume Templates <a name=\"VolumeTemplate-deleteall\"></a><br>"
   ]
  },
  {
   "cell_type": "code",
   "execution_count": null,
   "metadata": {},
   "outputs": [],
   "source": [
    "# get a list of all the storage templates\n",
    "vol_temps = ov.storage_volume_templates.get_all()\n",
    "\n",
    "# delete them one-by-one\n",
    "for vol_temp in vol_temps: \n",
    "  print(\"Deleting the Volume Template: \" + vol_temp['name'] )\n",
    "  # ov.storage_volume_templates.delete(vol_temp)"
   ]
  },
  {
   "cell_type": "markdown",
   "metadata": {},
   "source": [
    "<br><br>\n",
    "## Logical Interconnect Groups <a name=\"LIG\"></a>"
   ]
  },
  {
   "cell_type": "markdown",
   "metadata": {},
   "source": [
    "### Add a network to an existing LIGs uplinkset <a name=\"LIG-uplink-network\"></a><br>"
   ]
  },
  {
   "cell_type": "code",
   "execution_count": null,
   "metadata": {},
   "outputs": [],
   "source": [
    "lig_name = \"VC-LIG01\"\n",
    "lig_uplink_name = \"Test\"\n",
    "eth_name = \"VLAN400_10.2\"\n",
    "\n",
    "# Get the network\n",
    "eth = ov.ethernet_networks.get_by('name', eth_name)[0]\n",
    "\n",
    "# Get Logical Interconnect Group by property\n",
    "lig = ov.logical_interconnect_groups.get_by('name', lig_name)[0]\n",
    "\n",
    "lig_uplinksets = lig['uplinkSets']\n",
    "for uplinkset in lig_uplinksets:\n",
    "    #pprint(uplinkset)\n",
    "    if uplinkset['name'] == lig_uplink_name:\n",
    "        uplinkset['networkUris'].append(eth['uri'])\n",
    "        ov.logical_interconnect_groups.update(lig)\n",
    "    else:\n",
    "        print(\"Could not find the uplinkset (by_name)\")     \n",
    "\n",
    "\"\"\"   \n",
    "# Get an uplink set resource by name\n",
    "print(\"\\nGet uplink set by name\")\n",
    "uplink_set = ov.uplink_sets.get_by('name', 'Test')\n",
    "pprint(uplink_set)\n",
    "\n",
    "# Add an ethernet network to the uplink set\n",
    "# To run this example you must define an ethernet network uri or ID below\n",
    "ethernet_network_id = None\n",
    "if ethernet_network_id:\n",
    "    print(\"\\nAdd an ethernet network to the uplink set\")\n",
    "    uplink_set = ov.uplink_sets.add_ethernet_networks(created_uplink_set['uri'], ethernet_network_id)\n",
    "    print(\"The uplink set with name = '{name}' have now the networkUris:\\n {networkUris}\".format(**uplink_set))\n",
    "\n",
    "\"\"\""
   ]
  },
  {
   "cell_type": "markdown",
   "metadata": {},
   "source": [
    "<br><br>\n",
    "## Appliances <a name=\"Appliances\"></a>"
   ]
  },
  {
   "cell_type": "markdown",
   "metadata": {},
   "source": [
    "### eFuse an Appliance in bay 1/2 example <a name=\"Appliance-efuse\"></a><br>\n",
    "Table from 4.1 API spec on how to target different resources within the enclosure.<br>\n",
    "http://h17007.www1.hpe.com/docs/enterprise/servers/oneview4.1/cic-api/en/index.html#rest/enclosures\n",
    "<img src=\"images/EnclosurePatchTable.PNG\" height=\"600\" width=\"800\" align=\"left\">"
   ]
  },
  {
   "cell_type": "code",
   "execution_count": null,
   "metadata": {},
   "outputs": [],
   "source": [
    "# WARNINIG: Make sure you target the correct enclosure as well as the operation you want! Pay attention to the table above\n",
    "#           The actual patch request is commented out below for safety.\n",
    "#           This is not something you normally do, only on request from support\n",
    "\n",
    "enc_name = \"HPEDemo-POCframe01\"\n",
    "\n",
    "# Get the Enclosure\n",
    "efuse_enc = ov.enclosures.get_by('name', enc_name)\n",
    "\n",
    "# If needed pretty print the entire JSON \n",
    "#pprint (efuse_enc)\n",
    "\n",
    "# Grab the first enclosure uri\n",
    "enc_uri = efuse_enc[0]['uri']\n",
    "\n",
    "# Setup your patch request\n",
    "patch_op = \"replace\"\n",
    "#patch_path = \"/applianceBays/1/bayPowerState\"  # In a single POC frame this would be the Composer i.e Bay1\n",
    "patch_path = \"/applianceBays/2/bayPowerState\"   # In a single POC frame this would be the Image Streamer i.e Bay2\n",
    "patch_value = \"E-Fuse\" # Not the same for all paths\n",
    "\n",
    "print(\"Request a PATCH on resource \" + enc_uri + \" using \" + \"op=\" + patch_op + \" path=\" + patch_path + \" val=\" + patch_value)\n",
    "#patched_end = ov.enclosures.patch(enc_uri, patch_op, patch_path, patch_value)\n"
   ]
  },
  {
   "cell_type": "markdown",
   "metadata": {},
   "source": [
    "<br><br>\n",
    "### eFuse a compute module in bay6 in a particular frame <a name=\"Appliance-efuse-compute\"></a><br>"
   ]
  },
  {
   "cell_type": "code",
   "execution_count": null,
   "metadata": {},
   "outputs": [],
   "source": [
    "# WARNINIG: Make sure you target the correct enclosure as well as the operation you want! Pay attention to the table above\n",
    "#           The actual patch is commented out below for safety.\n",
    "#           This is not something you normally do, only on request from support\n",
    "\n",
    "enc_name = \"HPEDemo-POCframe01\"\n",
    "\n",
    "# Get the Enclosure\n",
    "efuse_enc = ov.enclosures.get_by('name', enc_name)\n",
    "\n",
    "# If needed pretty print the entire JSON \n",
    "#pprint (efuse_enc)\n",
    "\n",
    "# Grab the first enclosure uri\n",
    "enc_uri = efuse_enc[0]['uri']\n",
    "\n",
    "# Setup your patch request\n",
    "patch_op = \"replace\"\n",
    "patch_path = \"/deviceBays/6/bayPowerState\"   # In a single POC frame this would be the Computemodule in Bay6\n",
    "patch_value = \"E-Fuse\" # Not the same for all paths\n",
    "\n",
    "print(\"Request a PATCH on resource \" + enc_uri + \" using \" + \"op=\" + patch_op + \" path=\" + patch_path + \" val=\" + patch_value)\n",
    "#patched_end = ov.enclosures.patch(enc_uri, patch_op, patch_path, patch_value)"
   ]
  },
  {
   "cell_type": "code",
   "execution_count": null,
   "metadata": {},
   "outputs": [],
   "source": []
  }
 ],
 "metadata": {
  "kernelspec": {
   "display_name": "Python 3",
   "language": "python",
   "name": "python3"
  },
  "language_info": {
   "codemirror_mode": {
    "name": "ipython",
    "version": 3
   },
   "file_extension": ".py",
   "mimetype": "text/x-python",
   "name": "python",
   "nbconvert_exporter": "python",
   "pygments_lexer": "ipython3",
   "version": "3.7.1"
  }
 },
 "nbformat": 4,
 "nbformat_minor": 2
}
